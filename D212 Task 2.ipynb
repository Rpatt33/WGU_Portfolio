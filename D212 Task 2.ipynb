{
 "cells": [
  {
   "cell_type": "code",
   "execution_count": 1,
   "id": "3a7d7f27-6d79-457e-96d9-1e80daec950e",
   "metadata": {
    "tags": []
   },
   "outputs": [],
   "source": [
    "import pandas as pd\n",
    "import numpy as np\n",
    "import matplotlib.pyplot as plt\n",
    "import seaborn as sns\n",
    "from sklearn import datasets\n",
    "from sklearn.decomposition import PCA \n",
    "from sklearn.preprocessing import StandardScaler\n",
    "import warnings\n",
    "warnings.filterwarnings ('ignore')"
   ]
  },
  {
   "cell_type": "code",
   "execution_count": 2,
   "id": "1161c624-0f38-490d-803e-fc3482d74a1b",
   "metadata": {
    "tags": []
   },
   "outputs": [],
   "source": [
    "#Import csv file for PCA analysis\n",
    "mdf=pd.read_csv('/Users/robertpatton/Desktop/Desktop - Robert’s MacBook Pro/D212/medical_clean.csv')"
   ]
  },
  {
   "cell_type": "code",
   "execution_count": 3,
   "id": "0aac12f4-b2ad-4b1a-8412-2e8bb276792d",
   "metadata": {
    "tags": []
   },
   "outputs": [
    {
     "name": "stdout",
     "output_type": "stream",
     "text": [
      "<class 'pandas.core.frame.DataFrame'>\n",
      "RangeIndex: 10000 entries, 0 to 9999\n",
      "Data columns (total 50 columns):\n",
      " #   Column              Non-Null Count  Dtype  \n",
      "---  ------              --------------  -----  \n",
      " 0   CaseOrder           10000 non-null  int64  \n",
      " 1   Customer_id         10000 non-null  object \n",
      " 2   Interaction         10000 non-null  object \n",
      " 3   UID                 10000 non-null  object \n",
      " 4   City                10000 non-null  object \n",
      " 5   State               10000 non-null  object \n",
      " 6   County              10000 non-null  object \n",
      " 7   Zip                 10000 non-null  int64  \n",
      " 8   Lat                 10000 non-null  float64\n",
      " 9   Lng                 10000 non-null  float64\n",
      " 10  Population          10000 non-null  int64  \n",
      " 11  Area                10000 non-null  object \n",
      " 12  TimeZone            10000 non-null  object \n",
      " 13  Job                 10000 non-null  object \n",
      " 14  Children            10000 non-null  int64  \n",
      " 15  Age                 10000 non-null  int64  \n",
      " 16  Income              10000 non-null  float64\n",
      " 17  Marital             10000 non-null  object \n",
      " 18  Gender              10000 non-null  object \n",
      " 19  ReAdmis             10000 non-null  object \n",
      " 20  VitD_levels         10000 non-null  float64\n",
      " 21  Doc_visits          10000 non-null  int64  \n",
      " 22  Full_meals_eaten    10000 non-null  int64  \n",
      " 23  vitD_supp           10000 non-null  int64  \n",
      " 24  Soft_drink          10000 non-null  object \n",
      " 25  Initial_admin       10000 non-null  object \n",
      " 26  HighBlood           10000 non-null  object \n",
      " 27  Stroke              10000 non-null  object \n",
      " 28  Complication_risk   10000 non-null  object \n",
      " 29  Overweight          10000 non-null  object \n",
      " 30  Arthritis           10000 non-null  object \n",
      " 31  Diabetes            10000 non-null  object \n",
      " 32  Hyperlipidemia      10000 non-null  object \n",
      " 33  BackPain            10000 non-null  object \n",
      " 34  Anxiety             10000 non-null  object \n",
      " 35  Allergic_rhinitis   10000 non-null  object \n",
      " 36  Reflux_esophagitis  10000 non-null  object \n",
      " 37  Asthma              10000 non-null  object \n",
      " 38  Services            10000 non-null  object \n",
      " 39  Initial_days        10000 non-null  float64\n",
      " 40  TotalCharge         10000 non-null  float64\n",
      " 41  Additional_charges  10000 non-null  float64\n",
      " 42  Item1               10000 non-null  int64  \n",
      " 43  Item2               10000 non-null  int64  \n",
      " 44  Item3               10000 non-null  int64  \n",
      " 45  Item4               10000 non-null  int64  \n",
      " 46  Item5               10000 non-null  int64  \n",
      " 47  Item6               10000 non-null  int64  \n",
      " 48  Item7               10000 non-null  int64  \n",
      " 49  Item8               10000 non-null  int64  \n",
      "dtypes: float64(7), int64(16), object(27)\n",
      "memory usage: 3.8+ MB\n"
     ]
    }
   ],
   "source": [
    "# Examine data info\n",
    "mdf.info()"
   ]
  },
  {
   "cell_type": "code",
   "execution_count": 4,
   "id": "f8bb7869-f786-46dc-8976-626093d44c02",
   "metadata": {
    "tags": []
   },
   "outputs": [
    {
     "data": {
      "text/plain": [
       "CaseOrder             0\n",
       "Customer_id           0\n",
       "Interaction           0\n",
       "UID                   0\n",
       "City                  0\n",
       "State                 0\n",
       "County                0\n",
       "Zip                   0\n",
       "Lat                   0\n",
       "Lng                   0\n",
       "Population            0\n",
       "Area                  0\n",
       "TimeZone              0\n",
       "Job                   0\n",
       "Children              0\n",
       "Age                   0\n",
       "Income                0\n",
       "Marital               0\n",
       "Gender                0\n",
       "ReAdmis               0\n",
       "VitD_levels           0\n",
       "Doc_visits            0\n",
       "Full_meals_eaten      0\n",
       "vitD_supp             0\n",
       "Soft_drink            0\n",
       "Initial_admin         0\n",
       "HighBlood             0\n",
       "Stroke                0\n",
       "Complication_risk     0\n",
       "Overweight            0\n",
       "Arthritis             0\n",
       "Diabetes              0\n",
       "Hyperlipidemia        0\n",
       "BackPain              0\n",
       "Anxiety               0\n",
       "Allergic_rhinitis     0\n",
       "Reflux_esophagitis    0\n",
       "Asthma                0\n",
       "Services              0\n",
       "Initial_days          0\n",
       "TotalCharge           0\n",
       "Additional_charges    0\n",
       "Item1                 0\n",
       "Item2                 0\n",
       "Item3                 0\n",
       "Item4                 0\n",
       "Item5                 0\n",
       "Item6                 0\n",
       "Item7                 0\n",
       "Item8                 0\n",
       "dtype: int64"
      ]
     },
     "execution_count": 4,
     "metadata": {},
     "output_type": "execute_result"
    }
   ],
   "source": [
    "#Check for missing values\n",
    "mdf.isnull().sum()"
   ]
  },
  {
   "cell_type": "code",
   "execution_count": 5,
   "id": "5b6f892f-573f-4e6e-ace1-780ac7ce45b7",
   "metadata": {
    "tags": []
   },
   "outputs": [
    {
     "data": {
      "text/plain": [
       "0       False\n",
       "1       False\n",
       "2       False\n",
       "3       False\n",
       "4       False\n",
       "        ...  \n",
       "9995    False\n",
       "9996    False\n",
       "9997    False\n",
       "9998    False\n",
       "9999    False\n",
       "Length: 10000, dtype: bool"
      ]
     },
     "execution_count": 5,
     "metadata": {},
     "output_type": "execute_result"
    }
   ],
   "source": [
    "#Check for duplicate values\n",
    "mdf.duplicated()"
   ]
  },
  {
   "cell_type": "code",
   "execution_count": 6,
   "id": "a3ae6d6a-301a-4253-96c0-b7cb07d26b4e",
   "metadata": {
    "tags": []
   },
   "outputs": [
    {
     "data": {
      "text/plain": [
       "Index(['CaseOrder', 'Zip', 'Lat', 'Lng', 'Population', 'Children', 'Age',\n",
       "       'Income', 'VitD_levels', 'Doc_visits', 'Full_meals_eaten', 'vitD_supp',\n",
       "       'Initial_days', 'TotalCharge', 'Additional_charges', 'Item1', 'Item2',\n",
       "       'Item3', 'Item4', 'Item5', 'Item6', 'Item7', 'Item8'],\n",
       "      dtype='object')"
      ]
     },
     "execution_count": 6,
     "metadata": {},
     "output_type": "execute_result"
    }
   ],
   "source": [
    "#Separate data and get quantitative data types only\n",
    "mdf_num=mdf.select_dtypes('number')\n",
    "mdf_num.columns"
   ]
  },
  {
   "cell_type": "code",
   "execution_count": 7,
   "id": "718cbc30-bfe1-47f6-803f-497e4057200f",
   "metadata": {
    "tags": []
   },
   "outputs": [
    {
     "data": {
      "text/plain": [
       "(10000, 23)"
      ]
     },
     "execution_count": 7,
     "metadata": {},
     "output_type": "execute_result"
    }
   ],
   "source": [
    "#Get shape of numerical data\n",
    "mdf_num.shape"
   ]
  },
  {
   "cell_type": "code",
   "execution_count": 8,
   "id": "1ec33c77-feea-4a66-992f-1d28d2b5594a",
   "metadata": {
    "tags": []
   },
   "outputs": [
    {
     "data": {
      "text/plain": [
       "Index(['Lat', 'Lng', 'Age', 'Income', 'VitD_levels', 'Initial_days',\n",
       "       'TotalCharge', 'Additional_charges'],\n",
       "      dtype='object')"
      ]
     },
     "execution_count": 8,
     "metadata": {},
     "output_type": "execute_result"
    }
   ],
   "source": [
    "#Drop non-continuous numeric variables\n",
    "cont_variables=mdf_num.drop(['CaseOrder', 'Doc_visits', 'Population', 'Full_meals_eaten', 'vitD_supp', 'Zip', 'Children', 'Item1', 'Item2', 'Item3', 'Item4', 'Item5', 'Item6', 'Item7', 'Item8'], axis=1)\n",
    "cont_variables.columns"
   ]
  },
  {
   "cell_type": "code",
   "execution_count": 9,
   "id": "475042fb-d96d-4bb6-be2d-c27827c3497f",
   "metadata": {
    "tags": []
   },
   "outputs": [
    {
     "data": {
      "text/plain": [
       "(10000, 8)"
      ]
     },
     "execution_count": 9,
     "metadata": {},
     "output_type": "execute_result"
    }
   ],
   "source": [
    "#Get shape of count_variables\n",
    "cont_variables.shape"
   ]
  },
  {
   "cell_type": "code",
   "execution_count": 10,
   "id": "d8343473-282d-47be-b701-d749d47b7c55",
   "metadata": {
    "tags": []
   },
   "outputs": [
    {
     "data": {
      "image/png": "[encoded data removed]",
      "text/plain": [
       "<Figure size 1600x600 with 2 Axes>"
      ]
     },
     "metadata": {},
     "output_type": "display_data"
    }
   ],
   "source": [
    "#Create correlation heatmap for numerical continuous variables\n",
    "ax=plt.subplots(figsize=(16,6))\n",
    "sns.heatmap(cont_variables.corr(), annot=True)\n",
    "plt.show()"
   ]
  },
  {
   "cell_type": "code",
   "execution_count": 11,
   "id": "9b88a004-5cbd-4b0d-ae60-dd24137ef3af",
   "metadata": {
    "tags": []
   },
   "outputs": [
    {
     "data": {
      "text/html": [
       "<div>\n",
       "<style scoped>\n",
       "    .dataframe tbody tr th:only-of-type {\n",
       "        vertical-align: middle;\n",
       "    }\n",
       "\n",
       "    .dataframe tbody tr th {\n",
       "        vertical-align: top;\n",
       "    }\n",
       "\n",
       "    .dataframe thead th {\n",
       "        text-align: right;\n",
       "    }\n",
       "</style>\n",
       "<table border=\"1\" class=\"dataframe\">\n",
       "  <thead>\n",
       "    <tr style=\"text-align: right;\">\n",
       "      <th></th>\n",
       "      <th>0</th>\n",
       "      <th>1</th>\n",
       "      <th>2</th>\n",
       "      <th>3</th>\n",
       "      <th>4</th>\n",
       "      <th>5</th>\n",
       "      <th>6</th>\n",
       "      <th>7</th>\n",
       "    </tr>\n",
       "  </thead>\n",
       "  <tbody>\n",
       "    <tr>\n",
       "      <th>0</th>\n",
       "      <td>-0.814668</td>\n",
       "      <td>0.297134</td>\n",
       "      <td>-0.024795</td>\n",
       "      <td>1.615914</td>\n",
       "      <td>0.583603</td>\n",
       "      <td>-0.907310</td>\n",
       "      <td>-0.727185</td>\n",
       "      <td>0.765005</td>\n",
       "    </tr>\n",
       "    <tr>\n",
       "      <th>1</th>\n",
       "      <td>-1.463305</td>\n",
       "      <td>0.395522</td>\n",
       "      <td>-0.121706</td>\n",
       "      <td>0.221443</td>\n",
       "      <td>0.483901</td>\n",
       "      <td>-0.734595</td>\n",
       "      <td>-0.513228</td>\n",
       "      <td>0.715114</td>\n",
       "    </tr>\n",
       "    <tr>\n",
       "      <th>2</th>\n",
       "      <td>0.886966</td>\n",
       "      <td>-0.354788</td>\n",
       "      <td>-0.024795</td>\n",
       "      <td>-0.915870</td>\n",
       "      <td>0.046227</td>\n",
       "      <td>-1.128292</td>\n",
       "      <td>-1.319983</td>\n",
       "      <td>0.698635</td>\n",
       "    </tr>\n",
       "    <tr>\n",
       "      <th>3</th>\n",
       "      <td>0.952530</td>\n",
       "      <td>-0.149403</td>\n",
       "      <td>1.186592</td>\n",
       "      <td>-0.026263</td>\n",
       "      <td>-0.687811</td>\n",
       "      <td>-1.244503</td>\n",
       "      <td>-1.460517</td>\n",
       "      <td>0.009004</td>\n",
       "    </tr>\n",
       "    <tr>\n",
       "      <th>4</th>\n",
       "      <td>-0.213252</td>\n",
       "      <td>0.943984</td>\n",
       "      <td>-1.526914</td>\n",
       "      <td>-1.377325</td>\n",
       "      <td>-0.260366</td>\n",
       "      <td>-1.261991</td>\n",
       "      <td>-1.467285</td>\n",
       "      <td>-1.408991</td>\n",
       "    </tr>\n",
       "    <tr>\n",
       "      <th>...</th>\n",
       "      <td>...</td>\n",
       "      <td>...</td>\n",
       "      <td>...</td>\n",
       "      <td>...</td>\n",
       "      <td>...</td>\n",
       "      <td>...</td>\n",
       "      <td>...</td>\n",
       "      <td>...</td>\n",
       "    </tr>\n",
       "    <tr>\n",
       "      <th>9995</th>\n",
       "      <td>-0.429820</td>\n",
       "      <td>0.855358</td>\n",
       "      <td>-1.381548</td>\n",
       "      <td>0.192047</td>\n",
       "      <td>-0.487525</td>\n",
       "      <td>0.650217</td>\n",
       "      <td>0.705765</td>\n",
       "      <td>-0.612461</td>\n",
       "    </tr>\n",
       "    <tr>\n",
       "      <th>9996</th>\n",
       "      <td>0.126784</td>\n",
       "      <td>1.076607</td>\n",
       "      <td>1.622691</td>\n",
       "      <td>-0.894380</td>\n",
       "      <td>0.105476</td>\n",
       "      <td>1.300475</td>\n",
       "      <td>1.114312</td>\n",
       "      <td>2.380307</td>\n",
       "    </tr>\n",
       "    <tr>\n",
       "      <th>9997</th>\n",
       "      <td>-0.441353</td>\n",
       "      <td>0.259332</td>\n",
       "      <td>-0.412438</td>\n",
       "      <td>0.891569</td>\n",
       "      <td>-0.414049</td>\n",
       "      <td>1.356958</td>\n",
       "      <td>1.359597</td>\n",
       "      <td>0.358695</td>\n",
       "    </tr>\n",
       "    <tr>\n",
       "      <th>9998</th>\n",
       "      <td>0.990676</td>\n",
       "      <td>-0.708494</td>\n",
       "      <td>-0.509349</td>\n",
       "      <td>-0.378271</td>\n",
       "      <td>0.964820</td>\n",
       "      <td>1.098585</td>\n",
       "      <td>1.069727</td>\n",
       "      <td>-0.787624</td>\n",
       "    </tr>\n",
       "    <tr>\n",
       "      <th>9999</th>\n",
       "      <td>0.323698</td>\n",
       "      <td>0.726295</td>\n",
       "      <td>0.798948</td>\n",
       "      <td>0.778133</td>\n",
       "      <td>0.210377</td>\n",
       "      <td>1.383429</td>\n",
       "      <td>1.181213</td>\n",
       "      <td>-0.197384</td>\n",
       "    </tr>\n",
       "  </tbody>\n",
       "</table>\n",
       "<p>10000 rows × 8 columns</p>\n",
       "</div>"
      ],
      "text/plain": [
       "             0         1         2         3         4         5         6  \\\n",
       "0    -0.814668  0.297134 -0.024795  1.615914  0.583603 -0.907310 -0.727185   \n",
       "1    -1.463305  0.395522 -0.121706  0.221443  0.483901 -0.734595 -0.513228   \n",
       "2     0.886966 -0.354788 -0.024795 -0.915870  0.046227 -1.128292 -1.319983   \n",
       "3     0.952530 -0.149403  1.186592 -0.026263 -0.687811 -1.244503 -1.460517   \n",
       "4    -0.213252  0.943984 -1.526914 -1.377325 -0.260366 -1.261991 -1.467285   \n",
       "...        ...       ...       ...       ...       ...       ...       ...   \n",
       "9995 -0.429820  0.855358 -1.381548  0.192047 -0.487525  0.650217  0.705765   \n",
       "9996  0.126784  1.076607  1.622691 -0.894380  0.105476  1.300475  1.114312   \n",
       "9997 -0.441353  0.259332 -0.412438  0.891569 -0.414049  1.356958  1.359597   \n",
       "9998  0.990676 -0.708494 -0.509349 -0.378271  0.964820  1.098585  1.069727   \n",
       "9999  0.323698  0.726295  0.798948  0.778133  0.210377  1.383429  1.181213   \n",
       "\n",
       "             7  \n",
       "0     0.765005  \n",
       "1     0.715114  \n",
       "2     0.698635  \n",
       "3     0.009004  \n",
       "4    -1.408991  \n",
       "...        ...  \n",
       "9995 -0.612461  \n",
       "9996  2.380307  \n",
       "9997  0.358695  \n",
       "9998 -0.787624  \n",
       "9999 -0.197384  \n",
       "\n",
       "[10000 rows x 8 columns]"
      ]
     },
     "execution_count": 11,
     "metadata": {},
     "output_type": "execute_result"
    }
   ],
   "source": [
    "#Standardize the data using standard scaler\n",
    "scaler=StandardScaler()\n",
    "cont_std=pd.DataFrame(scaler.fit_transform(cont_variables))\n",
    "cont_std"
   ]
  },
  {
   "cell_type": "code",
   "execution_count": 12,
   "id": "ff11d58d-073c-4e9a-8997-c81c2ef5660e",
   "metadata": {
    "tags": []
   },
   "outputs": [
    {
     "data": {
      "text/html": [
       "<div>\n",
       "<style scoped>\n",
       "    .dataframe tbody tr th:only-of-type {\n",
       "        vertical-align: middle;\n",
       "    }\n",
       "\n",
       "    .dataframe tbody tr th {\n",
       "        vertical-align: top;\n",
       "    }\n",
       "\n",
       "    .dataframe thead th {\n",
       "        text-align: right;\n",
       "    }\n",
       "</style>\n",
       "<table border=\"1\" class=\"dataframe\">\n",
       "  <thead>\n",
       "    <tr style=\"text-align: right;\">\n",
       "      <th></th>\n",
       "      <th>PC1</th>\n",
       "      <th>PC2</th>\n",
       "      <th>PC3</th>\n",
       "      <th>PC4</th>\n",
       "      <th>PC5</th>\n",
       "      <th>PC6</th>\n",
       "      <th>PC7</th>\n",
       "      <th>PC8</th>\n",
       "    </tr>\n",
       "  </thead>\n",
       "  <tbody>\n",
       "    <tr>\n",
       "      <th>0</th>\n",
       "      <td>-1.109593</td>\n",
       "      <td>0.651893</td>\n",
       "      <td>-0.880131</td>\n",
       "      <td>0.737566</td>\n",
       "      <td>1.525935</td>\n",
       "      <td>0.091127</td>\n",
       "      <td>-0.566029</td>\n",
       "      <td>0.098145</td>\n",
       "    </tr>\n",
       "    <tr>\n",
       "      <th>1</th>\n",
       "      <td>-0.814662</td>\n",
       "      <td>0.546376</td>\n",
       "      <td>-1.292409</td>\n",
       "      <td>-0.228375</td>\n",
       "      <td>0.583492</td>\n",
       "      <td>0.708165</td>\n",
       "      <td>-0.606740</td>\n",
       "      <td>0.123933</td>\n",
       "    </tr>\n",
       "    <tr>\n",
       "      <th>2</th>\n",
       "      <td>-1.649047</td>\n",
       "      <td>0.689401</td>\n",
       "      <td>0.969270</td>\n",
       "      <td>-0.636872</td>\n",
       "      <td>-0.635084</td>\n",
       "      <td>-0.192318</td>\n",
       "      <td>-0.501399</td>\n",
       "      <td>-0.161873</td>\n",
       "    </tr>\n",
       "    <tr>\n",
       "      <th>3</th>\n",
       "      <td>-1.804637</td>\n",
       "      <td>1.048508</td>\n",
       "      <td>0.744546</td>\n",
       "      <td>0.479089</td>\n",
       "      <td>-0.619186</td>\n",
       "      <td>-0.492171</td>\n",
       "      <td>0.844706</td>\n",
       "      <td>-0.119483</td>\n",
       "    </tr>\n",
       "    <tr>\n",
       "      <th>4</th>\n",
       "      <td>-2.145703</td>\n",
       "      <td>-1.792673</td>\n",
       "      <td>-0.724168</td>\n",
       "      <td>-1.034678</td>\n",
       "      <td>-1.215172</td>\n",
       "      <td>-0.219533</td>\n",
       "      <td>-0.087901</td>\n",
       "      <td>-0.135660</td>\n",
       "    </tr>\n",
       "    <tr>\n",
       "      <th>...</th>\n",
       "      <td>...</td>\n",
       "      <td>...</td>\n",
       "      <td>...</td>\n",
       "      <td>...</td>\n",
       "      <td>...</td>\n",
       "      <td>...</td>\n",
       "      <td>...</td>\n",
       "      <td>...</td>\n",
       "    </tr>\n",
       "    <tr>\n",
       "      <th>9995</th>\n",
       "      <td>0.773657</td>\n",
       "      <td>-1.515386</td>\n",
       "      <td>-0.959924</td>\n",
       "      <td>0.314325</td>\n",
       "      <td>-0.277746</td>\n",
       "      <td>-0.313721</td>\n",
       "      <td>-0.551542</td>\n",
       "      <td>0.025645</td>\n",
       "    </tr>\n",
       "    <tr>\n",
       "      <th>9996</th>\n",
       "      <td>2.043313</td>\n",
       "      <td>2.628520</td>\n",
       "      <td>-0.545463</td>\n",
       "      <td>-0.766477</td>\n",
       "      <td>-0.627316</td>\n",
       "      <td>-0.731947</td>\n",
       "      <td>-0.536649</td>\n",
       "      <td>-0.177726</td>\n",
       "    </tr>\n",
       "    <tr>\n",
       "      <th>9997</th>\n",
       "      <td>1.886872</td>\n",
       "      <td>-0.289870</td>\n",
       "      <td>-0.595204</td>\n",
       "      <td>0.903734</td>\n",
       "      <td>0.320697</td>\n",
       "      <td>-0.035317</td>\n",
       "      <td>-0.545108</td>\n",
       "      <td>-0.020843</td>\n",
       "    </tr>\n",
       "    <tr>\n",
       "      <th>9998</th>\n",
       "      <td>1.410539</td>\n",
       "      <td>-1.087100</td>\n",
       "      <td>1.274091</td>\n",
       "      <td>-0.829783</td>\n",
       "      <td>0.466517</td>\n",
       "      <td>-0.214954</td>\n",
       "      <td>0.203083</td>\n",
       "      <td>-0.004829</td>\n",
       "    </tr>\n",
       "    <tr>\n",
       "      <th>9999</th>\n",
       "      <td>1.822673</td>\n",
       "      <td>0.194804</td>\n",
       "      <td>-0.336535</td>\n",
       "      <td>0.352566</td>\n",
       "      <td>0.577527</td>\n",
       "      <td>-0.906947</td>\n",
       "      <td>0.708427</td>\n",
       "      <td>-0.113366</td>\n",
       "    </tr>\n",
       "  </tbody>\n",
       "</table>\n",
       "<p>10000 rows × 8 columns</p>\n",
       "</div>"
      ],
      "text/plain": [
       "           PC1       PC2       PC3       PC4       PC5       PC6       PC7  \\\n",
       "0    -1.109593  0.651893 -0.880131  0.737566  1.525935  0.091127 -0.566029   \n",
       "1    -0.814662  0.546376 -1.292409 -0.228375  0.583492  0.708165 -0.606740   \n",
       "2    -1.649047  0.689401  0.969270 -0.636872 -0.635084 -0.192318 -0.501399   \n",
       "3    -1.804637  1.048508  0.744546  0.479089 -0.619186 -0.492171  0.844706   \n",
       "4    -2.145703 -1.792673 -0.724168 -1.034678 -1.215172 -0.219533 -0.087901   \n",
       "...        ...       ...       ...       ...       ...       ...       ...   \n",
       "9995  0.773657 -1.515386 -0.959924  0.314325 -0.277746 -0.313721 -0.551542   \n",
       "9996  2.043313  2.628520 -0.545463 -0.766477 -0.627316 -0.731947 -0.536649   \n",
       "9997  1.886872 -0.289870 -0.595204  0.903734  0.320697 -0.035317 -0.545108   \n",
       "9998  1.410539 -1.087100  1.274091 -0.829783  0.466517 -0.214954  0.203083   \n",
       "9999  1.822673  0.194804 -0.336535  0.352566  0.577527 -0.906947  0.708427   \n",
       "\n",
       "           PC8  \n",
       "0     0.098145  \n",
       "1     0.123933  \n",
       "2    -0.161873  \n",
       "3    -0.119483  \n",
       "4    -0.135660  \n",
       "...        ...  \n",
       "9995  0.025645  \n",
       "9996 -0.177726  \n",
       "9997 -0.020843  \n",
       "9998 -0.004829  \n",
       "9999 -0.113366  \n",
       "\n",
       "[10000 rows x 8 columns]"
      ]
     },
     "execution_count": 12,
     "metadata": {},
     "output_type": "execute_result"
    }
   ],
   "source": [
    "#Create an pca instance\n",
    "pca=PCA()\n",
    "pc= pca.fit_transform(cont_std)\n",
    "pc_df= pd.DataFrame(pc, columns=['PC1', 'PC2', 'PC3', 'PC4', 'PC5', 'PC6', 'PC7', 'PC8'])\n",
    "pc_df"
   ]
  },
  {
   "cell_type": "code",
   "execution_count": 13,
   "id": "a529c65f-6284-4c24-a9cd-1dce56ae0174",
   "metadata": {
    "tags": []
   },
   "outputs": [
    {
     "data": {
      "text/html": [
       "<div>\n",
       "<style scoped>\n",
       "    .dataframe tbody tr th:only-of-type {\n",
       "        vertical-align: middle;\n",
       "    }\n",
       "\n",
       "    .dataframe tbody tr th {\n",
       "        vertical-align: top;\n",
       "    }\n",
       "\n",
       "    .dataframe thead th {\n",
       "        text-align: right;\n",
       "    }\n",
       "</style>\n",
       "<table border=\"1\" class=\"dataframe\">\n",
       "  <thead>\n",
       "    <tr style=\"text-align: right;\">\n",
       "      <th></th>\n",
       "      <th>Lat</th>\n",
       "      <th>Lng</th>\n",
       "      <th>Age</th>\n",
       "      <th>Income</th>\n",
       "      <th>VitD_levels</th>\n",
       "      <th>Initial_days</th>\n",
       "      <th>TotalCharge</th>\n",
       "      <th>Additional_charges</th>\n",
       "    </tr>\n",
       "  </thead>\n",
       "  <tbody>\n",
       "    <tr>\n",
       "      <th>PC1</th>\n",
       "      <td>-0.013079</td>\n",
       "      <td>-0.010528</td>\n",
       "      <td>0.085809</td>\n",
       "      <td>-0.020516</td>\n",
       "      <td>-0.001636</td>\n",
       "      <td>0.701050</td>\n",
       "      <td>0.702184</td>\n",
       "      <td>0.086013</td>\n",
       "    </tr>\n",
       "    <tr>\n",
       "      <th>PC2</th>\n",
       "      <td>-0.008216</td>\n",
       "      <td>0.010934</td>\n",
       "      <td>0.701541</td>\n",
       "      <td>-0.018690</td>\n",
       "      <td>0.019146</td>\n",
       "      <td>-0.091424</td>\n",
       "      <td>-0.080868</td>\n",
       "      <td>0.701455</td>\n",
       "    </tr>\n",
       "    <tr>\n",
       "      <th>PC3</th>\n",
       "      <td>0.707443</td>\n",
       "      <td>-0.698601</td>\n",
       "      <td>0.002471</td>\n",
       "      <td>-0.087846</td>\n",
       "      <td>0.059987</td>\n",
       "      <td>-0.000290</td>\n",
       "      <td>-0.001272</td>\n",
       "      <td>0.012542</td>\n",
       "    </tr>\n",
       "    <tr>\n",
       "      <th>PC4</th>\n",
       "      <td>0.010501</td>\n",
       "      <td>-0.137959</td>\n",
       "      <td>0.017929</td>\n",
       "      <td>0.725834</td>\n",
       "      <td>-0.673096</td>\n",
       "      <td>0.007525</td>\n",
       "      <td>0.005167</td>\n",
       "      <td>0.023631</td>\n",
       "    </tr>\n",
       "    <tr>\n",
       "      <th>PC5</th>\n",
       "      <td>-0.093762</td>\n",
       "      <td>-0.114966</td>\n",
       "      <td>-0.000156</td>\n",
       "      <td>0.661202</td>\n",
       "      <td>0.735289</td>\n",
       "      <td>0.008485</td>\n",
       "      <td>0.009042</td>\n",
       "      <td>0.000546</td>\n",
       "    </tr>\n",
       "    <tr>\n",
       "      <th>PC6</th>\n",
       "      <td>-0.700262</td>\n",
       "      <td>-0.692410</td>\n",
       "      <td>-0.003099</td>\n",
       "      <td>-0.165777</td>\n",
       "      <td>-0.048152</td>\n",
       "      <td>-0.014659</td>\n",
       "      <td>-0.013262</td>\n",
       "      <td>-0.000853</td>\n",
       "    </tr>\n",
       "    <tr>\n",
       "      <th>PC7</th>\n",
       "      <td>0.003858</td>\n",
       "      <td>-0.006681</td>\n",
       "      <td>0.706716</td>\n",
       "      <td>0.002308</td>\n",
       "      <td>-0.001932</td>\n",
       "      <td>0.031677</td>\n",
       "      <td>-0.031469</td>\n",
       "      <td>-0.706038</td>\n",
       "    </tr>\n",
       "    <tr>\n",
       "      <th>PC8</th>\n",
       "      <td>0.001483</td>\n",
       "      <td>-0.000357</td>\n",
       "      <td>0.026313</td>\n",
       "      <td>0.001312</td>\n",
       "      <td>-0.001552</td>\n",
       "      <td>-0.706274</td>\n",
       "      <td>0.706486</td>\n",
       "      <td>-0.036819</td>\n",
       "    </tr>\n",
       "  </tbody>\n",
       "</table>\n",
       "</div>"
      ],
      "text/plain": [
       "          Lat       Lng       Age    Income  VitD_levels  Initial_days  \\\n",
       "PC1 -0.013079 -0.010528  0.085809 -0.020516    -0.001636      0.701050   \n",
       "PC2 -0.008216  0.010934  0.701541 -0.018690     0.019146     -0.091424   \n",
       "PC3  0.707443 -0.698601  0.002471 -0.087846     0.059987     -0.000290   \n",
       "PC4  0.010501 -0.137959  0.017929  0.725834    -0.673096      0.007525   \n",
       "PC5 -0.093762 -0.114966 -0.000156  0.661202     0.735289      0.008485   \n",
       "PC6 -0.700262 -0.692410 -0.003099 -0.165777    -0.048152     -0.014659   \n",
       "PC7  0.003858 -0.006681  0.706716  0.002308    -0.001932      0.031677   \n",
       "PC8  0.001483 -0.000357  0.026313  0.001312    -0.001552     -0.706274   \n",
       "\n",
       "     TotalCharge  Additional_charges  \n",
       "PC1     0.702184            0.086013  \n",
       "PC2    -0.080868            0.701455  \n",
       "PC3    -0.001272            0.012542  \n",
       "PC4     0.005167            0.023631  \n",
       "PC5     0.009042            0.000546  \n",
       "PC6    -0.013262           -0.000853  \n",
       "PC7    -0.031469           -0.706038  \n",
       "PC8     0.706486           -0.036819  "
      ]
     },
     "execution_count": 13,
     "metadata": {},
     "output_type": "execute_result"
    }
   ],
   "source": [
    "#Create loadings matrix\n",
    "loadings=pd.DataFrame(pca.components_.T, columns=['PC1', 'PC2', 'PC3', 'PC4', 'PC5', 'PC6', 'PC7', 'PC8'], index=cont_variables.columns).T\n",
    "loadings"
   ]
  },
  {
   "cell_type": "code",
   "execution_count": 14,
   "id": "e94de2fa-e4ad-4741-bcb2-bda1c6b8c2ed",
   "metadata": {
    "tags": []
   },
   "outputs": [
    {
     "data": {
      "text/plain": [
       "array([1, 2, 3, 4, 5, 6, 7, 8])"
      ]
     },
     "execution_count": 14,
     "metadata": {},
     "output_type": "execute_result"
    }
   ],
   "source": [
    "#Arrange components begining with 1 \n",
    "pcomp=np.arange(pca.n_components_) +1\n",
    "pcomp"
   ]
  },
  {
   "cell_type": "code",
   "execution_count": 15,
   "id": "ad78a2f9-0bd8-4255-a7bf-7ad70808659c",
   "metadata": {
    "tags": []
   },
   "outputs": [
    {
     "data": {
      "text/plain": [
       "array([0.24905583, 0.21418876, 0.13917904, 0.12653693, 0.12361996,\n",
       "       0.11050075, 0.03545408, 0.00146465])"
      ]
     },
     "execution_count": 15,
     "metadata": {},
     "output_type": "execute_result"
    }
   ],
   "source": [
    "#Observe explained ratio variance\n",
    "exp_var= pca.explained_variance_ratio_\n",
    "exp_var"
   ]
  },
  {
   "cell_type": "code",
   "execution_count": 22,
   "id": "c34d582e-d412-4afb-b1a8-47b11dc151cc",
   "metadata": {
    "tags": []
   },
   "outputs": [
    {
     "name": "stdout",
     "output_type": "stream",
     "text": [
      "[0.24905583 0.46324459 0.60242364 0.72896056 0.85258052 0.96308127\n",
      " 0.99853535 1.        ]\n"
     ]
    }
   ],
   "source": [
    "#Calculate cumulative sum of variance ratios\n",
    "cum_sum=np.cumsum(pca.explained_variance_ratio_)\n",
    "print(cum_sum)"
   ]
  },
  {
   "cell_type": "code",
   "execution_count": 17,
   "id": "3fbb3205-5ebd-460e-ab2b-7277462cc49b",
   "metadata": {},
   "outputs": [
    {
     "data": {
      "image/png": "[encoded data removed]",
      "text/plain": [
       "<Figure size 1300x600 with 1 Axes>"
      ]
     },
     "metadata": {},
     "output_type": "display_data"
    }
   ],
   "source": [
    "#Construct Elbow plot to confirm optimal number of components\n",
    "plt.figure(figsize=(13,6))\n",
    "plt.plot(pcomp, exp_var, 'b-')\n",
    "plt.title('Scree Plot (Elbow Method)')\n",
    "plt.xlabel('Number of Components')\n",
    "plt.ylabel('Variance Proportion')\n",
    "plt.grid()\n",
    "plt.show()\n"
   ]
  },
  {
   "cell_type": "code",
   "execution_count": 26,
   "id": "545c84cf-39de-45a9-ab05-784bdefa3e1b",
   "metadata": {
    "tags": []
   },
   "outputs": [
    {
     "data": {
      "text/plain": [
       "[<matplotlib.lines.Line2D at 0x305735510>]"
      ]
     },
     "execution_count": 26,
     "metadata": {},
     "output_type": "execute_result"
    },
    {
     "data": {
      "image/png": "[encoded data removed]",
      "text/plain": [
       "<Figure size 640x480 with 1 Axes>"
      ]
     },
     "metadata": {},
     "output_type": "display_data"
    }
   ],
   "source": [
    "#Visualize total variance captured by components\n",
    "var=cum_sum*100\n",
    "plt.ylabel('% Variance Explained')\n",
    "plt.xlabel('Number of Components')\n",
    "plt.title('Cumulative Variance')\n",
    "plt.grid()\n",
    "plt.ylim(0, 110.5)\n",
    "plt.plot(var)"
   ]
  },
  {
   "cell_type": "code",
   "execution_count": 18,
   "id": "207e5953-0fe8-4022-9285-d300578287f9",
   "metadata": {
    "tags": []
   },
   "outputs": [],
   "source": [
    "cont_std.to_csv('/Users/robertpatton/Desktop/D212_std.csv')"
   ]
  },
  {
   "cell_type": "code",
   "execution_count": null,
   "id": "cc5c9e3a-533b-4e03-a0db-7e313133e05f",
   "metadata": {},
   "outputs": [],
   "source": []
  }
 ],
 "metadata": {
  "kernelspec": {
   "display_name": "Python 3 (ipykernel)",
   "language": "python",
   "name": "python3"
  },
  "language_info": {
   "codemirror_mode": {
    "name": "ipython",
    "version": 3
   },
   "file_extension": ".py",
   "mimetype": "text/x-python",
   "name": "python",
   "nbconvert_exporter": "python",
   "pygments_lexer": "ipython3",
   "version": "3.11.4"
  }
 },
 "nbformat": 4,
 "nbformat_minor": 5
}
