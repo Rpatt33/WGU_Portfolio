{
 "cells": [
  {
   "cell_type": "code",
   "execution_count": 1,
   "id": "68d13bac-4d6b-45c3-85e2-cc7f91a64942",
   "metadata": {
    "tags": []
   },
   "outputs": [],
   "source": [
    "# Import all libraries and packages\n",
    "import pandas as pd\n",
    "import numpy as np\n",
    "%matplotlib inline\n",
    "import matplotlib.pyplot as plt\n",
    "import seaborn as sns\n",
    "from sklearn.decomposition import PCA"
   ]
  },
  {
   "cell_type": "code",
   "execution_count": 2,
   "id": "f0bb4e8d-8395-4c7a-95fc-57fb642a7c9c",
   "metadata": {
    "tags": []
   },
   "outputs": [],
   "source": [
    "#Import csv file\n",
    "mdf = pd.read_csv('/Users/robertpatton/Desktop/D206 /medical_raw_data.csv')"
   ]
  },
  {
   "cell_type": "code",
   "execution_count": 3,
   "id": "12c241a0-6cb2-4df1-aad0-df9adb5cab9a",
   "metadata": {
    "tags": []
   },
   "outputs": [
    {
     "name": "stdout",
     "output_type": "stream",
     "text": [
      "<class 'pandas.core.frame.DataFrame'>\n",
      "RangeIndex: 10000 entries, 0 to 9999\n",
      "Data columns (total 53 columns):\n",
      " #   Column              Non-Null Count  Dtype  \n",
      "---  ------              --------------  -----  \n",
      " 0   Unnamed: 0          10000 non-null  int64  \n",
      " 1   CaseOrder           10000 non-null  int64  \n",
      " 2   Customer_id         10000 non-null  object \n",
      " 3   Interaction         10000 non-null  object \n",
      " 4   UID                 10000 non-null  object \n",
      " 5   City                10000 non-null  object \n",
      " 6   State               10000 non-null  object \n",
      " 7   County              10000 non-null  object \n",
      " 8   Zip                 10000 non-null  int64  \n",
      " 9   Lat                 10000 non-null  float64\n",
      " 10  Lng                 10000 non-null  float64\n",
      " 11  Population          10000 non-null  int64  \n",
      " 12  Area                10000 non-null  object \n",
      " 13  Timezone            10000 non-null  object \n",
      " 14  Job                 10000 non-null  object \n",
      " 15  Children            7412 non-null   float64\n",
      " 16  Age                 7586 non-null   float64\n",
      " 17  Education           10000 non-null  object \n",
      " 18  Employment          10000 non-null  object \n",
      " 19  Income              7536 non-null   float64\n",
      " 20  Marital             10000 non-null  object \n",
      " 21  Gender              10000 non-null  object \n",
      " 22  ReAdmis             10000 non-null  object \n",
      " 23  VitD_levels         10000 non-null  float64\n",
      " 24  Doc_visits          10000 non-null  int64  \n",
      " 25  Full_meals_eaten    10000 non-null  int64  \n",
      " 26  VitD_supp           10000 non-null  int64  \n",
      " 27  Soft_drink          7533 non-null   object \n",
      " 28  Initial_admin       10000 non-null  object \n",
      " 29  HighBlood           10000 non-null  object \n",
      " 30  Stroke              10000 non-null  object \n",
      " 31  Complication_risk   10000 non-null  object \n",
      " 32  Overweight          9018 non-null   float64\n",
      " 33  Arthritis           10000 non-null  object \n",
      " 34  Diabetes            10000 non-null  object \n",
      " 35  Hyperlipidemia      10000 non-null  object \n",
      " 36  BackPain            10000 non-null  object \n",
      " 37  Anxiety             9016 non-null   float64\n",
      " 38  Allergic_rhinitis   10000 non-null  object \n",
      " 39  Reflux_esophagitis  10000 non-null  object \n",
      " 40  Asthma              10000 non-null  object \n",
      " 41  Services            10000 non-null  object \n",
      " 42  Initial_days        8944 non-null   float64\n",
      " 43  TotalCharge         10000 non-null  float64\n",
      " 44  Additional_charges  10000 non-null  float64\n",
      " 45  Item1               10000 non-null  int64  \n",
      " 46  Item2               10000 non-null  int64  \n",
      " 47  Item3               10000 non-null  int64  \n",
      " 48  Item4               10000 non-null  int64  \n",
      " 49  Item5               10000 non-null  int64  \n",
      " 50  Item6               10000 non-null  int64  \n",
      " 51  Item7               10000 non-null  int64  \n",
      " 52  Item8               10000 non-null  int64  \n",
      "dtypes: float64(11), int64(15), object(27)\n",
      "memory usage: 4.0+ MB\n"
     ]
    }
   ],
   "source": [
    "#Examine data types\n",
    "mdf.info()"
   ]
  },
  {
   "cell_type": "code",
   "execution_count": 4,
   "id": "df89b7b7-42db-402a-adb5-edfae13c62eb",
   "metadata": {
    "tags": []
   },
   "outputs": [
    {
     "data": {
      "text/plain": [
       "0       False\n",
       "1       False\n",
       "2       False\n",
       "3       False\n",
       "4       False\n",
       "        ...  \n",
       "9995    False\n",
       "9996    False\n",
       "9997    False\n",
       "9998    False\n",
       "9999    False\n",
       "Length: 10000, dtype: bool"
      ]
     },
     "execution_count": 4,
     "metadata": {},
     "output_type": "execute_result"
    }
   ],
   "source": [
    "#look for duplicated values\n",
    "mdf.duplicated()"
   ]
  },
  {
   "cell_type": "code",
   "execution_count": 5,
   "id": "9aa3d6a4-76e5-4498-8fd8-fc34242c3532",
   "metadata": {
    "tags": []
   },
   "outputs": [
    {
     "data": {
      "text/plain": [
       "False    10000\n",
       "dtype: int64"
      ]
     },
     "execution_count": 5,
     "metadata": {},
     "output_type": "execute_result"
    }
   ],
   "source": [
    "#confirm exact number of duplicates\n",
    "mdf.duplicated().value_counts()"
   ]
  },
  {
   "cell_type": "code",
   "execution_count": 6,
   "id": "249dc8c1-89dd-4091-ad63-28b5d458fbd0",
   "metadata": {
    "tags": []
   },
   "outputs": [],
   "source": [
    "#remove unnamed column\n",
    "mdf=mdf.drop(mdf.columns[[0]], axis=1)"
   ]
  },
  {
   "cell_type": "code",
   "execution_count": 7,
   "id": "eed7b04c-81e2-4542-9341-e41181fa7c8b",
   "metadata": {
    "tags": []
   },
   "outputs": [
    {
     "data": {
      "text/plain": [
       "CaseOrder                0\n",
       "Customer_id              0\n",
       "Interaction              0\n",
       "UID                      0\n",
       "City                     0\n",
       "State                    0\n",
       "County                   0\n",
       "Zip                      0\n",
       "Lat                      0\n",
       "Lng                      0\n",
       "Population               0\n",
       "Area                     0\n",
       "Timezone                 0\n",
       "Job                      0\n",
       "Children              2588\n",
       "Age                   2414\n",
       "Education                0\n",
       "Employment               0\n",
       "Income                2464\n",
       "Marital                  0\n",
       "Gender                   0\n",
       "ReAdmis                  0\n",
       "VitD_levels              0\n",
       "Doc_visits               0\n",
       "Full_meals_eaten         0\n",
       "VitD_supp                0\n",
       "Soft_drink            2467\n",
       "Initial_admin            0\n",
       "HighBlood                0\n",
       "Stroke                   0\n",
       "Complication_risk        0\n",
       "Overweight             982\n",
       "Arthritis                0\n",
       "Diabetes                 0\n",
       "Hyperlipidemia           0\n",
       "BackPain                 0\n",
       "Anxiety                984\n",
       "Allergic_rhinitis        0\n",
       "Reflux_esophagitis       0\n",
       "Asthma                   0\n",
       "Services                 0\n",
       "Initial_days          1056\n",
       "TotalCharge              0\n",
       "Additional_charges       0\n",
       "Item1                    0\n",
       "Item2                    0\n",
       "Item3                    0\n",
       "Item4                    0\n",
       "Item5                    0\n",
       "Item6                    0\n",
       "Item7                    0\n",
       "Item8                    0\n",
       "dtype: int64"
      ]
     },
     "execution_count": 7,
     "metadata": {},
     "output_type": "execute_result"
    }
   ],
   "source": [
    "#look for missing values\n",
    "mdf.isnull().sum()"
   ]
  },
  {
   "cell_type": "code",
   "execution_count": 9,
   "id": "119c09ef-f517-4f40-8463-b4ab59ab7f53",
   "metadata": {
    "tags": []
   },
   "outputs": [
    {
     "data": {
      "text/plain": [
       "array([[<Axes: title={'center': 'Children'}>,\n",
       "        <Axes: title={'center': 'Age'}>],\n",
       "       [<Axes: title={'center': 'Income'}>,\n",
       "        <Axes: title={'center': 'Initial_days'}>]], dtype=object)"
      ]
     },
     "execution_count": 9,
     "metadata": {},
     "output_type": "execute_result"
    },
    {
     "data": {
      "image/png": "[encoded data removed]",
      "text/plain": [
       "<Figure size 640x480 with 4 Axes>"
      ]
     },
     "metadata": {},
     "output_type": "display_data"
    }
   ],
   "source": [
    "#We have missing values in Children, Age, Income, Soft_drink, Overweight, Anxiety, and Initial_days\n",
    "\n",
    "#Examine distribution of missing values in quantitative data types\n",
    "mdf[['Children','Age','Income','Initial_days']].hist()"
   ]
  },
  {
   "cell_type": "code",
   "execution_count": 10,
   "id": "71ba3423-91f2-4b87-b49b-c2d0ed8d0559",
   "metadata": {
    "tags": []
   },
   "outputs": [],
   "source": [
    "#perform imputation for missing values on quantitive data types using mean and median\n",
    "mdf['Children'].fillna(mdf['Children'].median(), inplace = True)\n",
    "mdf['Age'].fillna(mdf['Age'].mean(), inplace = True)\n",
    "mdf['Income'].fillna(mdf['Income'].median(), inplace = True)\n",
    "mdf['Initial_days'].fillna(mdf['Initial_days'].median(), inplace = True)"
   ]
  },
  {
   "cell_type": "code",
   "execution_count": 11,
   "id": "920c0f67-4fa6-4ae7-81f1-507ebba4436f",
   "metadata": {
    "tags": []
   },
   "outputs": [
    {
     "data": {
      "text/plain": [
       "CaseOrder                0\n",
       "Customer_id              0\n",
       "Interaction              0\n",
       "UID                      0\n",
       "City                     0\n",
       "State                    0\n",
       "County                   0\n",
       "Zip                      0\n",
       "Lat                      0\n",
       "Lng                      0\n",
       "Population               0\n",
       "Area                     0\n",
       "Timezone                 0\n",
       "Job                      0\n",
       "Children                 0\n",
       "Age                      0\n",
       "Education                0\n",
       "Employment               0\n",
       "Income                   0\n",
       "Marital                  0\n",
       "Gender                   0\n",
       "ReAdmis                  0\n",
       "VitD_levels              0\n",
       "Doc_visits               0\n",
       "Full_meals_eaten         0\n",
       "VitD_supp                0\n",
       "Soft_drink            2467\n",
       "Initial_admin            0\n",
       "HighBlood                0\n",
       "Stroke                   0\n",
       "Complication_risk        0\n",
       "Overweight             982\n",
       "Arthritis                0\n",
       "Diabetes                 0\n",
       "Hyperlipidemia           0\n",
       "BackPain                 0\n",
       "Anxiety                984\n",
       "Allergic_rhinitis        0\n",
       "Reflux_esophagitis       0\n",
       "Asthma                   0\n",
       "Services                 0\n",
       "Initial_days             0\n",
       "TotalCharge              0\n",
       "Additional_charges       0\n",
       "Item1                    0\n",
       "Item2                    0\n",
       "Item3                    0\n",
       "Item4                    0\n",
       "Item5                    0\n",
       "Item6                    0\n",
       "Item7                    0\n",
       "Item8                    0\n",
       "dtype: int64"
      ]
     },
     "execution_count": 11,
     "metadata": {},
     "output_type": "execute_result"
    }
   ],
   "source": [
    "#verify missing values for quantitative values are filled after imputation\n",
    "mdf.isnull().sum()"
   ]
  },
  {
   "cell_type": "code",
   "execution_count": 12,
   "id": "e5b9aad3-5f8f-4ba7-b2db-f82b94c0a007",
   "metadata": {
    "tags": []
   },
   "outputs": [
    {
     "data": {
      "text/plain": [
       "array([[<Axes: title={'center': 'Children'}>,\n",
       "        <Axes: title={'center': 'Age'}>],\n",
       "       [<Axes: title={'center': 'Income'}>,\n",
       "        <Axes: title={'center': 'Initial_days'}>]], dtype=object)"
      ]
     },
     "execution_count": 12,
     "metadata": {},
     "output_type": "execute_result"
    },
    {
     "data": {
      "image/png": "[encoded data removed]",
      "text/plain": [
       "<Figure size 640x480 with 4 Axes>"
      ]
     },
     "metadata": {},
     "output_type": "display_data"
    }
   ],
   "source": [
    "#verify distribution of quantitative variables after imputation\n",
    "mdf[['Children','Age','Income','Initial_days']].hist()"
   ]
  },
  {
   "cell_type": "code",
   "execution_count": 13,
   "id": "1e63455b-cab8-4003-948a-19a6e8959f1d",
   "metadata": {
    "tags": []
   },
   "outputs": [],
   "source": [
    "#perform imputation on missing values for qualitative variables using mode\n",
    "\n",
    "mdf['Soft_drink']= mdf['Soft_drink'].fillna(mdf['Soft_drink'].mode()[0])\n",
    "mdf['Overweight']= mdf['Overweight'].fillna(mdf['Overweight'].mode()[0])\n",
    "mdf['Anxiety']=mdf['Anxiety'].fillna(mdf['Anxiety'].mode()[0])"
   ]
  },
  {
   "cell_type": "code",
   "execution_count": 14,
   "id": "472de6e6-2b66-483f-ad69-a66aaa4db6b9",
   "metadata": {
    "tags": []
   },
   "outputs": [],
   "source": [
    "#replace 'Overweight' column values to match other yes/no types\n",
    "mdf['Overweight'].replace({0: \"No\", 1: \"Yes\"}, inplace= True)"
   ]
  },
  {
   "cell_type": "code",
   "execution_count": 15,
   "id": "b9725208-2a36-4abc-88ad-785eb3f006a4",
   "metadata": {
    "tags": []
   },
   "outputs": [
    {
     "data": {
      "text/plain": [
       "array(['No', 'Yes'], dtype=object)"
      ]
     },
     "execution_count": 15,
     "metadata": {},
     "output_type": "execute_result"
    }
   ],
   "source": [
    "#confirm replace values for 'Overweight'\n",
    "mdf.Overweight.unique()"
   ]
  },
  {
   "cell_type": "code",
   "execution_count": 16,
   "id": "d706c64f-a62f-4a9c-a0f8-6b643deae0f3",
   "metadata": {
    "tags": []
   },
   "outputs": [],
   "source": [
    "#replace 'Anxiety' column values to match other yes/no types\n",
    "mdf['Anxiety'].replace({0:\"No\", 1: \"Yes\"}, inplace= True)"
   ]
  },
  {
   "cell_type": "code",
   "execution_count": 17,
   "id": "3deda38e-6854-40be-a1a3-81eb99401830",
   "metadata": {
    "tags": []
   },
   "outputs": [
    {
     "data": {
      "text/plain": [
       "array(['Yes', 'No'], dtype=object)"
      ]
     },
     "execution_count": 17,
     "metadata": {},
     "output_type": "execute_result"
    }
   ],
   "source": [
    "#confrim replace values for 'Anxiety'\n",
    "mdf.Anxiety.unique()"
   ]
  },
  {
   "cell_type": "code",
   "execution_count": 18,
   "id": "1f9356f0-c2f6-41b7-9e95-8bbebf33dc93",
   "metadata": {
    "tags": []
   },
   "outputs": [
    {
     "data": {
      "text/plain": [
       "CaseOrder             0\n",
       "Customer_id           0\n",
       "Interaction           0\n",
       "UID                   0\n",
       "City                  0\n",
       "State                 0\n",
       "County                0\n",
       "Zip                   0\n",
       "Lat                   0\n",
       "Lng                   0\n",
       "Population            0\n",
       "Area                  0\n",
       "Timezone              0\n",
       "Job                   0\n",
       "Children              0\n",
       "Age                   0\n",
       "Education             0\n",
       "Employment            0\n",
       "Income                0\n",
       "Marital               0\n",
       "Gender                0\n",
       "ReAdmis               0\n",
       "VitD_levels           0\n",
       "Doc_visits            0\n",
       "Full_meals_eaten      0\n",
       "VitD_supp             0\n",
       "Soft_drink            0\n",
       "Initial_admin         0\n",
       "HighBlood             0\n",
       "Stroke                0\n",
       "Complication_risk     0\n",
       "Overweight            0\n",
       "Arthritis             0\n",
       "Diabetes              0\n",
       "Hyperlipidemia        0\n",
       "BackPain              0\n",
       "Anxiety               0\n",
       "Allergic_rhinitis     0\n",
       "Reflux_esophagitis    0\n",
       "Asthma                0\n",
       "Services              0\n",
       "Initial_days          0\n",
       "TotalCharge           0\n",
       "Additional_charges    0\n",
       "Item1                 0\n",
       "Item2                 0\n",
       "Item3                 0\n",
       "Item4                 0\n",
       "Item5                 0\n",
       "Item6                 0\n",
       "Item7                 0\n",
       "Item8                 0\n",
       "dtype: int64"
      ]
     },
     "execution_count": 18,
     "metadata": {},
     "output_type": "execute_result"
    }
   ],
   "source": [
    "#verify missing values for qualitative variables were imputed\n",
    "mdf.isnull().sum()"
   ]
  },
  {
   "cell_type": "code",
   "execution_count": 19,
   "id": "3812b16b-6c6f-420e-b0ef-89139e5c3fea",
   "metadata": {
    "tags": []
   },
   "outputs": [
    {
     "name": "stdout",
     "output_type": "stream",
     "text": [
      "<class 'pandas.core.frame.DataFrame'>\n",
      "RangeIndex: 10000 entries, 0 to 9999\n",
      "Data columns (total 23 columns):\n",
      " #   Column              Non-Null Count  Dtype  \n",
      "---  ------              --------------  -----  \n",
      " 0   CaseOrder           10000 non-null  int64  \n",
      " 1   Zip                 10000 non-null  int64  \n",
      " 2   Lat                 10000 non-null  float64\n",
      " 3   Lng                 10000 non-null  float64\n",
      " 4   Population          10000 non-null  int64  \n",
      " 5   Children            10000 non-null  float64\n",
      " 6   Age                 10000 non-null  float64\n",
      " 7   Income              10000 non-null  float64\n",
      " 8   VitD_levels         10000 non-null  float64\n",
      " 9   Doc_visits          10000 non-null  int64  \n",
      " 10  Full_meals_eaten    10000 non-null  int64  \n",
      " 11  VitD_supp           10000 non-null  int64  \n",
      " 12  Initial_days        10000 non-null  float64\n",
      " 13  TotalCharge         10000 non-null  float64\n",
      " 14  Additional_charges  10000 non-null  float64\n",
      " 15  Item1               10000 non-null  int64  \n",
      " 16  Item2               10000 non-null  int64  \n",
      " 17  Item3               10000 non-null  int64  \n",
      " 18  Item4               10000 non-null  int64  \n",
      " 19  Item5               10000 non-null  int64  \n",
      " 20  Item6               10000 non-null  int64  \n",
      " 21  Item7               10000 non-null  int64  \n",
      " 22  Item8               10000 non-null  int64  \n",
      "dtypes: float64(9), int64(14)\n",
      "memory usage: 1.8 MB\n"
     ]
    }
   ],
   "source": [
    "#find all numerical values\n",
    "mdf_num_data=mdf.select_dtypes(include=[np.number])\n",
    "mdf_num_data.info()"
   ]
  },
  {
   "cell_type": "code",
   "execution_count": 20,
   "id": "32500b7e-3f65-4a4d-bad1-c36bf3b18af3",
   "metadata": {
    "tags": []
   },
   "outputs": [
    {
     "data": {
      "image/png": "[encoded data removed]",
      "text/plain": [
       "<Figure size 3000x1000 with 1 Axes>"
      ]
     },
     "metadata": {},
     "output_type": "display_data"
    }
   ],
   "source": [
    "#use boxplot to find outliers in numerical data types\n",
    "plt.subplots(figsize=(30,10))\n",
    "boxplot=sns.boxplot(data=mdf_num_data, width=0.4)"
   ]
  },
  {
   "cell_type": "code",
   "execution_count": 21,
   "id": "2bd75fc3-6023-4577-bb4f-73a7ff84eb9f",
   "metadata": {
    "tags": []
   },
   "outputs": [],
   "source": [
    "#import scipy package for calculation of zscores\n",
    "from pandas import DataFrame\n",
    "import scipy.stats as stats"
   ]
  },
  {
   "cell_type": "code",
   "execution_count": 22,
   "id": "385d061a-783c-4967-b852-c544957d7439",
   "metadata": {
    "tags": []
   },
   "outputs": [
    {
     "data": {
      "text/html": [
       "<div>\n",
       "<style scoped>\n",
       "    .dataframe tbody tr th:only-of-type {\n",
       "        vertical-align: middle;\n",
       "    }\n",
       "\n",
       "    .dataframe tbody tr th {\n",
       "        vertical-align: top;\n",
       "    }\n",
       "\n",
       "    .dataframe thead th {\n",
       "        text-align: right;\n",
       "    }\n",
       "</style>\n",
       "<table border=\"1\" class=\"dataframe\">\n",
       "  <thead>\n",
       "    <tr style=\"text-align: right;\">\n",
       "      <th></th>\n",
       "      <th>Population</th>\n",
       "      <th>Population_z_score</th>\n",
       "    </tr>\n",
       "  </thead>\n",
       "  <tbody>\n",
       "    <tr>\n",
       "      <th>0</th>\n",
       "      <td>2951</td>\n",
       "      <td>-0.473168</td>\n",
       "    </tr>\n",
       "    <tr>\n",
       "      <th>1</th>\n",
       "      <td>11303</td>\n",
       "      <td>0.090242</td>\n",
       "    </tr>\n",
       "    <tr>\n",
       "      <th>2</th>\n",
       "      <td>17125</td>\n",
       "      <td>0.482983</td>\n",
       "    </tr>\n",
       "    <tr>\n",
       "      <th>3</th>\n",
       "      <td>2162</td>\n",
       "      <td>-0.526393</td>\n",
       "    </tr>\n",
       "    <tr>\n",
       "      <th>4</th>\n",
       "      <td>5287</td>\n",
       "      <td>-0.315586</td>\n",
       "    </tr>\n",
       "  </tbody>\n",
       "</table>\n",
       "</div>"
      ],
      "text/plain": [
       "   Population  Population_z_score\n",
       "0        2951           -0.473168\n",
       "1       11303            0.090242\n",
       "2       17125            0.482983\n",
       "3        2162           -0.526393\n",
       "4        5287           -0.315586"
      ]
     },
     "execution_count": 22,
     "metadata": {},
     "output_type": "execute_result"
    }
   ],
   "source": [
    "#calculate z-score for population\n",
    "mdf['Population_z_score']=stats.zscore(mdf['Population'])\n",
    "mdf[['Population', 'Population_z_score']].head()"
   ]
  },
  {
   "cell_type": "code",
   "execution_count": 23,
   "id": "b4495fcf-956c-42b4-9e2e-44393af18488",
   "metadata": {
    "tags": []
   },
   "outputs": [
    {
     "data": {
      "image/png": "[encoded data removed]",
      "text/plain": [
       "<Figure size 640x480 with 1 Axes>"
      ]
     },
     "metadata": {},
     "output_type": "display_data"
    }
   ],
   "source": [
    "#examine z-sccore distribution for population\n",
    "plt.hist(x='Population_z_score', data=mdf)\n",
    "plt.show()"
   ]
  },
  {
   "cell_type": "code",
   "execution_count": 24,
   "id": "98e0bedd-a00c-4d6f-9c0b-2e8df56e7d90",
   "metadata": {
    "tags": []
   },
   "outputs": [
    {
     "name": "stdout",
     "output_type": "stream",
     "text": [
      "<class 'pandas.core.frame.DataFrame'>\n",
      "Int64Index: 218 entries, 153 to 9851\n",
      "Data columns (total 53 columns):\n",
      " #   Column              Non-Null Count  Dtype  \n",
      "---  ------              --------------  -----  \n",
      " 0   CaseOrder           218 non-null    int64  \n",
      " 1   Customer_id         218 non-null    object \n",
      " 2   Interaction         218 non-null    object \n",
      " 3   UID                 218 non-null    object \n",
      " 4   City                218 non-null    object \n",
      " 5   State               218 non-null    object \n",
      " 6   County              218 non-null    object \n",
      " 7   Zip                 218 non-null    int64  \n",
      " 8   Lat                 218 non-null    float64\n",
      " 9   Lng                 218 non-null    float64\n",
      " 10  Population          218 non-null    int64  \n",
      " 11  Area                218 non-null    object \n",
      " 12  Timezone            218 non-null    object \n",
      " 13  Job                 218 non-null    object \n",
      " 14  Children            218 non-null    float64\n",
      " 15  Age                 218 non-null    float64\n",
      " 16  Education           218 non-null    object \n",
      " 17  Employment          218 non-null    object \n",
      " 18  Income              218 non-null    float64\n",
      " 19  Marital             218 non-null    object \n",
      " 20  Gender              218 non-null    object \n",
      " 21  ReAdmis             218 non-null    object \n",
      " 22  VitD_levels         218 non-null    float64\n",
      " 23  Doc_visits          218 non-null    int64  \n",
      " 24  Full_meals_eaten    218 non-null    int64  \n",
      " 25  VitD_supp           218 non-null    int64  \n",
      " 26  Soft_drink          218 non-null    object \n",
      " 27  Initial_admin       218 non-null    object \n",
      " 28  HighBlood           218 non-null    object \n",
      " 29  Stroke              218 non-null    object \n",
      " 30  Complication_risk   218 non-null    object \n",
      " 31  Overweight          218 non-null    object \n",
      " 32  Arthritis           218 non-null    object \n",
      " 33  Diabetes            218 non-null    object \n",
      " 34  Hyperlipidemia      218 non-null    object \n",
      " 35  BackPain            218 non-null    object \n",
      " 36  Anxiety             218 non-null    object \n",
      " 37  Allergic_rhinitis   218 non-null    object \n",
      " 38  Reflux_esophagitis  218 non-null    object \n",
      " 39  Asthma              218 non-null    object \n",
      " 40  Services            218 non-null    object \n",
      " 41  Initial_days        218 non-null    float64\n",
      " 42  TotalCharge         218 non-null    float64\n",
      " 43  Additional_charges  218 non-null    float64\n",
      " 44  Item1               218 non-null    int64  \n",
      " 45  Item2               218 non-null    int64  \n",
      " 46  Item3               218 non-null    int64  \n",
      " 47  Item4               218 non-null    int64  \n",
      " 48  Item5               218 non-null    int64  \n",
      " 49  Item6               218 non-null    int64  \n",
      " 50  Item7               218 non-null    int64  \n",
      " 51  Item8               218 non-null    int64  \n",
      " 52  Population_z_score  218 non-null    float64\n",
      "dtypes: float64(10), int64(14), object(29)\n",
      "memory usage: 92.0+ KB\n"
     ]
    }
   ],
   "source": [
    "#get exact number of outliers for population\n",
    "population_z_score=mdf.query('Population_z_score > 3')\n",
    "population_z_score.info()"
   ]
  },
  {
   "cell_type": "code",
   "execution_count": 25,
   "id": "e696bb4b-5fde-4539-9a4b-819f67e13442",
   "metadata": {
    "tags": []
   },
   "outputs": [
    {
     "data": {
      "text/html": [
       "<div>\n",
       "<style scoped>\n",
       "    .dataframe tbody tr th:only-of-type {\n",
       "        vertical-align: middle;\n",
       "    }\n",
       "\n",
       "    .dataframe tbody tr th {\n",
       "        vertical-align: top;\n",
       "    }\n",
       "\n",
       "    .dataframe thead th {\n",
       "        text-align: right;\n",
       "    }\n",
       "</style>\n",
       "<table border=\"1\" class=\"dataframe\">\n",
       "  <thead>\n",
       "    <tr style=\"text-align: right;\">\n",
       "      <th></th>\n",
       "      <th>Income</th>\n",
       "      <th>Income_z_score</th>\n",
       "    </tr>\n",
       "  </thead>\n",
       "  <tbody>\n",
       "    <tr>\n",
       "      <th>0</th>\n",
       "      <td>86575.93</td>\n",
       "      <td>1.904974</td>\n",
       "    </tr>\n",
       "    <tr>\n",
       "      <th>1</th>\n",
       "      <td>46805.99</td>\n",
       "      <td>0.316815</td>\n",
       "    </tr>\n",
       "    <tr>\n",
       "      <th>2</th>\n",
       "      <td>14370.14</td>\n",
       "      <td>-0.978466</td>\n",
       "    </tr>\n",
       "    <tr>\n",
       "      <th>3</th>\n",
       "      <td>39741.49</td>\n",
       "      <td>0.034704</td>\n",
       "    </tr>\n",
       "    <tr>\n",
       "      <th>4</th>\n",
       "      <td>1209.56</td>\n",
       "      <td>-1.504016</td>\n",
       "    </tr>\n",
       "  </tbody>\n",
       "</table>\n",
       "</div>"
      ],
      "text/plain": [
       "     Income  Income_z_score\n",
       "0  86575.93        1.904974\n",
       "1  46805.99        0.316815\n",
       "2  14370.14       -0.978466\n",
       "3  39741.49        0.034704\n",
       "4   1209.56       -1.504016"
      ]
     },
     "execution_count": 25,
     "metadata": {},
     "output_type": "execute_result"
    }
   ],
   "source": [
    "#Calculate z-score for income\n",
    "mdf['Income_z_score']=stats.zscore(mdf['Income'])\n",
    "mdf[['Income', 'Income_z_score']].head()"
   ]
  },
  {
   "cell_type": "code",
   "execution_count": 26,
   "id": "f968658f-5edd-455f-9148-2cc9ee180754",
   "metadata": {
    "tags": []
   },
   "outputs": [
    {
     "data": {
      "image/png": "[encoded data removed]",
      "text/plain": [
       "<Figure size 640x480 with 1 Axes>"
      ]
     },
     "metadata": {},
     "output_type": "display_data"
    }
   ],
   "source": [
    "#examine z-score distribution for income\n",
    "plt.hist(x='Income_z_score', data=mdf)\n",
    "plt.show()"
   ]
  },
  {
   "cell_type": "code",
   "execution_count": 27,
   "id": "3931c048-6938-4945-a568-03ed3e567c43",
   "metadata": {
    "tags": []
   },
   "outputs": [
    {
     "name": "stdout",
     "output_type": "stream",
     "text": [
      "<class 'pandas.core.frame.DataFrame'>\n",
      "Int64Index: 180 entries, 30 to 9955\n",
      "Data columns (total 54 columns):\n",
      " #   Column              Non-Null Count  Dtype  \n",
      "---  ------              --------------  -----  \n",
      " 0   CaseOrder           180 non-null    int64  \n",
      " 1   Customer_id         180 non-null    object \n",
      " 2   Interaction         180 non-null    object \n",
      " 3   UID                 180 non-null    object \n",
      " 4   City                180 non-null    object \n",
      " 5   State               180 non-null    object \n",
      " 6   County              180 non-null    object \n",
      " 7   Zip                 180 non-null    int64  \n",
      " 8   Lat                 180 non-null    float64\n",
      " 9   Lng                 180 non-null    float64\n",
      " 10  Population          180 non-null    int64  \n",
      " 11  Area                180 non-null    object \n",
      " 12  Timezone            180 non-null    object \n",
      " 13  Job                 180 non-null    object \n",
      " 14  Children            180 non-null    float64\n",
      " 15  Age                 180 non-null    float64\n",
      " 16  Education           180 non-null    object \n",
      " 17  Employment          180 non-null    object \n",
      " 18  Income              180 non-null    float64\n",
      " 19  Marital             180 non-null    object \n",
      " 20  Gender              180 non-null    object \n",
      " 21  ReAdmis             180 non-null    object \n",
      " 22  VitD_levels         180 non-null    float64\n",
      " 23  Doc_visits          180 non-null    int64  \n",
      " 24  Full_meals_eaten    180 non-null    int64  \n",
      " 25  VitD_supp           180 non-null    int64  \n",
      " 26  Soft_drink          180 non-null    object \n",
      " 27  Initial_admin       180 non-null    object \n",
      " 28  HighBlood           180 non-null    object \n",
      " 29  Stroke              180 non-null    object \n",
      " 30  Complication_risk   180 non-null    object \n",
      " 31  Overweight          180 non-null    object \n",
      " 32  Arthritis           180 non-null    object \n",
      " 33  Diabetes            180 non-null    object \n",
      " 34  Hyperlipidemia      180 non-null    object \n",
      " 35  BackPain            180 non-null    object \n",
      " 36  Anxiety             180 non-null    object \n",
      " 37  Allergic_rhinitis   180 non-null    object \n",
      " 38  Reflux_esophagitis  180 non-null    object \n",
      " 39  Asthma              180 non-null    object \n",
      " 40  Services            180 non-null    object \n",
      " 41  Initial_days        180 non-null    float64\n",
      " 42  TotalCharge         180 non-null    float64\n",
      " 43  Additional_charges  180 non-null    float64\n",
      " 44  Item1               180 non-null    int64  \n",
      " 45  Item2               180 non-null    int64  \n",
      " 46  Item3               180 non-null    int64  \n",
      " 47  Item4               180 non-null    int64  \n",
      " 48  Item5               180 non-null    int64  \n",
      " 49  Item6               180 non-null    int64  \n",
      " 50  Item7               180 non-null    int64  \n",
      " 51  Item8               180 non-null    int64  \n",
      " 52  Population_z_score  180 non-null    float64\n",
      " 53  Income_z_score      180 non-null    float64\n",
      "dtypes: float64(11), int64(14), object(29)\n",
      "memory usage: 77.3+ KB\n"
     ]
    }
   ],
   "source": [
    "#get exact number of outliers for income\n",
    "income_z_score=mdf.query('Income_z_score > 3')\n",
    "income_z_score.info()"
   ]
  },
  {
   "cell_type": "code",
   "execution_count": 28,
   "id": "23784b32-3df2-4a00-9b52-b510e42a26c1",
   "metadata": {
    "tags": []
   },
   "outputs": [
    {
     "data": {
      "text/html": [
       "<div>\n",
       "<style scoped>\n",
       "    .dataframe tbody tr th:only-of-type {\n",
       "        vertical-align: middle;\n",
       "    }\n",
       "\n",
       "    .dataframe tbody tr th {\n",
       "        vertical-align: top;\n",
       "    }\n",
       "\n",
       "    .dataframe thead th {\n",
       "        text-align: right;\n",
       "    }\n",
       "</style>\n",
       "<table border=\"1\" class=\"dataframe\">\n",
       "  <thead>\n",
       "    <tr style=\"text-align: right;\">\n",
       "      <th></th>\n",
       "      <th>TotalCharge</th>\n",
       "      <th>TotalCharge_z_score</th>\n",
       "    </tr>\n",
       "  </thead>\n",
       "  <tbody>\n",
       "    <tr>\n",
       "      <th>0</th>\n",
       "      <td>3191.048774</td>\n",
       "      <td>-0.799579</td>\n",
       "    </tr>\n",
       "    <tr>\n",
       "      <th>1</th>\n",
       "      <td>4214.905346</td>\n",
       "      <td>-0.496429</td>\n",
       "    </tr>\n",
       "    <tr>\n",
       "      <th>2</th>\n",
       "      <td>2177.586768</td>\n",
       "      <td>-1.099652</td>\n",
       "    </tr>\n",
       "    <tr>\n",
       "      <th>3</th>\n",
       "      <td>2465.118965</td>\n",
       "      <td>-1.014517</td>\n",
       "    </tr>\n",
       "    <tr>\n",
       "      <th>4</th>\n",
       "      <td>1885.655137</td>\n",
       "      <td>-1.186089</td>\n",
       "    </tr>\n",
       "  </tbody>\n",
       "</table>\n",
       "</div>"
      ],
      "text/plain": [
       "   TotalCharge  TotalCharge_z_score\n",
       "0  3191.048774            -0.799579\n",
       "1  4214.905346            -0.496429\n",
       "2  2177.586768            -1.099652\n",
       "3  2465.118965            -1.014517\n",
       "4  1885.655137            -1.186089"
      ]
     },
     "execution_count": 28,
     "metadata": {},
     "output_type": "execute_result"
    }
   ],
   "source": [
    "#Calculate z-score for TotalCharge\n",
    "mdf['TotalCharge_z_score']=stats.zscore(mdf['TotalCharge'])\n",
    "mdf[['TotalCharge', 'TotalCharge_z_score']].head()"
   ]
  },
  {
   "cell_type": "code",
   "execution_count": 29,
   "id": "3d06e786-ee53-4e85-9e8e-9b3feca2f766",
   "metadata": {
    "tags": []
   },
   "outputs": [
    {
     "data": {
      "image/png": "[encoded data removed]",
      "text/plain": [
       "<Figure size 640x480 with 1 Axes>"
      ]
     },
     "metadata": {},
     "output_type": "display_data"
    }
   ],
   "source": [
    "#examine z-score distribution for Total Charge\n",
    "plt.hist(x='TotalCharge_z_score', data=mdf)\n",
    "plt.show()"
   ]
  },
  {
   "cell_type": "code",
   "execution_count": 30,
   "id": "2bd166cc-915c-4200-9feb-7ce75ebf569b",
   "metadata": {
    "tags": []
   },
   "outputs": [
    {
     "name": "stdout",
     "output_type": "stream",
     "text": [
      "<class 'pandas.core.frame.DataFrame'>\n",
      "Int64Index: 276 entries, 527 to 9973\n",
      "Data columns (total 55 columns):\n",
      " #   Column               Non-Null Count  Dtype  \n",
      "---  ------               --------------  -----  \n",
      " 0   CaseOrder            276 non-null    int64  \n",
      " 1   Customer_id          276 non-null    object \n",
      " 2   Interaction          276 non-null    object \n",
      " 3   UID                  276 non-null    object \n",
      " 4   City                 276 non-null    object \n",
      " 5   State                276 non-null    object \n",
      " 6   County               276 non-null    object \n",
      " 7   Zip                  276 non-null    int64  \n",
      " 8   Lat                  276 non-null    float64\n",
      " 9   Lng                  276 non-null    float64\n",
      " 10  Population           276 non-null    int64  \n",
      " 11  Area                 276 non-null    object \n",
      " 12  Timezone             276 non-null    object \n",
      " 13  Job                  276 non-null    object \n",
      " 14  Children             276 non-null    float64\n",
      " 15  Age                  276 non-null    float64\n",
      " 16  Education            276 non-null    object \n",
      " 17  Employment           276 non-null    object \n",
      " 18  Income               276 non-null    float64\n",
      " 19  Marital              276 non-null    object \n",
      " 20  Gender               276 non-null    object \n",
      " 21  ReAdmis              276 non-null    object \n",
      " 22  VitD_levels          276 non-null    float64\n",
      " 23  Doc_visits           276 non-null    int64  \n",
      " 24  Full_meals_eaten     276 non-null    int64  \n",
      " 25  VitD_supp            276 non-null    int64  \n",
      " 26  Soft_drink           276 non-null    object \n",
      " 27  Initial_admin        276 non-null    object \n",
      " 28  HighBlood            276 non-null    object \n",
      " 29  Stroke               276 non-null    object \n",
      " 30  Complication_risk    276 non-null    object \n",
      " 31  Overweight           276 non-null    object \n",
      " 32  Arthritis            276 non-null    object \n",
      " 33  Diabetes             276 non-null    object \n",
      " 34  Hyperlipidemia       276 non-null    object \n",
      " 35  BackPain             276 non-null    object \n",
      " 36  Anxiety              276 non-null    object \n",
      " 37  Allergic_rhinitis    276 non-null    object \n",
      " 38  Reflux_esophagitis   276 non-null    object \n",
      " 39  Asthma               276 non-null    object \n",
      " 40  Services             276 non-null    object \n",
      " 41  Initial_days         276 non-null    float64\n",
      " 42  TotalCharge          276 non-null    float64\n",
      " 43  Additional_charges   276 non-null    float64\n",
      " 44  Item1                276 non-null    int64  \n",
      " 45  Item2                276 non-null    int64  \n",
      " 46  Item3                276 non-null    int64  \n",
      " 47  Item4                276 non-null    int64  \n",
      " 48  Item5                276 non-null    int64  \n",
      " 49  Item6                276 non-null    int64  \n",
      " 50  Item7                276 non-null    int64  \n",
      " 51  Item8                276 non-null    int64  \n",
      " 52  Population_z_score   276 non-null    float64\n",
      " 53  Income_z_score       276 non-null    float64\n",
      " 54  TotalCharge_z_score  276 non-null    float64\n",
      "dtypes: float64(12), int64(14), object(29)\n",
      "memory usage: 120.8+ KB\n"
     ]
    }
   ],
   "source": [
    "#Get total number of outliers for TotalCharge\n",
    "totalcharge_z_score=mdf.query('TotalCharge_z_score > 3')\n",
    "totalcharge_z_score.info()"
   ]
  },
  {
   "cell_type": "code",
   "execution_count": 31,
   "id": "ea187ced-685d-4855-896c-56bb6df181f1",
   "metadata": {
    "tags": []
   },
   "outputs": [
    {
     "name": "stdout",
     "output_type": "stream",
     "text": [
      "2769.0\n"
     ]
    }
   ],
   "source": [
    "#get median value for population\n",
    "med=mdf['Population'].quantile(0.5)\n",
    "print(med)"
   ]
  },
  {
   "cell_type": "code",
   "execution_count": 32,
   "id": "d1bb38e0-a024-45ee-83cf-6a20fa690f9a",
   "metadata": {
    "tags": []
   },
   "outputs": [
    {
     "name": "stdout",
     "output_type": "stream",
     "text": [
      "33820.375\n"
     ]
    }
   ],
   "source": [
    "#calculate IQR and max value for population \n",
    "q1=mdf['Population'].quantile(0.25)\n",
    "q3=mdf['Population'].quantile(0.75)\n",
    "iqr=q3-q1\n",
    "upper_limit=q3+(iqr * 1.5)\n",
    "print(upper_limit)"
   ]
  },
  {
   "cell_type": "code",
   "execution_count": 33,
   "id": "a1b70ed0-eb68-460a-8c95-da4de6182874",
   "metadata": {
    "tags": []
   },
   "outputs": [],
   "source": [
    "#replace outliers with median value in population\n",
    "mdf['Population']=np.where(mdf['Population'] > 33820.375, 2769.0, mdf['Population'])"
   ]
  },
  {
   "cell_type": "code",
   "execution_count": 34,
   "id": "71c9fa45-c7ce-4b9c-95db-df19fd7205c3",
   "metadata": {
    "tags": []
   },
   "outputs": [
    {
     "name": "stdout",
     "output_type": "stream",
     "text": [
      "33942.28\n"
     ]
    }
   ],
   "source": [
    "#get median value for income\n",
    "med=mdf['Income'].quantile(0.5)\n",
    "print(med)"
   ]
  },
  {
   "cell_type": "code",
   "execution_count": 35,
   "id": "33fce9f8-f0a9-465f-8365-65244a1826f4",
   "metadata": {
    "tags": []
   },
   "outputs": [
    {
     "name": "stdout",
     "output_type": "stream",
     "text": [
      "80232.75\n"
     ]
    }
   ],
   "source": [
    "#calculate IQR and max value for income \n",
    "q1=mdf['Income'].quantile(0.25)\n",
    "q3=mdf['Income'].quantile(0.75)\n",
    "iqr=q3-q1\n",
    "upper_limit=q3+(iqr * 1.5)\n",
    "print(upper_limit)"
   ]
  },
  {
   "cell_type": "code",
   "execution_count": 36,
   "id": "a2eb4a6c-8e8a-444c-a01b-7207bb44b240",
   "metadata": {
    "tags": []
   },
   "outputs": [],
   "source": [
    "#replace outliers with median value in income\n",
    "mdf['Income']=np.where(mdf['Income']>80232.75, 33942.28,mdf['Income'])"
   ]
  },
  {
   "cell_type": "code",
   "execution_count": 37,
   "id": "5e12a56b-b396-490f-b5b2-db6fabdaf5f8",
   "metadata": {
    "tags": []
   },
   "outputs": [
    {
     "name": "stdout",
     "output_type": "stream",
     "text": [
      "5852.250564\n"
     ]
    }
   ],
   "source": [
    "#get median value for totalcharge\n",
    "med=mdf['TotalCharge'].quantile(0.5)\n",
    "print(med)"
   ]
  },
  {
   "cell_type": "code",
   "execution_count": 38,
   "id": "098a0bb5-7ea3-4609-b8f4-edc6aaf369f4",
   "metadata": {
    "tags": []
   },
   "outputs": [
    {
     "name": "stdout",
     "output_type": "stream",
     "text": [
      "14157.615055625001\n"
     ]
    }
   ],
   "source": [
    "#calculate IQR and max value for totalcharge \n",
    "q1=mdf['TotalCharge'].quantile(0.25)\n",
    "q3=mdf['TotalCharge'].quantile(0.75)\n",
    "iqr=q3-q1\n",
    "upper_limit=q3+(iqr * 1.5)\n",
    "print(upper_limit)"
   ]
  },
  {
   "cell_type": "code",
   "execution_count": 39,
   "id": "d16ec949-86d0-4b95-b133-b9eb4ee1706c",
   "metadata": {
    "tags": []
   },
   "outputs": [],
   "source": [
    "#replace outliers with median value in totalcharge\n",
    "mdf['TotalCharge']=np.where(mdf['TotalCharge']>14157.615055625001, 5852.250564,mdf['TotalCharge'])"
   ]
  },
  {
   "cell_type": "code",
   "execution_count": 40,
   "id": "ed45de01-fc36-42a9-b0d9-3808a0a4bcd3",
   "metadata": {
    "tags": []
   },
   "outputs": [],
   "source": [
    "#Define variables for PCA\n",
    "mdf_pca=mdf[['Lat','Lng','Income','VitD_levels','Initial_days','TotalCharge','Additional_charges']]"
   ]
  },
  {
   "cell_type": "code",
   "execution_count": 41,
   "id": "c1177d49-f80e-437a-ae73-882fbc6aa49a",
   "metadata": {
    "tags": []
   },
   "outputs": [],
   "source": [
    "#Normalize the PCA data\n",
    "mdf_pca_normalized=(mdf_pca-mdf_pca.mean())/mdf_pca.std()"
   ]
  },
  {
   "cell_type": "code",
   "execution_count": 42,
   "id": "82e0b140-1ed8-4ecc-b883-d4df8bb6beff",
   "metadata": {
    "tags": []
   },
   "outputs": [],
   "source": [
    "#Shape PCA analysis\n",
    "pca=PCA(n_components=mdf_pca.shape[1])"
   ]
  },
  {
   "cell_type": "code",
   "execution_count": 43,
   "id": "005f8fad-77d9-4bfc-aa7d-cfa9b4e2b456",
   "metadata": {
    "tags": []
   },
   "outputs": [
    {
     "data": {
      "text/html": [
       "<style>#sk-container-id-1 {color: black;}#sk-container-id-1 pre{padding: 0;}#sk-container-id-1 div.sk-toggleable {background-color: white;}#sk-container-id-1 label.sk-toggleable__label {cursor: pointer;display: block;width: 100%;margin-bottom: 0;padding: 0.3em;box-sizing: border-box;text-align: center;}#sk-container-id-1 label.sk-toggleable__label-arrow:before {content: \"▸\";float: left;margin-right: 0.25em;color: #696969;}#sk-container-id-1 label.sk-toggleable__label-arrow:hover:before {color: black;}#sk-container-id-1 div.sk-estimator:hover label.sk-toggleable__label-arrow:before {color: black;}#sk-container-id-1 div.sk-toggleable__content {max-height: 0;max-width: 0;overflow: hidden;text-align: left;background-color: #f0f8ff;}#sk-container-id-1 div.sk-toggleable__content pre {margin: 0.2em;color: black;border-radius: 0.25em;background-color: #f0f8ff;}#sk-container-id-1 input.sk-toggleable__control:checked~div.sk-toggleable__content {max-height: 200px;max-width: 100%;overflow: auto;}#sk-container-id-1 input.sk-toggleable__control:checked~label.sk-toggleable__label-arrow:before {content: \"▾\";}#sk-container-id-1 div.sk-estimator input.sk-toggleable__control:checked~label.sk-toggleable__label {background-color: #d4ebff;}#sk-container-id-1 div.sk-label input.sk-toggleable__control:checked~label.sk-toggleable__label {background-color: #d4ebff;}#sk-container-id-1 input.sk-hidden--visually {border: 0;clip: rect(1px 1px 1px 1px);clip: rect(1px, 1px, 1px, 1px);height: 1px;margin: -1px;overflow: hidden;padding: 0;position: absolute;width: 1px;}#sk-container-id-1 div.sk-estimator {font-family: monospace;background-color: #f0f8ff;border: 1px dotted black;border-radius: 0.25em;box-sizing: border-box;margin-bottom: 0.5em;}#sk-container-id-1 div.sk-estimator:hover {background-color: #d4ebff;}#sk-container-id-1 div.sk-parallel-item::after {content: \"\";width: 100%;border-bottom: 1px solid gray;flex-grow: 1;}#sk-container-id-1 div.sk-label:hover label.sk-toggleable__label {background-color: #d4ebff;}#sk-container-id-1 div.sk-serial::before {content: \"\";position: absolute;border-left: 1px solid gray;box-sizing: border-box;top: 0;bottom: 0;left: 50%;z-index: 0;}#sk-container-id-1 div.sk-serial {display: flex;flex-direction: column;align-items: center;background-color: white;padding-right: 0.2em;padding-left: 0.2em;position: relative;}#sk-container-id-1 div.sk-item {position: relative;z-index: 1;}#sk-container-id-1 div.sk-parallel {display: flex;align-items: stretch;justify-content: center;background-color: white;position: relative;}#sk-container-id-1 div.sk-item::before, #sk-container-id-1 div.sk-parallel-item::before {content: \"\";position: absolute;border-left: 1px solid gray;box-sizing: border-box;top: 0;bottom: 0;left: 50%;z-index: -1;}#sk-container-id-1 div.sk-parallel-item {display: flex;flex-direction: column;z-index: 1;position: relative;background-color: white;}#sk-container-id-1 div.sk-parallel-item:first-child::after {align-self: flex-end;width: 50%;}#sk-container-id-1 div.sk-parallel-item:last-child::after {align-self: flex-start;width: 50%;}#sk-container-id-1 div.sk-parallel-item:only-child::after {width: 0;}#sk-container-id-1 div.sk-dashed-wrapped {border: 1px dashed gray;margin: 0 0.4em 0.5em 0.4em;box-sizing: border-box;padding-bottom: 0.4em;background-color: white;}#sk-container-id-1 div.sk-label label {font-family: monospace;font-weight: bold;display: inline-block;line-height: 1.2em;}#sk-container-id-1 div.sk-label-container {text-align: center;}#sk-container-id-1 div.sk-container {/* jupyter's `normalize.less` sets `[hidden] { display: none; }` but bootstrap.min.css set `[hidden] { display: none !important; }` so we also need the `!important` here to be able to override the default hidden behavior on the sphinx rendered scikit-learn.org. See: https://github.com/scikit-learn/scikit-learn/issues/21755 */display: inline-block !important;position: relative;}#sk-container-id-1 div.sk-text-repr-fallback {display: none;}</style><div id=\"sk-container-id-1\" class=\"sk-top-container\"><div class=\"sk-text-repr-fallback\"><pre>PCA(n_components=7)</pre><b>In a Jupyter environment, please rerun this cell to show the HTML representation or trust the notebook. <br />On GitHub, the HTML representation is unable to render, please try loading this page with nbviewer.org.</b></div><div class=\"sk-container\" hidden><div class=\"sk-item\"><div class=\"sk-estimator sk-toggleable\"><input class=\"sk-toggleable__control sk-hidden--visually\" id=\"sk-estimator-id-1\" type=\"checkbox\" checked><label for=\"sk-estimator-id-1\" class=\"sk-toggleable__label sk-toggleable__label-arrow\">PCA</label><div class=\"sk-toggleable__content\"><pre>PCA(n_components=7)</pre></div></div></div></div></div>"
      ],
      "text/plain": [
       "PCA(n_components=7)"
      ]
     },
     "execution_count": 43,
     "metadata": {},
     "output_type": "execute_result"
    }
   ],
   "source": [
    "#Fit PCA to normalized dataset\n",
    "pca.fit(mdf_pca_normalized)"
   ]
  },
  {
   "cell_type": "code",
   "execution_count": 45,
   "id": "c5eb2930-b88c-4b79-8680-04af409137ae",
   "metadata": {
    "tags": []
   },
   "outputs": [],
   "source": [
    "#transform normalized data into new dataframe\n",
    "mdf_pca2=pd.DataFrame(pca.transform(mdf_pca_normalized),columns=['PC1','PC2','PC3','PC4','PC5','PC6','PC7'])"
   ]
  },
  {
   "cell_type": "code",
   "execution_count": 46,
   "id": "ae38774d-7d2b-4f86-bfba-d57b7d328b0c",
   "metadata": {
    "tags": []
   },
   "outputs": [
    {
     "data": {
      "text/html": [
       "<div>\n",
       "<style scoped>\n",
       "    .dataframe tbody tr th:only-of-type {\n",
       "        vertical-align: middle;\n",
       "    }\n",
       "\n",
       "    .dataframe tbody tr th {\n",
       "        vertical-align: top;\n",
       "    }\n",
       "\n",
       "    .dataframe thead th {\n",
       "        text-align: right;\n",
       "    }\n",
       "</style>\n",
       "<table border=\"1\" class=\"dataframe\">\n",
       "  <thead>\n",
       "    <tr style=\"text-align: right;\">\n",
       "      <th></th>\n",
       "      <th>PC1</th>\n",
       "      <th>PC2</th>\n",
       "      <th>PC3</th>\n",
       "      <th>PC4</th>\n",
       "      <th>PC5</th>\n",
       "      <th>PC6</th>\n",
       "      <th>PC7</th>\n",
       "    </tr>\n",
       "  </thead>\n",
       "  <tbody>\n",
       "    <tr>\n",
       "      <th>Lat</th>\n",
       "      <td>-0.016695</td>\n",
       "      <td>0.706776</td>\n",
       "      <td>0.012080</td>\n",
       "      <td>0.016910</td>\n",
       "      <td>-0.000752</td>\n",
       "      <td>-0.706934</td>\n",
       "      <td>-0.000985</td>\n",
       "    </tr>\n",
       "    <tr>\n",
       "      <th>Lng</th>\n",
       "      <td>-0.013037</td>\n",
       "      <td>-0.706286</td>\n",
       "      <td>-0.043584</td>\n",
       "      <td>0.020791</td>\n",
       "      <td>-0.011975</td>\n",
       "      <td>-0.706053</td>\n",
       "      <td>-0.001832</td>\n",
       "    </tr>\n",
       "    <tr>\n",
       "      <th>Income</th>\n",
       "      <td>-0.000167</td>\n",
       "      <td>-0.020256</td>\n",
       "      <td>0.402686</td>\n",
       "      <td>-0.880788</td>\n",
       "      <td>0.245847</td>\n",
       "      <td>-0.034696</td>\n",
       "      <td>-0.000737</td>\n",
       "    </tr>\n",
       "    <tr>\n",
       "      <th>VitD_levels</th>\n",
       "      <td>0.098878</td>\n",
       "      <td>-0.027417</td>\n",
       "      <td>0.607801</td>\n",
       "      <td>0.455939</td>\n",
       "      <td>0.634171</td>\n",
       "      <td>-0.008990</td>\n",
       "      <td>-0.099580</td>\n",
       "    </tr>\n",
       "    <tr>\n",
       "      <th>Initial_days</th>\n",
       "      <td>0.699596</td>\n",
       "      <td>0.006851</td>\n",
       "      <td>-0.108898</td>\n",
       "      <td>-0.067431</td>\n",
       "      <td>-0.065978</td>\n",
       "      <td>-0.012100</td>\n",
       "      <td>-0.699723</td>\n",
       "    </tr>\n",
       "    <tr>\n",
       "      <th>TotalCharge</th>\n",
       "      <td>0.707020</td>\n",
       "      <td>0.001337</td>\n",
       "      <td>0.001824</td>\n",
       "      <td>0.000335</td>\n",
       "      <td>-0.001383</td>\n",
       "      <td>-0.016306</td>\n",
       "      <td>0.707001</td>\n",
       "    </tr>\n",
       "    <tr>\n",
       "      <th>Additional_charges</th>\n",
       "      <td>0.021503</td>\n",
       "      <td>-0.020403</td>\n",
       "      <td>0.674177</td>\n",
       "      <td>0.105194</td>\n",
       "      <td>-0.729992</td>\n",
       "      <td>-0.006059</td>\n",
       "      <td>-0.024823</td>\n",
       "    </tr>\n",
       "  </tbody>\n",
       "</table>\n",
       "</div>"
      ],
      "text/plain": [
       "                         PC1       PC2       PC3       PC4       PC5  \\\n",
       "Lat                -0.016695  0.706776  0.012080  0.016910 -0.000752   \n",
       "Lng                -0.013037 -0.706286 -0.043584  0.020791 -0.011975   \n",
       "Income             -0.000167 -0.020256  0.402686 -0.880788  0.245847   \n",
       "VitD_levels         0.098878 -0.027417  0.607801  0.455939  0.634171   \n",
       "Initial_days        0.699596  0.006851 -0.108898 -0.067431 -0.065978   \n",
       "TotalCharge         0.707020  0.001337  0.001824  0.000335 -0.001383   \n",
       "Additional_charges  0.021503 -0.020403  0.674177  0.105194 -0.729992   \n",
       "\n",
       "                         PC6       PC7  \n",
       "Lat                -0.706934 -0.000985  \n",
       "Lng                -0.706053 -0.001832  \n",
       "Income             -0.034696 -0.000737  \n",
       "VitD_levels        -0.008990 -0.099580  \n",
       "Initial_days       -0.012100 -0.699723  \n",
       "TotalCharge        -0.016306  0.707001  \n",
       "Additional_charges -0.006059 -0.024823  "
      ]
     },
     "execution_count": 46,
     "metadata": {},
     "output_type": "execute_result"
    }
   ],
   "source": [
    "#get PCA loadings matrix\n",
    "loadings=pd.DataFrame(pca.components_.T,columns=['PC1','PC2','PC3','PC4','PC5','PC6','PC7'],index=mdf_pca.columns)\n",
    "loadings"
   ]
  },
  {
   "cell_type": "code",
   "execution_count": 47,
   "id": "2990b094-2109-4840-a1d4-3f65cda8916d",
   "metadata": {
    "tags": []
   },
   "outputs": [],
   "source": [
    "#calculate covariants for PCA\n",
    "cov_matrix=np.dot(mdf_pca_normalized.T,mdf_pca_normalized)/mdf_pca.shape[0]"
   ]
  },
  {
   "cell_type": "code",
   "execution_count": 48,
   "id": "ce805188-8dd0-4fcd-a730-489b7ec499b4",
   "metadata": {
    "tags": []
   },
   "outputs": [],
   "source": [
    "#create eigenvalue vectors \n",
    "eigenvalues=[np.dot(eigenvector.T,np.dot(cov_matrix,eigenvector)) for eigenvector in pca.components_]"
   ]
  },
  {
   "cell_type": "code",
   "execution_count": 49,
   "id": "3f28e82e-e1ce-4c08-9679-e410492bdbb7",
   "metadata": {
    "tags": []
   },
   "outputs": [
    {
     "data": {
      "image/png": "[encoded data removed]",
      "text/plain": [
       "<Figure size 640x480 with 1 Axes>"
      ]
     },
     "metadata": {},
     "output_type": "display_data"
    }
   ],
   "source": [
    "#plot eigenvalues on scree plot\n",
    "plt.plot(eigenvalues)\n",
    "plt.xlabel('number of components')\n",
    "plt.ylabel('eigenvalue')\n",
    "plt.axhline(y=1, color=\"red\")\n",
    "plt.show()"
   ]
  },
  {
   "cell_type": "code",
   "execution_count": 51,
   "id": "813c00df-6e85-42c6-88a2-8e3cd8c6a8c0",
   "metadata": {
    "tags": []
   },
   "outputs": [],
   "source": [
    "#extract cleaned data\n",
    "mdf.to_csv(r'/Users/robertpatton/Documents/medical_clean_data.csv')"
   ]
  }
 ],
 "metadata": {
  "kernelspec": {
   "display_name": "Python 3 (ipykernel)",
   "language": "python",
   "name": "python3"
  },
  "language_info": {
   "codemirror_mode": {
    "name": "ipython",
    "version": 3
   },
   "file_extension": ".py",
   "mimetype": "text/x-python",
   "name": "python",
   "nbconvert_exporter": "python",
   "pygments_lexer": "ipython3",
   "version": "3.11.4"
  }
 },
 "nbformat": 4,
 "nbformat_minor": 5
}
