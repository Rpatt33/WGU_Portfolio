{
 "cells": [
  {
   "cell_type": "code",
   "execution_count": 1,
   "id": "bba88294-ae95-47c3-8004-2494a5fa31ef",
   "metadata": {
    "tags": []
   },
   "outputs": [],
   "source": [
    "import pandas as pd\n",
    "import numpy as np\n",
    "import nltk\n",
    "import matplotlib.pyplot as plt\n",
    "%matplotlib inline\n",
    "import seaborn as sns\n",
    "from nltk.tokenize import word_tokenize\n",
    "from nltk.corpus import stopwords\n",
    "from sklearn import preprocessing\n",
    "from sklearn.preprocessing import OneHotEncoder\n",
    "from sklearn import model_selection\n",
    "from sklearn.model_selection import train_test_split\n",
    "import re\n",
    "import tensorflow.keras as tfk\n",
    "from tensorflow.keras import preprocessing\n",
    "from tensorflow.keras.preprocessing.text import Tokenizer\n",
    "from tensorflow.keras.callbacks import EarlyStopping\n",
    "from tensorflow.keras.models import load_model\n",
    "from tensorflow.keras.layers import LSTM, Dense, Embedding, Dropout, SpatialDropout1D, GlobalAveragePooling1D\n",
    "from tensorflow.keras.models import Sequential\n",
    "from tensorflow.keras.metrics import Accuracy, Precision, Recall\n",
    "from tensorflow.keras.preprocessing.sequence import pad_sequences\n",
    "import warnings\n",
    "warnings.filterwarnings('ignore')"
   ]
  },
  {
   "cell_type": "code",
   "execution_count": 2,
   "id": "186d1156-e1e4-435c-83f2-f7e8e10d55d8",
   "metadata": {
    "tags": []
   },
   "outputs": [
    {
     "name": "stdout",
     "output_type": "stream",
     "text": [
      "<class 'pandas.core.frame.DataFrame'>\n",
      "RangeIndex: 1000 entries, 0 to 999\n",
      "Data columns (total 2 columns):\n",
      " #   Column     Non-Null Count  Dtype \n",
      "---  ------     --------------  ----- \n",
      " 0   Review     1000 non-null   object\n",
      " 1   Sentiment  1000 non-null   int64 \n",
      "dtypes: int64(1), object(1)\n",
      "memory usage: 15.8+ KB\n"
     ]
    }
   ],
   "source": [
    "#Import text file as a tab-delimited file\n",
    "column_names=['Review', 'Sentiment']\n",
    "df=pd.read_csv('/Users/robertpatton/Desktop/Desktop - Robert’s MacBook Pro/D213/Task 2/sentiment labelled sentences/amazon_cells_labelled.txt', sep='\\t', names=column_names)\n",
    "pd.set_option('max_colwidth', 160)\n",
    "df.info()"
   ]
  },
  {
   "cell_type": "code",
   "execution_count": 3,
   "id": "fa70a1e7-9396-4f32-9674-4030fbdde361",
   "metadata": {
    "tags": []
   },
   "outputs": [
    {
     "data": {
      "text/html": [
       "<div>\n",
       "<style scoped>\n",
       "    .dataframe tbody tr th:only-of-type {\n",
       "        vertical-align: middle;\n",
       "    }\n",
       "\n",
       "    .dataframe tbody tr th {\n",
       "        vertical-align: top;\n",
       "    }\n",
       "\n",
       "    .dataframe thead th {\n",
       "        text-align: right;\n",
       "    }\n",
       "</style>\n",
       "<table border=\"1\" class=\"dataframe\">\n",
       "  <thead>\n",
       "    <tr style=\"text-align: right;\">\n",
       "      <th></th>\n",
       "      <th>Review</th>\n",
       "      <th>Sentiment</th>\n",
       "    </tr>\n",
       "  </thead>\n",
       "  <tbody>\n",
       "    <tr>\n",
       "      <th>0</th>\n",
       "      <td>So there is no way for me to plug it in here in the US unless I go by a converter.</td>\n",
       "      <td>0</td>\n",
       "    </tr>\n",
       "    <tr>\n",
       "      <th>1</th>\n",
       "      <td>Good case, Excellent value.</td>\n",
       "      <td>1</td>\n",
       "    </tr>\n",
       "    <tr>\n",
       "      <th>2</th>\n",
       "      <td>Great for the jawbone.</td>\n",
       "      <td>1</td>\n",
       "    </tr>\n",
       "    <tr>\n",
       "      <th>3</th>\n",
       "      <td>Tied to charger for conversations lasting more than 45 minutes.MAJOR PROBLEMS!!</td>\n",
       "      <td>0</td>\n",
       "    </tr>\n",
       "    <tr>\n",
       "      <th>4</th>\n",
       "      <td>The mic is great.</td>\n",
       "      <td>1</td>\n",
       "    </tr>\n",
       "  </tbody>\n",
       "</table>\n",
       "</div>"
      ],
      "text/plain": [
       "                                                                               Review  \\\n",
       "0  So there is no way for me to plug it in here in the US unless I go by a converter.   \n",
       "1                                                         Good case, Excellent value.   \n",
       "2                                                              Great for the jawbone.   \n",
       "3     Tied to charger for conversations lasting more than 45 minutes.MAJOR PROBLEMS!!   \n",
       "4                                                                   The mic is great.   \n",
       "\n",
       "   Sentiment  \n",
       "0          0  \n",
       "1          1  \n",
       "2          1  \n",
       "3          0  \n",
       "4          1  "
      ]
     },
     "execution_count": 3,
     "metadata": {},
     "output_type": "execute_result"
    }
   ],
   "source": [
    "#Look at first 5 rows\n",
    "df.head()"
   ]
  },
  {
   "cell_type": "code",
   "execution_count": 4,
   "id": "123b9b97-fa87-47eb-818d-fa96586b0784",
   "metadata": {
    "tags": []
   },
   "outputs": [
    {
     "data": {
      "text/plain": [
       "(1000, 2)"
      ]
     },
     "execution_count": 4,
     "metadata": {},
     "output_type": "execute_result"
    }
   ],
   "source": [
    "#Get shape of data\n",
    "df.shape"
   ]
  },
  {
   "cell_type": "code",
   "execution_count": 5,
   "id": "1be1ccf9-0ce0-4540-9c2b-ab9c0bd5202a",
   "metadata": {
    "tags": []
   },
   "outputs": [
    {
     "data": {
      "text/plain": [
       "0    500\n",
       "1    500\n",
       "Name: Sentiment, dtype: int64"
      ]
     },
     "execution_count": 5,
     "metadata": {},
     "output_type": "execute_result"
    }
   ],
   "source": [
    "#Get value counts for sentiment. o=neg, 1=pos\n",
    "sentiment_counts=df.Sentiment.value_counts()\n",
    "sentiment_counts"
   ]
  },
  {
   "cell_type": "code",
   "execution_count": 6,
   "id": "f0f2c558-0151-481b-9561-8efc10abe268",
   "metadata": {
    "tags": []
   },
   "outputs": [
    {
     "data": {
      "text/plain": [
       "0      False\n",
       "1      False\n",
       "2      False\n",
       "3      False\n",
       "4      False\n",
       "       ...  \n",
       "995    False\n",
       "996    False\n",
       "997    False\n",
       "998    False\n",
       "999    False\n",
       "Length: 1000, dtype: bool"
      ]
     },
     "execution_count": 6,
     "metadata": {},
     "output_type": "execute_result"
    }
   ],
   "source": [
    "#Check for duplicate values\n",
    "df.duplicated()"
   ]
  },
  {
   "cell_type": "code",
   "execution_count": 7,
   "id": "c3a78699-94f9-426f-bfb3-1a72c1713f42",
   "metadata": {
    "tags": []
   },
   "outputs": [
    {
     "data": {
      "text/plain": [
       "Review       0\n",
       "Sentiment    0\n",
       "dtype: int64"
      ]
     },
     "execution_count": 7,
     "metadata": {},
     "output_type": "execute_result"
    }
   ],
   "source": [
    "#Check null and NaN values\n",
    "df.isna().sum()\n",
    "df.dropna(inplace=True)\n",
    "df.isnull().sum()"
   ]
  },
  {
   "cell_type": "code",
   "execution_count": 8,
   "id": "ce4eac83-0870-4515-952a-41e21151ad36",
   "metadata": {
    "tags": []
   },
   "outputs": [
    {
     "data": {
      "text/plain": [
       "<Axes: xlabel='Sentiment', ylabel='count'>"
      ]
     },
     "execution_count": 8,
     "metadata": {},
     "output_type": "execute_result"
    },
    {
     "data": {
      "image/png": "[encoded data removed]",
      "text/plain": [
       "<Figure size 640x480 with 1 Axes>"
      ]
     },
     "metadata": {},
     "output_type": "display_data"
    }
   ],
   "source": [
    "#Create count plot for sentiment values\n",
    "sns.countplot(df, x=\"Sentiment\")"
   ]
  },
  {
   "cell_type": "code",
   "execution_count": 9,
   "id": "835ff7b5-bea1-4891-a26c-6586de6922f0",
   "metadata": {
    "tags": []
   },
   "outputs": [
    {
     "data": {
      "text/html": [
       "<div>\n",
       "<style scoped>\n",
       "    .dataframe tbody tr th:only-of-type {\n",
       "        vertical-align: middle;\n",
       "    }\n",
       "\n",
       "    .dataframe tbody tr th {\n",
       "        vertical-align: top;\n",
       "    }\n",
       "\n",
       "    .dataframe thead th {\n",
       "        text-align: right;\n",
       "    }\n",
       "</style>\n",
       "<table border=\"1\" class=\"dataframe\">\n",
       "  <thead>\n",
       "    <tr style=\"text-align: right;\">\n",
       "      <th></th>\n",
       "      <th>Review</th>\n",
       "      <th>Sentiment</th>\n",
       "    </tr>\n",
       "  </thead>\n",
       "  <tbody>\n",
       "    <tr>\n",
       "      <th>0</th>\n",
       "      <td>so there is no way for me to plug it in here in the us unless i go by a converter.</td>\n",
       "      <td>0</td>\n",
       "    </tr>\n",
       "    <tr>\n",
       "      <th>1</th>\n",
       "      <td>good case, excellent value.</td>\n",
       "      <td>1</td>\n",
       "    </tr>\n",
       "    <tr>\n",
       "      <th>2</th>\n",
       "      <td>great for the jawbone.</td>\n",
       "      <td>1</td>\n",
       "    </tr>\n",
       "    <tr>\n",
       "      <th>3</th>\n",
       "      <td>tied to charger for conversations lasting more than 45 minutes.major problems!!</td>\n",
       "      <td>0</td>\n",
       "    </tr>\n",
       "    <tr>\n",
       "      <th>4</th>\n",
       "      <td>the mic is great.</td>\n",
       "      <td>1</td>\n",
       "    </tr>\n",
       "    <tr>\n",
       "      <th>...</th>\n",
       "      <td>...</td>\n",
       "      <td>...</td>\n",
       "    </tr>\n",
       "    <tr>\n",
       "      <th>995</th>\n",
       "      <td>the screen does get smudged easily because it touches your ear and face.</td>\n",
       "      <td>0</td>\n",
       "    </tr>\n",
       "    <tr>\n",
       "      <th>996</th>\n",
       "      <td>what a piece of junk.. i lose more calls on this phone.</td>\n",
       "      <td>0</td>\n",
       "    </tr>\n",
       "    <tr>\n",
       "      <th>997</th>\n",
       "      <td>item does not match picture.</td>\n",
       "      <td>0</td>\n",
       "    </tr>\n",
       "    <tr>\n",
       "      <th>998</th>\n",
       "      <td>the only thing that disappoint me is the infra red port (irda).</td>\n",
       "      <td>0</td>\n",
       "    </tr>\n",
       "    <tr>\n",
       "      <th>999</th>\n",
       "      <td>you can not answer calls with the unit, never worked once!</td>\n",
       "      <td>0</td>\n",
       "    </tr>\n",
       "  </tbody>\n",
       "</table>\n",
       "<p>1000 rows × 2 columns</p>\n",
       "</div>"
      ],
      "text/plain": [
       "                                                                                 Review  \\\n",
       "0    so there is no way for me to plug it in here in the us unless i go by a converter.   \n",
       "1                                                           good case, excellent value.   \n",
       "2                                                                great for the jawbone.   \n",
       "3       tied to charger for conversations lasting more than 45 minutes.major problems!!   \n",
       "4                                                                     the mic is great.   \n",
       "..                                                                                  ...   \n",
       "995            the screen does get smudged easily because it touches your ear and face.   \n",
       "996                             what a piece of junk.. i lose more calls on this phone.   \n",
       "997                                                        item does not match picture.   \n",
       "998                     the only thing that disappoint me is the infra red port (irda).   \n",
       "999                          you can not answer calls with the unit, never worked once!   \n",
       "\n",
       "     Sentiment  \n",
       "0            0  \n",
       "1            1  \n",
       "2            1  \n",
       "3            0  \n",
       "4            1  \n",
       "..         ...  \n",
       "995          0  \n",
       "996          0  \n",
       "997          0  \n",
       "998          0  \n",
       "999          0  \n",
       "\n",
       "[1000 rows x 2 columns]"
      ]
     },
     "execution_count": 9,
     "metadata": {},
     "output_type": "execute_result"
    }
   ],
   "source": [
    "#lower case the reviews\n",
    "df['Review']=df['Review'].str.lower()\n",
    "df"
   ]
  },
  {
   "cell_type": "code",
   "execution_count": 10,
   "id": "62dccc9a-ddc7-4533-9ca9-d01b83741ac9",
   "metadata": {
    "tags": []
   },
   "outputs": [
    {
     "data": {
      "text/html": [
       "<div>\n",
       "<style scoped>\n",
       "    .dataframe tbody tr th:only-of-type {\n",
       "        vertical-align: middle;\n",
       "    }\n",
       "\n",
       "    .dataframe tbody tr th {\n",
       "        vertical-align: top;\n",
       "    }\n",
       "\n",
       "    .dataframe thead th {\n",
       "        text-align: right;\n",
       "    }\n",
       "</style>\n",
       "<table border=\"1\" class=\"dataframe\">\n",
       "  <thead>\n",
       "    <tr style=\"text-align: right;\">\n",
       "      <th></th>\n",
       "      <th>Review</th>\n",
       "      <th>Sentiment</th>\n",
       "    </tr>\n",
       "  </thead>\n",
       "  <tbody>\n",
       "    <tr>\n",
       "      <th>0</th>\n",
       "      <td>so there is no way for me to plug it in here in the us unless i go by a converter</td>\n",
       "      <td>0</td>\n",
       "    </tr>\n",
       "    <tr>\n",
       "      <th>1</th>\n",
       "      <td>good case, excellent value</td>\n",
       "      <td>1</td>\n",
       "    </tr>\n",
       "    <tr>\n",
       "      <th>2</th>\n",
       "      <td>great for the jawbone</td>\n",
       "      <td>1</td>\n",
       "    </tr>\n",
       "    <tr>\n",
       "      <th>3</th>\n",
       "      <td>tied to charger for conversations lasting more than 45 minutesmajor problems</td>\n",
       "      <td>0</td>\n",
       "    </tr>\n",
       "    <tr>\n",
       "      <th>4</th>\n",
       "      <td>the mic is great</td>\n",
       "      <td>1</td>\n",
       "    </tr>\n",
       "  </tbody>\n",
       "</table>\n",
       "</div>"
      ],
      "text/plain": [
       "                                                                              Review  \\\n",
       "0  so there is no way for me to plug it in here in the us unless i go by a converter   \n",
       "1                                                         good case, excellent value   \n",
       "2                                                              great for the jawbone   \n",
       "3       tied to charger for conversations lasting more than 45 minutesmajor problems   \n",
       "4                                                                   the mic is great   \n",
       "\n",
       "   Sentiment  \n",
       "0          0  \n",
       "1          1  \n",
       "2          1  \n",
       "3          0  \n",
       "4          1  "
      ]
     },
     "execution_count": 10,
     "metadata": {},
     "output_type": "execute_result"
    }
   ],
   "source": [
    "def remove_punctuation(text):\n",
    "    final = \"\".join(u for u in text if u not in (\"?\", \".\", \";\", \":\",  \"!\",'\"'))\n",
    "    return final\n",
    "df['Review'] = df['Review'].apply(remove_punctuation)\n",
    "df.head()"
   ]
  },
  {
   "cell_type": "code",
   "execution_count": 11,
   "id": "505d621e-8b5a-438a-9a00-cad5be9e958e",
   "metadata": {
    "tags": []
   },
   "outputs": [
    {
     "data": {
      "text/plain": [
       "['so there is no way for me to plug it in here in the us unless i go by a converter',\n",
       " 'good case, excellent value',\n",
       " 'great for the jawbone',\n",
       " 'tied to charger for conversations lasting more than 45 minutesmajor problems',\n",
       " 'the mic is great',\n",
       " 'i have to jiggle the plug to get it to line up right to get decent volume',\n",
       " 'if you have several dozen or several hundred contacts, then imagine the fun of sending each of them one by one',\n",
       " 'if you are razr owneryou must have this',\n",
       " 'needless to say, i wasted my money',\n",
       " 'what a waste of money and time',\n",
       " 'and the sound quality is great',\n",
       " 'he was very impressed when going from the original battery to the extended battery',\n",
       " 'if the two were seperated by a mere 5+ ft i started to notice excessive static and garbled sound from the headset',\n",
       " 'very good quality though',\n",
       " 'the design is very odd, as the ear clip is not very comfortable at all',\n",
       " 'highly recommend for any one who has a blue tooth phone',\n",
       " 'i advise everyone do not be fooled',\n",
       " 'so far so good',\n",
       " 'works great',\n",
       " 'it clicks into place in a way that makes you wonder how long that mechanism would last',\n",
       " \"i went on motorola's website and followed all directions, but could not get it to pair again\",\n",
       " 'i bought this to use with my kindle fire and absolutely loved it',\n",
       " 'the commercials are the most misleading',\n",
       " \"i have yet to run this new battery below two bars and that's three days without charging\",\n",
       " 'i bought it for my mother and she had a problem with the battery',\n",
       " 'great pocket pc / phone combination',\n",
       " \"i've owned this phone for 7 months now and can say that it's the best mobile phone i've had\",\n",
       " \"i didn't think that the instructions provided were helpful to me\",\n",
       " 'people couldnt hear me talk and i had to pull out the earphone and talk on the phone',\n",
       " \"doesn't hold charge\",\n",
       " 'this is a simple little phone to use, but the breakage is unacceptible',\n",
       " 'this product is ideal for people like me whose ears are very sensitive',\n",
       " 'it is unusable in a moving car at freeway speed',\n",
       " 'i have two more years left in this contract and i hate this phone',\n",
       " 'car charger as well as ac charger are included to make sure you never run out of juicehighy recommended',\n",
       " 'you need at least 3 mins to get to your phone book from the time you first turn on the phonebattery life is short',\n",
       " 'it has kept up very well',\n",
       " 'poor talk time performance',\n",
       " 'the case is great and works fine with the 680',\n",
       " 'worthless product',\n",
       " 'it has a great camera thats 2mp, and the pics are nice and clear with great picture quality',\n",
       " 'i was not impressed by this product',\n",
       " 'nice headset priced right',\n",
       " 'i only hear garbage for audio',\n",
       " 'excellent bluetooth headset',\n",
       " 'it has all the features i want',\n",
       " 'who in their right mind is gonna buy this battery',\n",
       " 'after arguing with verizon regarding the dropped calls we returned the phones after two days',\n",
       " 'this case seems well made',\n",
       " 'disappointed with battery',\n",
       " \"not loud enough and doesn't turn on like it should\",\n",
       " 'good protection and does not make phone too bulky',\n",
       " 'a usable keyboard actually turns a pda into a real-world useful machine instead of just a neat gadget',\n",
       " \"this phone is pretty sturdy and i've never had any large problems with it\",\n",
       " 'i love this thing',\n",
       " 'everything about it is fine and reasonable for the price ie',\n",
       " 'very disappointed',\n",
       " 'i even dropped this phone into a stream and it was submerged for 15 seconds and it still works great',\n",
       " 'i have been very happy with the 510 and have had no complaints from any one regarding my sound quality on their end',\n",
       " 'the buttons for on and off are bad',\n",
       " \"essentially you can forget microsoft's tech support\",\n",
       " 'i really recommend this faceplates since it looks very nice, elegant and cool',\n",
       " \"these headphones were a great find - and i think they are perhaps the best purchase i've made in the last several years - seriously\",\n",
       " 'buy a different phone - but not this',\n",
       " 'you have to hold the phone at a particular angle for the other party to hear you clearly',\n",
       " \"the one big drawback of the mp3 player is that the buttons on the phone's front cover that let you pause and skip songs lock out after a few seconds\",\n",
       " 'a week later after i activated it, it suddenly died',\n",
       " 'it feels more comfortable than most headsets because i wear glasses and that gets in the way sometimes',\n",
       " 'great for ipods too',\n",
       " 'this device is great in several situations1)',\n",
       " \"mic doesn't work\",\n",
       " 'even in my bmw 3 series which is fairly quiet, i have trouble hearing what the other person is saying',\n",
       " 'great choice',\n",
       " 'nice docking station for home or work',\n",
       " 'this is a beautiful phone',\n",
       " 'love this product',\n",
       " 'do not buy for d807wrongly advertised for d807',\n",
       " 'this is a great little item',\n",
       " 'i love this phone , it is very handy and has a lot of features ',\n",
       " 'i purchased this and within 2 days it was no longer working',\n",
       " 'i wear it everyday and it holds up very well',\n",
       " 'not a good bargain',\n",
       " 'well packaged, arrived on time, and works as intended',\n",
       " 'the battery runs down quickly',\n",
       " 'this item worked great, but it broke after 6 months of use',\n",
       " 'the headsets are easy to use and everyone loves them',\n",
       " 'this phone works great',\n",
       " 'the construction of the headsets is poor',\n",
       " 'product was excellent and works better than the verizon one and boy was it cheaper',\n",
       " 'the phone loads super',\n",
       " 'for a product that costs as much as this one does, i expect it to work far better and with greater ease than this thing does',\n",
       " 'made very sturdy',\n",
       " 'worked great',\n",
       " 'the ear buds only play music in one ear',\n",
       " 'dont waste your money',\n",
       " 'will order from them again',\n",
       " 'if you plan to use this in a car forget about it',\n",
       " 'i found this product to be waaay too big',\n",
       " \"best i've found so far  i've tried 2 other bluetooths and this one has the best quality (for both me and the listener) as well as ease of using\",\n",
       " \"i'm very disappointed with my decision\",\n",
       " 'integrated seamlessly with the motorola razr phone',\n",
       " 'buyer beware, you could flush money right down the toilet',\n",
       " 'definitely a bargain',\n",
       " 'the price was very good and with the free shipping and all it was a good purchase',\n",
       " 'i received my supposedly new motorola 375 and apparently there was not a match between the phone and the charger',\n",
       " 'pros-good camera - very nice pictures , also has cool styles like black and white, and more',\n",
       " \"that's a huge design flaw (unless i'm not using it correctly, which i don't think is the case)\",\n",
       " 'i love my 350 headset my jabra350 bluetooth headset is great, the reception is very good and the ear piece is a comfortable fit',\n",
       " 'the camera, although rated at an impressive 13 megapixels, renders images that fall well below expectations of such a relatively high resolution',\n",
       " 'i purcashed this for the car charger and it does not work',\n",
       " 'sound quality on both end is excellent, i use headset to call my wife and ask my wife to use headset to call me 2',\n",
       " 'this phone is slim and light and the display is beautiful',\n",
       " 'its a little geeky but i think thats its sex on toast and it rocks and oozes sex right down to its battery embedded sleek stylish leather case',\n",
       " 'great product, fast shipping',\n",
       " 'absolutely great',\n",
       " 'the keyboard is a nice compromise between a full qwerty and the basic cell phone number keypad',\n",
       " \"i got this phone around the end of may and i'm completely unhappy with it\",\n",
       " 'it is very comfortable on the ear',\n",
       " 'it has been a winner for us',\n",
       " \")setup couldn't have been simpler\",\n",
       " \"i've tried several different earpieces for my cell phone and this jabra one is the first one i've found that fits my ear comfortably\",\n",
       " 'could not get strong enough signal',\n",
       " 'iam very pleased with my purchase',\n",
       " 'bad quality',\n",
       " 'gets the job done',\n",
       " 'great audio',\n",
       " 'basically the service was very bad',\n",
       " 'it did not work in my cell phone plug i am very up set with the charger',\n",
       " \"i've only had my bluetooth for a few weeks, but i really like it\",\n",
       " 'the bt headset was such a disapoinment',\n",
       " \"it is so small and you don't even realize that it is there after a while of getting used to it\",\n",
       " 'the accompanied software is almost brilliant',\n",
       " 'headset works great & was packaged nicely to avoid any damage',\n",
       " 'i definitly recommend',\n",
       " 'buyer--be very careful',\n",
       " 'the majority of the logitech earbud headsets failed',\n",
       " 'very good stuff for the price',\n",
       " 'my headset works just peachy-keen',\n",
       " 'in my house i was getting dropped coverage upstairs and no coverage in my basement',\n",
       " 'voice recognition is tremendous',\n",
       " 'what a waste',\n",
       " 'during several different 2 minute calls, i experienced 5 drops and it was in an area that had 5 bars',\n",
       " 'i was not happy with this item',\n",
       " 'the phone takes forever to charge like 2 to 5 hours literally',\n",
       " \"i got this phone on reccomendation from a relative and i'm glad i did\",\n",
       " 'what a waste of time',\n",
       " 'its reception is very very poor',\n",
       " 'items stated as included from the description are not included',\n",
       " 'after 3 months, screen just went black all of a sudden',\n",
       " 'i was hoping for more',\n",
       " 'audio quality is poor, very poor',\n",
       " 'i had absolutely no problem with this headset linking to my 8530 blackberry curve',\n",
       " \"i know that sounds funny, but to me it seemed like sketchy technology that wouldn't work wellwell, this one works great\",\n",
       " \"i've bought $5 wired headphones that sound better than these\",\n",
       " 'this phone is very fast with sending any kind of messages and web browsing is significantly faster than previous phones i have used',\n",
       " 'nice quality build, unlike some cheap s*** out there',\n",
       " 'this item is fantastic and works perfectly',\n",
       " 'and i just love the colors',\n",
       " 'w810i is just superb',\n",
       " 'all i can do is whine on the internet, so here it goesthe more i use the thing the less i like it',\n",
       " 'great charger',\n",
       " 'this is essentially a communications tool that does not communicate',\n",
       " 'works like a charm it work the same as the one i got with the phone',\n",
       " \"i still maintain that monkeys shouldn't make headphones, we just obviously don't share enough dna to copy the design over to humans\",\n",
       " 'great value',\n",
       " \"doesn't work at all i bougth it for my l7c and its not working\",\n",
       " 'the look of it is very sharp and the screen is nice and clear, with great graphics',\n",
       " \"doesn't last long\",\n",
       " 'one thing i hate is the mode set button at the side',\n",
       " 'excellent service',\n",
       " 'thank you for wasting my money',\n",
       " 'how can that bethe audio quality is poor',\n",
       " 'the igo chargers and tips are really great',\n",
       " 'the file browser offers all the options that one needshandsfree is great',\n",
       " 'superb phone on a great network',\n",
       " \"i connected my wife's bluetooth,(motorola hs850) to my phone and it worked like a charm whether the phone was in my pocket or the case\",\n",
       " 'i put the latest os on it (v115g), and it now likes to slow to a crawl and lock up every once in a while',\n",
       " 'it only recognizes the phone as its storage device',\n",
       " 'if you like a loud buzzing to override all your conversations, then this phone is for you',\n",
       " \"don't buy this product\",\n",
       " \"i've had this bluetoooth headset for some time now and still not comfortable with the way it fits on the ear\",\n",
       " 'the sound quality is good and functionality is awesome',\n",
       " 'i have this phone and it is a thorn in my side, i really abhor it',\n",
       " 'i recently had problems where i could not stay connected for more than 10 minutes before being disconnected',\n",
       " 'incredible',\n",
       " 'design flaw',\n",
       " 'great phone',\n",
       " 'waste of 13 bucks',\n",
       " \"but when i check voice mail at night, the keypad backlight turns off a few seconds into the first message, and then i'm lost\",\n",
       " 'the replacement died in a few weeks',\n",
       " 'any ring toneoverall good phone to buy',\n",
       " 'lately they have been extremely nice and helpful on the phone',\n",
       " 'i have had problems wit hit dropping signal and more',\n",
       " 'not impressed',\n",
       " 'light weight, i hardly notice it is there',\n",
       " \"you'll love how thin it is\",\n",
       " 'bad choice',\n",
       " \"the pleather case doesn't fit\",\n",
       " 'useless phone, simply deaf',\n",
       " 'the color is even prettier than i thought it would be, and the graphics are incredibly sharp',\n",
       " 'all in all i think it was a good investment',\n",
       " 'it makes very strange ticking noises before it ends the call',\n",
       " 'the best electronics of the available fm transmitters',\n",
       " 'battery lasts only a few hours',\n",
       " 'great headset, very impressed - h500',\n",
       " 'the 12 mega pixel camera, being a part of a phone, is reasonably good7',\n",
       " \"i've had this for nearly 2 years and it has worked great for me\",\n",
       " 'good transmit audio',\n",
       " 'we are sending it back',\n",
       " 'i did not bother contacting the company for few dollar product but i learned the lesson that i should not have bought this form online anyway',\n",
       " 'if you hate earbugs, avoid this phone by all means',\n",
       " 'great price also',\n",
       " \"the range is very decent, i've been able to roam around my house with the phone in the living room with no reception/sound quality issues\",\n",
       " 'fast service',\n",
       " 'i would highly recommend this',\n",
       " 'i would recommend this',\n",
       " \"i also didn't like the on button, it felt like it would crack with use\",\n",
       " 'worst phone ever',\n",
       " \"i'm still infatuated with this phone\",\n",
       " 'freezes frequently4',\n",
       " \"it's kind of embarrassing to use because of how it looks and mostly it's embarrassing how child-like the company is\",\n",
       " 'simple, lightweight and great fit',\n",
       " \"all in all, i'd expected a better consumer experience from motorola\",\n",
       " \"there's a horrible tick sound in the background on all my calls that i have never experienced before\",\n",
       " 'these are certainly very comfortable and functionality is decent',\n",
       " \"i usually don't like headbands but this one is very lightweight & doesn't mess up my hair\",\n",
       " \"i'm a bit disappointed\",\n",
       " 'i have had this phone for over a year now, and i will tell you, its not that great',\n",
       " 'i ordered this for sony ericsson w810i but i think it only worked once (thats when i first used it)',\n",
       " 'the battery is completely useless to me',\n",
       " 'what a big waste of time',\n",
       " \"don't waste your $$$ on this one\",\n",
       " 'great sound and service',\n",
       " 'really pleased with this product so far',\n",
       " 'one of my favorite purchases ever',\n",
       " 'best bluetooth on the market',\n",
       " 'authentic leather with nice shine and comfort i recommend you this case ',\n",
       " 'i was very excited to get this headset because i thought it was really cute',\n",
       " 'do not make the same mistake as me',\n",
       " 'big disappointment with calendar sync',\n",
       " 'the phone was unusable and was not new',\n",
       " 'worst customer service ever',\n",
       " 'no additional ear gels provided, and no instructions whatsoever',\n",
       " 'it defeats the purpose of a bluetooth headset',\n",
       " 'worth every penny',\n",
       " 'excellent wallet type phone case',\n",
       " 'nice headphones for the price and they work great',\n",
       " 'internet is excrutiatingly slow',\n",
       " 'it is very comfortable to wear as well, which is probably the most important aspect about using a case',\n",
       " \"it's fits like a glove and is strong, secure, and durable\",\n",
       " 'o my gosh the best phone i have ever had',\n",
       " \"it's very attractive and appears to be of good quality\",\n",
       " 'i love all the features and form factor',\n",
       " 'this product had a strong rubber/petroleum smell that was unbearable after a while and caused me to return it',\n",
       " 'poor quality and service',\n",
       " 'the cable looks so thin and flimsy, it is scary',\n",
       " 'great earpiece',\n",
       " 'excellent hands free tool',\n",
       " 'great for using with your home stereo',\n",
       " 'good product - incredible value',\n",
       " \"only had this a month but it's worked flawlessly so far\",\n",
       " 'absolutel junk',\n",
       " \"that one didn't work either\",\n",
       " 'battery life is real good',\n",
       " 'returned 8 hours later',\n",
       " \"it's a great item\",\n",
       " \"don't waste your money\",\n",
       " 'love this headset',\n",
       " 'not only will it drain your player, but may also potentially fry it',\n",
       " 'worked perfectly',\n",
       " \"unreliable - i'm giving up\",\n",
       " 'i gave it 5 stars because of the sound quality',\n",
       " 'avoid this one if you can',\n",
       " 'reversible plug works great',\n",
       " 'i wasted my little money with this earpiece',\n",
       " 'very good phone',\n",
       " 'best of all is the rotating feature, very helpful',\n",
       " 'comfort for our whole family',\n",
       " 'good product, good seller',\n",
       " 'i love this bluetooth',\n",
       " \"first of all, it doesn't wear well\",\n",
       " 'i am very impressed with this headset from plantronics',\n",
       " 'i got it because it was so small and adorable',\n",
       " \"i wouldn't recommend buying this product\",\n",
       " 'piece of junk',\n",
       " 'poorly contstruct hinge',\n",
       " 'this item is great, installed it, let it charged up overnite and it has been working good every since with no problems',\n",
       " \"don't buy it\",\n",
       " 'excellent phone',\n",
       " 'do not purchase this phone',\n",
       " 'the voice recognition thru the handset is excellent',\n",
       " \"this is hands down the best phone i've ever had\",\n",
       " 'works great, when my cat attacked the phone he scratched the protective strip instead of destroying the screen',\n",
       " 'this one works and was priced right',\n",
       " 'customer service was terrible',\n",
       " 'battery life still not long enough in motorola razor v3i',\n",
       " 'sending it back',\n",
       " 'now i know that i made a wise decision',\n",
       " 'someone shouldve invented this sooner',\n",
       " 'good price',\n",
       " 'everything worked on the first trythe device was certainly engineered in a clever way and the construction feels good',\n",
       " 'i received it quickly and it works great',\n",
       " 'has been working great',\n",
       " \"as many people complained, i found this headset's microphone was very weak\",\n",
       " 'my 5-year old nokia 2160 from tracfone holds the charge a lot better than this',\n",
       " 'they do not care about the consumer one bit',\n",
       " 'this is a good battery, and it got here really fast',\n",
       " 'the instruction manual is lacking',\n",
       " 'also its slim enough to fit into my alarm clock docking station without removing the case',\n",
       " 'phone now holds charge like it did when it was new',\n",
       " 'the battery is unreliable as well as the service use antena',\n",
       " \"it's uncomfortable and the sound quality is quite poor compared with the phone (razr) or with my previous wired headset (that plugged into an lg)\",\n",
       " 'we have gotten a lot of compliments on it',\n",
       " 'this is definitely a must have if your state does not allow cell phone usage while driving',\n",
       " 'i want my money back',\n",
       " 'i love this device',\n",
       " 'i am also very happy with the price',\n",
       " 'i ordered this product first and was unhappy with it immediately',\n",
       " 'the ngage is still lacking in earbuds',\n",
       " 'i was able to do voice dialing in the car with no problem',\n",
       " 'i have 2-3 bars on my cell phone when i am home, but you cant not hear anything',\n",
       " 'good item, low price',\n",
       " 'however-the riingtones are not the best, and neither are the games',\n",
       " 'the plug did not work very well',\n",
       " 'amazon sucks',\n",
       " 'rip off---- over charge shipping',\n",
       " 'very comfortable',\n",
       " 'the battery is working well as a replacement for the original that came with the phone over 2 years ago',\n",
       " 'the reception is excellent',\n",
       " 'it fits comfortably in either ear, the sound is clear and loud, and the charge lasts a couple of days',\n",
       " \"very clear, quality sound and you don't have to mess with the sound on your ipod since you have the sound buttons on the headset\",\n",
       " \"1 long lasting battery (you don't have to recharge it as frequentyly as some of the flip phones)2\",\n",
       " 'obviously there is a problem with the adhesive',\n",
       " 'very disappointing',\n",
       " 'it was an inexpensive piece, but i would still have expected better quality',\n",
       " 'it is practically useless and did not add any kind of boost to my reception after i bought it',\n",
       " 'excellent sound quality',\n",
       " 'was not happy',\n",
       " 'a piece of junk that broke after being on my phone for 2 days',\n",
       " 'new battery works great in phone',\n",
       " 'worst customer service',\n",
       " \"i've dropped my phone more times than i can say, even on concrete and my phone is still great (knock on wood)\",\n",
       " 'reception is terrible and full of static',\n",
       " 'good audio quality',\n",
       " 'this little device has transformed my organizational capability and made my life a whole lot easier',\n",
       " 'i was sitting in my vehicle, with the cradle on my belt, and the headset lost signal',\n",
       " 'were jerks on the phone',\n",
       " 'works like a charm works as advertised',\n",
       " 'comfortable, nice range, good battery life',\n",
       " 'their network coverage in los angeles is horrible',\n",
       " 'excellent starter wireless headset',\n",
       " 'the loudspeaker option is great, the bumpers with the lights is very  appealing',\n",
       " 'the only thing that i think could improve is the sound leaks out from the headset',\n",
       " 'first off the reception sucks, i have never had more than 2 bars, ever',\n",
       " 'the phone gets extremely hot',\n",
       " 'the microphone also works well, but (according to people i have called) it applifies everything',\n",
       " 'nice design and quality',\n",
       " 'also, if your phone is dropped, this case is not going to save it, specially when dropped face down',\n",
       " 'it is light, easy to use, and has very clear reception and transmission',\n",
       " 'bad fit, way too big',\n",
       " 'it definitely was not as good as my s11',\n",
       " 'awesome device',\n",
       " 'waste of money',\n",
       " 'i had ordered a motorola data cable, got a very well finished and working product',\n",
       " 'love this phone',\n",
       " \"i was looking for this headset for a long time and now that i've got it i couldn't be happier\",\n",
       " \"i'll be drivng along, and my headset starts ringing for no reason\",\n",
       " 'display is excellent and camera is as good as any from that year',\n",
       " 'battery life is also great',\n",
       " \"the worst phone i've ever had only had it for a few months\",\n",
       " 'not a good item it worked for a while then started having problems in my auto reverse tape player',\n",
       " 'this is so embarassing and also my ears hurt if i try to push the ear plug into my ear',\n",
       " 'protects the phone on all sides',\n",
       " 'this is a very average phone with bad battery life that operates on a weak network',\n",
       " 'clear skype calls, long battery life, long range',\n",
       " 'soyo technology sucks',\n",
       " 'great hands free device',\n",
       " 'you can even take self portraits with the outside (exterior) display, very cool',\n",
       " 'same problem as others have mentioned',\n",
       " 'after trying many many handsfree gadgets this is the one that finally works well',\n",
       " 'magical help',\n",
       " 'the worst piece of crap ever along with the verizon customer service',\n",
       " 'poor sound quality',\n",
       " 'the best phone in market )',\n",
       " 'it worked very well',\n",
       " 'the company shipped my product very promptly and it works well',\n",
       " 'exactly what i wanted',\n",
       " 'the picture resolution is far below what other comparably-priced phones are offering today',\n",
       " 'this is a great deal',\n",
       " 'excellent product, i am very satisfied with the purchase',\n",
       " 'i highly recommend these and encourage people to give them a try',\n",
       " \"better than you'd expect\",\n",
       " 'using all earpieces, left or right, this thing will not stay on my ear',\n",
       " 'great product and price',\n",
       " 'sounds good reasonably priced and effective, its that simple ',\n",
       " \"still waiting i'm sure this item would work well if i ever recieve it\",\n",
       " 'what a disappointment',\n",
       " 'very prompt service',\n",
       " 'excellent product for the price',\n",
       " 'very pleased with this headset',\n",
       " \"don't waste your money and time\",\n",
       " 'i especially love the long battery life',\n",
       " \"it's so stupid to have to keep buying new chargers, car chargers, cradles, headphones and car kits every time a new phone comes out\",\n",
       " 'plantronics bluetooth excelent buy',\n",
       " 'i came over from verizon because cingulair has nicer cell phones the first thing i noticed was the really bad service',\n",
       " \"i'll be looking for a new earpiece\",\n",
       " 'i highly recommend this device to everyone',\n",
       " 'jawbone era is awesome too',\n",
       " 'we received a white colored battery that goes dead after a couple hoursthe original used to last a week - but still lasts longer than thereplacement',\n",
       " 'after a year the battery went completely dead on my headset',\n",
       " 'i have used several phone in two years, but this one is the best',\n",
       " 'an awesome new look for fall 2000',\n",
       " \"this is the first phone i've had that has been so cheaply made\",\n",
       " 'att is not clear, sound is very distorted and you have to yell when you talk',\n",
       " 'the plastic breaks really easy on this clip',\n",
       " 'price is good too',\n",
       " \"don't make the same mistake i did\",\n",
       " 'oh and i forgot to also mention the weird color effect it has on your phone',\n",
       " \"i'm using it with an iriver spinn (with case) and it fits fine\",\n",
       " \"also the area where my unit broke)- i'm not too fond of the magnetic strap\",\n",
       " 'overall, i am psyched to have a phone which has all my appointments and contacts in and gets great reception',\n",
       " 'every thing on phone work perfectly, she like it',\n",
       " \"another note about this phone's appearance is that it really looks rather bland, especially in the all black model\",\n",
       " \"it's really easy\",\n",
       " 'my sanyo has survived dozens of drops on blacktop without ill effect',\n",
       " 'fantastic earphones',\n",
       " 'it finds my cell phone right away when i enter the car',\n",
       " 'low quality',\n",
       " 'i highly recommend this modest priced cellular phone',\n",
       " \"but it does get better reception and clarity than any phone i've had before\",\n",
       " 'warning - stay away',\n",
       " 'i wish i could return the unit and get back my money',\n",
       " 'awsome device works great',\n",
       " 'i used to talk on it for 1 - 1 1/2 hours and the battery would be literally drained and dying',\n",
       " \"if you don't find it, too bad, as again the unit comes with one earpad onlyi would not recommend this to anyone\",\n",
       " 'very displeased',\n",
       " 'i might have gotten a defect, but i would not risk buying it again because of the built quality alone',\n",
       " 'they made this case too small and is very difficult to install',\n",
       " 'restored my phone to like new performance',\n",
       " 'i would recommend purchasing the jabra jx-10 series 2 which works flawlessly with my moto q, go figure',\n",
       " 'i searched the internet, and found this one to be the best value',\n",
       " 'does not fit',\n",
       " 'very happy with this product',\n",
       " 'the screen size is big, key pad lit well enough, and the camera quality is excellent for a camera phone',\n",
       " \"there's really nothing bad i can say about this headset\",\n",
       " \"i'm glad i found this product on amazon it is hard to find, it wasn't high priced\",\n",
       " 'portable and it works',\n",
       " 'my colleague & i now get great receptiona little expensive, but performance is great',\n",
       " 'i even fully charged it before i went to bed and turned off blue tooth and wi-fi and noticed that it only had 20 % left in the morning',\n",
       " \"i've also had problems with the phone reading the memory card in which i always turn it on and then off again\",\n",
       " 'not good when wearing a hat or sunglasses',\n",
       " 'timely shipment and quality product',\n",
       " 'nice solid keyboard',\n",
       " 'very well made and fits my surefire gx2 perfectly',\n",
       " 'horrible phone',\n",
       " 'bt50 battery junk',\n",
       " 'we would recommend these to others',\n",
       " 'cant get the software to work with my computer',\n",
       " 'disappointed',\n",
       " 'poor voice clarity',\n",
       " 'the battery works great',\n",
       " 'no buyers remorse on this one',\n",
       " 'very disappointed in accessoryone',\n",
       " 'i find this inexcusable and so will probably be returning this phone and perhaps changing carriers',\n",
       " 'looks great and is strong',\n",
       " 'i have had tmobile service for 2 or 3 years now, and i am pretty happy with it',\n",
       " 'the update procedure is difficult and cumbersome',\n",
       " 'disappointment i hate anything that goes in my ear',\n",
       " 'great software for motorolas',\n",
       " 'the delivery was on time',\n",
       " 'very easy to use',\n",
       " \"uncomfortable in the ear, don't use with lg vx9900 (env)\",\n",
       " 'the volume switch rocketed out of the unit to a destination unknown',\n",
       " 'it holds a charge for a long time, is reasonably comfortable under long-wearing conditions and the quality of sound is tremendous',\n",
       " \"i'd like to return it\",\n",
       " \"the keyboard is really worthwhile in usefulness and is sturdy enough i don't expect any problems\",\n",
       " \"verizon's bills, however, are difficult to understand even though their pricing plans are simple\",\n",
       " 'after charging overnight, these batteries work great',\n",
       " \"you won't regret it\",\n",
       " 'i love this phone',\n",
       " 'a disappointment',\n",
       " 'its not user friendly',\n",
       " 'unfortunately the ability to actually know you are receiving a call is a rather important feature and this phone is pitiful in that respect',\n",
       " 'then i exchanged for the same phone, even that had the same problem',\n",
       " 'this results in the phone being either stuck at max volume or mute',\n",
       " 'this pda rocks',\n",
       " 'it is super charged up for use as a small hybrid palmtop/camera/cellphone, and excels in those roles',\n",
       " 'i would definitely recommend the jabra bt250v for those who are looking for comfort, clarity and a great price',\n",
       " 'i had verizon 2 years ago and really liked their service',\n",
       " 'pretty piece of junk',\n",
       " 'plug was the wrong size',\n",
       " 'works as described',\n",
       " \"save your money i've had this item for 11 months now\",\n",
       " 'bad purchase',\n",
       " 'well im satisfied',\n",
       " 'the bose noise cancelling is amazing, which is very important for a nyc commuter',\n",
       " 'this battery is an excellent bargain',\n",
       " 'defective crap',\n",
       " 'i would have given no star if i was able',\n",
       " 'i wear glasses and it fits fine with them',\n",
       " 'the sound quality for the device is unacceptableunless you are in a really quiet area, you almost hear nothing',\n",
       " 'i would not recommend this item to anyone',\n",
       " 'the holster that arrived did not match the photo in the ad',\n",
       " 'greatno problems at all',\n",
       " 'as an earlier review noted, plug in this charger and nothing happens',\n",
       " 'this frog phone charm is adorable and very eye catching',\n",
       " 'you never know if you pushed it hard enough or the right number of times for the function you want or not',\n",
       " 'the sound is clear and the people i talk to on it are amazed at the quality too',\n",
       " 'i got the aluminum case for my new palm vx and it worked really well--it has protected my handheld perfectly so far',\n",
       " 'very good product, well made',\n",
       " 'mobile phone tools are a must have',\n",
       " 'i am very impressed with the job that motorola did on the sturdiness of this phone',\n",
       " 'i received my orders well within the shipping timeframe, everything was in good working order and overall, i am very excited to have this source',\n",
       " 'the phone is sturdy and waterproof',\n",
       " 'i am not impressed with this and i would not recommend this item to anyone',\n",
       " 'my only complaint is the standard sound volume is a little low even when turned up to 5(of 5)',\n",
       " 'thanks again to amazon for having the things i need for a good price',\n",
       " 'i ended up sliding it on the edge of my pants or back pockets instead',\n",
       " 'i had to go to a store and bought a new nokia phone which is working great',\n",
       " 'really ugly',\n",
       " 'horrible, had to switch 3 times',\n",
       " 'the noise shield is incrediable',\n",
       " 'no real improvement',\n",
       " 'razr battery - good buy',\n",
       " 'keep up the good work amazon',\n",
       " 'they refuse to refund or replace',\n",
       " \"unfortunately it's easy to accidentally activate them with the gentle-touch buttons if you accidentally touch the phone to your face while listening\",\n",
       " 'so i basically threw my money out the window for nothing',\n",
       " 'great case and price',\n",
       " 'all it took was one drop from about 6 inches above the kitchen counter and it was crackedi am not impressed and i am not laughing',\n",
       " 'bluetooth range is good - a few days ago i left my phone in the trunk, got a call, and carried the conversation without a hitch',\n",
       " 'small, sleek, impressive looking, practical setup with ample storage in place',\n",
       " 'the eargels channel the sound directly into your ear and seem to increase the sound volume and clarity',\n",
       " 'none of the new ones have ever quite worked properly',\n",
       " 'i am glad i purchased it',\n",
       " \"i've missed numerous calls because of this reason\",\n",
       " 'perhaps my phone is defective, but people cannot hear me when i use this',\n",
       " 'sucked, most of the stuff does not work with my phone',\n",
       " \"no shifting, no bubbling, no peeling, not even a scratch, nothingi couldn't be more happier with my new one for the droid\",\n",
       " 'worst software ever used if i could give this zero stars i would',\n",
       " 'trying to make a call on these is an exercise in frustration',\n",
       " 'the case is a flimsy piece of plastic and has no front or side protection whatsoever',\n",
       " 'i own a jabra earset and was very happy with it, but the sound quality, especially outgoing, on this is better',\n",
       " \"i love the camera, it's really pretty good quality\",\n",
       " 'thank you for such great service',\n",
       " 'its a total package',\n",
       " 'the seller is very understanding and patient, i would definitely buy from them again',\n",
       " 'i give wirefly 1 stari will contact cingular/at&t and inform them of this practice',\n",
       " \"it's aggravating\",\n",
       " 'great product for the price',\n",
       " 'i have purchased these for both family and friends, and all enjoy their clarity and ease of use',\n",
       " 'virgin wireless rocks and so does this cheap little phone',\n",
       " \"none of it works, just don't buy it\",\n",
       " \"muddy, low quality sound, and the casing around the wire's insert was poorly super glued and slid off\",\n",
       " 'please dont waste your money',\n",
       " \"all in all, i'm quite satisfied with this purchase\",\n",
       " \"if you are looking for a good quality motorola headset keep looking, this isn't it\",\n",
       " 'yet plantronincs continues to use the same flawed charger design',\n",
       " 'disapointing results',\n",
       " 'cumbersome design',\n",
       " 'great it was new packaged nice works good, no problems and it came in less time then i expected',\n",
       " 'great product',\n",
       " \"it's a piece of crap\",\n",
       " 'my experience was terrible this was my fourth bluetooth headset, and while it was much more comfortable than my last jabra (which i hated',\n",
       " 'this fixes all the problems',\n",
       " 'worst ever',\n",
       " 'i am very happy',\n",
       " \"i've had no trouble accessing the internet, downloading ringtones or performing any of the functions\",\n",
       " 'i can barely ever hear on it and am constantly saying what',\n",
       " 'the battery life is highly unacceptable',\n",
       " 'that company is a joke',\n",
       " 'it does everything the description said it would',\n",
       " 'due to this happening on every call i was forced to stop using this headset',\n",
       " 'it works great with a car charger, especially if you cannot plug in two adapters at the same time',\n",
       " 'verizon tech support walked my through a few procedures, none of which worked and i ended up having to do a hard re-set, wiping out all my data',\n",
       " 'voice quality, signal strength, dropped calls',\n",
       " \"it plays louder than any other speaker of this size the price is so low that most would think the quality is lacking, however, it's not\",\n",
       " 'better than expected',\n",
       " 'it feels poorly constructed, the menus are difficult to navigate, and the buttons are so recessed that it is difficult to push them',\n",
       " 'battery is holding up well',\n",
       " \"also difficult to put oni'd recommend avoiding this product\",\n",
       " \"i only used it two days, and it wasn't always easy to hear with\",\n",
       " 'i got the car charger and not even after a week the charger was brokeni went to plug it in and it started smoking',\n",
       " 'sprint - terrible customer service',\n",
       " 'linked to my phone without effort',\n",
       " 'they are so cool',\n",
       " 'easy to use',\n",
       " 'better than new',\n",
       " 'what possesed me to get this junk, i have no idea',\n",
       " 'piece of trash',\n",
       " 'a pretty good product',\n",
       " 'this is a great phone',\n",
       " 'for the price on amazon, it is an excellent product, which i would highly recommend',\n",
       " \"their research and development division obviously knows what they're doing\",\n",
       " 'the real killer is the volume, and of course it breaking',\n",
       " 'those phones are working just fine now',\n",
       " 'i am more than happy with this product',\n",
       " 'poor construction',\n",
       " 'this is infuriating',\n",
       " 'overall, i would recommend this phone over the new walkman',\n",
       " 'sprint charges for this service',\n",
       " 'it is cheap, and it feel and look just as cheap',\n",
       " 'it fits my ear well and is comfortable on',\n",
       " \"it doesn't work in europe or asia\",\n",
       " \"clipping this to your belt will deffinitely make you feel like 50 cent's up-and-coming\",\n",
       " 'i like design and look of jabra behing the ear headsets and 5020 is pretty comfortible to wear 24 hours a day without pain in the ear',\n",
       " 'i was amazed at the quick arrival of the two original lg cell phone batteries and and at a fraction of the price',\n",
       " 'the worst phone from samsungcrap this crappy samsung e715 is the worst i have ever seeen',\n",
       " 'the charger worked for about a week and then completely stopped charging my phone',\n",
       " 'poor product',\n",
       " 'however i needed some better instructions',\n",
       " 'you need two hands to operate the screenthis software interface is decade old and cannot compete with new software designs',\n",
       " 'worked very well paired with a treo 700w and as a skype headset on my pc (using a usb bluetooth transceiver)',\n",
       " 'steer clear of this product and go with the genuine palm replacementr pens, which come in a three-pack',\n",
       " 'do not buy do not buyit sucks',\n",
       " 'this is a great product sure beats using your fingers',\n",
       " 'plus, i seriously do not believe it is worth its steep price point',\n",
       " \"all the other cases i've tried normally fall apart after a few months but this one seems to be in for the long haul\",\n",
       " 'very dissapointing performance',\n",
       " \"don't make the same mistake that i did and please don't buy this phone\",\n",
       " \"this phone might well be the worst i've ever had in any brand\",\n",
       " 'case was more or less an extra that i originally put on but later discarded because it scratched my ear',\n",
       " 'i recommend igo to anyone with different brand cell phones/mp3 players in the family',\n",
       " \"don't bother - go to the store\",\n",
       " \"i posted more detailed comments under the grey or black phone, but i have the fire red and it's a great color\",\n",
       " 'i did not have any problem with this item and would order it again if needed',\n",
       " 'you get what you pay for i guess',\n",
       " 'not only did the software do a great job of this, i could also make my own ringtones form my existing cds without an internet connection',\n",
       " \"im surprised this is a good quality car charger and there's not much reviews about it\",\n",
       " 'these are fabulous',\n",
       " 'however, bt headsets are currently not good for real time games like first-person shooters since the audio delay messes me up',\n",
       " 'i used bitpim (a free program you can find on the internet)to transfer data to the phonethe price of the cable was excellent',\n",
       " 'disappointing accessory from a good manufacturer',\n",
       " 'performed awful -- muffled, tinny incoming sound and severe echo for those on the other end of the call',\n",
       " 'very wind-resistant',\n",
       " 'obviously they have a terrible customer service, so you get what you pay for',\n",
       " 'they do not last forever, but is not overly expensive to replaceeasy to operate and the sound is much better than others i have tried',\n",
       " \"i contacted the company and they told me that, although the unit was still under warranty, if i couldn't produce my receipt i was out of luck\",\n",
       " 'linksys should have some way to exchange a bad phone for a refurb unit or something',\n",
       " 'phone is sturdy as all nokia bar phones are',\n",
       " 'when i placed my treo into the case, not only was it not snug, but there was a lot of extra room on the sides',\n",
       " \"i'm pleased\",\n",
       " 'battery is terrible',\n",
       " 'i found the product to be easy to set up and use',\n",
       " 'the earpiece on this is too large or too heavyit keeps falling out of my ear',\n",
       " 'utter crap sound quality is terrible',\n",
       " 'the charger arrived within the promised timeframe, but it did not work',\n",
       " \"no ear loop needed, it's tiny and the sound is great\",\n",
       " 'finally, after three or four times the spring of the latch broke and i could not use it any longer on the visor',\n",
       " 'the handsfree part works fine, but then the car tries to download the address book, and the treo rebootsoverall, i still rate this device high',\n",
       " 'talk about useless customer service',\n",
       " 'it felt too light and tinny',\n",
       " 'this does not fit the palm tungsten e2 and it broke the first time i tried to plug it in',\n",
       " \"i'm happy about this purchase- good quality and low price\",\n",
       " 'i love the look and feel of samsung flipphones',\n",
       " 'its well-designed and very sharp -- the blue is a very nice color',\n",
       " 'does everything it should and more',\n",
       " 'i could not recommend these more',\n",
       " 'nice sound',\n",
       " 'looks good in the picture, but this case was a huge disappointment',\n",
       " 'much less than the jawbone i was going to replace it with',\n",
       " 'setup went very smoothly',\n",
       " 'its extremely slow and takes forever to do anything with it',\n",
       " 'a must study for anyone interested in the worst sins of industrial design',\n",
       " 'the first thing that happened was that the tracking was off',\n",
       " 'it is well made, easy to access the phone and has a handy, detachable belt clip',\n",
       " 'then i had to continue pairing it periodically since it somehow kept dropping',\n",
       " \"can't upload ringtones from a third party\",\n",
       " 'bluetooth does not work, phone locks up, screens just flash up and now it just makes calls randomly while in my pocket locked',\n",
       " 'truly awful',\n",
       " 'it works fine on my motorola 325 cellphone, and a lot better than the worn-out battery did',\n",
       " 'the volume for the ringer is real good (you have choices how loud)',\n",
       " 'and none of the tones is acceptable',\n",
       " 'camera color balance is awful',\n",
       " \"this product is clearly not ready for prime time, i don't care how cool it looks, if you can't tell a call is coming in it's worthless\",\n",
       " 'i love the ringtones because they are so upbeat',\n",
       " 'chinese forgeries abound',\n",
       " 'easy to pair with my samsung cell',\n",
       " \"the instructions didn't explain that a microphone jack could be used\",\n",
       " 'i would advise to not purchase this item it never worked very well',\n",
       " 'too bad you have to pay up to $$$ a month for the service',\n",
       " 'works well',\n",
       " 'the nokia ca-42 usb cable did not work with my phone',\n",
       " 'clear crisp sound',\n",
       " 'i have to use the smallest earpieces provided, but it stays on pretty well',\n",
       " 'the biggest complaint i have is, the battery drains superfast',\n",
       " 'the design might be ergonomic in theory but i could not stand having these in my ear',\n",
       " 'do not buy if you want to use the holster',\n",
       " 'the phone can also take great pictures and even video clips',\n",
       " \"it doesn't make you look cool\",\n",
       " 'because both ears are occupied, background is not distracting at all',\n",
       " 'comfortable fit - you need your headset to be comfortable for at least an hour at a time, if not for an entire day',\n",
       " \"also, the phone doesn't seem to accept anything except cbr mp3s, preferably ripped by windows media player\",\n",
       " \"you can't beat the price on these\",\n",
       " '* comes with a strong light that you can use to light up your camera shots, and even flash sos signals (seriously',\n",
       " 'lightweight and works well',\n",
       " 'so just beware',\n",
       " 'i love this cable - it allows me to connect any mini-usb device to my pc',\n",
       " 'so anyone near you will hear part of your conversation',\n",
       " 'this is cool because most cases are just open there allowing the screen to get all scratched up',\n",
       " 'i bought this phone as a replacement for my startac and have regretted it since',\n",
       " 'appears to actually outperform the original battery from china that came with my v325i',\n",
       " \"can't store anything but phone numbers to sim\",\n",
       " 'it lasts less than 3o minutes, if i actually try to use the phonemy wife has the same phone with the same problem',\n",
       " 'poor quality',\n",
       " 'jabra ear gels r the best',\n",
       " 'not worth it',\n",
       " 'the phone crashed completely and now i have to get it replaced',\n",
       " \"it quit working after i'd used it for about 18 months, so i just purchased another one because this is the best headset i've ever owned\",\n",
       " 'unfortunately it will not recharge my iphone 4s, despite connecting it from multiple power sources (imac, external battery, wall outlet, etc)',\n",
       " 'it was a great phone',\n",
       " 'if you simply want a small flip phone -- look elsewhere as the extra bells & whistles are mediocre',\n",
       " 'good value, works fine - power via usb, car, or wall outlet',\n",
       " \"my phone doesn't slide around my car now and the grip prevents my phone from slipping out of my hand\",\n",
       " 'this is simply the best bluetooth headset for sound quality',\n",
       " 'think it over when you plan to own this onethis sure is the last moto phone for me',\n",
       " 'in the span of an hour, i had two people exclaim whoa - is that the new phone on tv',\n",
       " 'i have always used corded headsets and the freedom from the wireless is very helpful',\n",
       " 'this case has passed the one year mark and while it shows signs of wear, it is 100% functional',\n",
       " 'other than that, the leather is nice and soft the fit is very tight the cut out for the face is a good shape',\n",
       " \"it has everything i need and i couldn't ask for more\",\n",
       " 'after receiving and using the product for just 2 days it broke',\n",
       " 'this product is great it makes working a lot easier i can go to the copier while waiting on hold for something',\n",
       " 'none of the three sizes they sent with the headset would stay in my ears',\n",
       " 't-mobile has the best customer service anywhere',\n",
       " 'arrived quickly and much less expensive than others being sold',\n",
       " 'we have tried 2 units and they both failed within 2 months pros',\n",
       " 'provides good protection and looks classy, too',\n",
       " 'krussel always good',\n",
       " 'the tracfonewebsite is user friendly and makes it easy toactivate, etc',\n",
       " 'the design is very good4',\n",
       " 'i great reception all the time',\n",
       " 'i would highly recommend this product',\n",
       " \"couldn't use the unit with sunglasses, not good in texas\",\n",
       " 'it dit not work most of the time with my nokia 5320',\n",
       " 'bought mainly for the charger, which broke soon after purchasing',\n",
       " 'fantastic buy and will get again for whatever my next phone is',\n",
       " 'stay away from this store, be careful',\n",
       " 'this blueant supertooth hands-free phone speaker is awesome',\n",
       " ' item arrived quickly and works great with my metro pcs samsung sch-r450 slider phone and sony premium sound in ear plugs',\n",
       " 'it is light, has plenty of battery capacity, and is very confortable to wear for somewhat extended periods of time',\n",
       " 'disappointing',\n",
       " 'blue ant is easy to use',\n",
       " 'cheap but hey it works was pleasantly suprised given the low cost of this item',\n",
       " \"the camera on the phone may be used as a dustpan when indoors i'd rather be using a disposable then this\",\n",
       " 'then a few days later the a puff of smoke came out of the phone while in use',\n",
       " \"it's very convenient and simple to use - gets job done & makes the car ride so much smoother\",\n",
       " 'the nano stated itmy son was dissapointed',\n",
       " 'the sound quality is excellent as well',\n",
       " 'its the best headset i have used',\n",
       " 'would not reccommend',\n",
       " 'they have been around for years and carries the highest quality of anti-glare screen protector that i have found to date',\n",
       " 'just what i wanted',\n",
       " 'this particular model would not work with my motorola q smartphone',\n",
       " 'wont work right or atleast for me',\n",
       " 'in addition it feels &amp looks as if the phone is all lightweight cheap plastic',\n",
       " 'but now that it is out of warranty the same problems reoccurebottom line put your money somewhere else cingular will not support it',\n",
       " 'i really wanted the plantronics 510 to be the right one, but it has too many issues for methe good',\n",
       " 'crisp and clear',\n",
       " 'after the first charge kept going dead after 12 minutes',\n",
       " 'very cheap plastic, creaks like an old wooden floor',\n",
       " 'i get absolutely horrible reception in my apartment, where with other phones i have not had this problem',\n",
       " 'the reception has been generally good',\n",
       " 'excellent sound, battery life and inconspicuous to boot',\n",
       " 'great bluetooth',\n",
       " 'i highly recommend this case',\n",
       " 'worthwhile',\n",
       " \"after my phone got to be about a year old, it's been slowly breaking despite much care on my part\",\n",
       " 'i am sorry i made this purchase',\n",
       " 'i bought these hoping i could make my bluetooth headset fit better but these things made it impossible to wear',\n",
       " 'treo and t-mobile refused to replace it again and forced me to buy another phone without any kind of upgrade discount',\n",
       " 'it was horrible',\n",
       " \"i don't think it would hold it too securly on your belt\",\n",
       " 'this allows the possibility of double booking for the same date and time after the first',\n",
       " 'they work about 2 weeks then break',\n",
       " 'it is simple to use and i like it',\n",
       " \"it's a great tool for entertainment, communication, and data managementoh, be sure to use activesync 42 for optimal data synchronization results\",\n",
       " \"i can't use this case because the smell is disgusting\",\n",
       " 'not what i wanted',\n",
       " 'i own 2 of these cases and would order another',\n",
       " \"i bought this battery with a coupon from amazon and i'm very happy with my purchase\",\n",
       " 'the internet access was fine, it the rare instance that it worked',\n",
       " 'perfect for the ps3',\n",
       " 'five star plus, plus',\n",
       " \"a good quality bargain i bought this after i bought a cheapy from big lots that sounded awful and people on the other end couldn't hear me\",\n",
       " '$50 down the drain',\n",
       " \"i tried talking real loud but shouting on the telephone gets old and i was still told it wasn't great\",\n",
       " 'good , works fine',\n",
       " 'for the price this was a great deal',\n",
       " 'great price, too',\n",
       " 'if there is a wind, it is completely useless',\n",
       " \"yes it's shiny on front side - and i love it\",\n",
       " 'does not work',\n",
       " 'at first i thought i was grtting a good deal at $744, until i plugged it into my phone (v3c razr)',\n",
       " 'the reception through this headset is excellent',\n",
       " '2 thumbs up to this seller',\n",
       " 'i have a verizon lg phone and they work well together, good reception and range that exceeds 20 feet line of sight',\n",
       " 'improper description i had to return it',\n",
       " '#1 it works - #2 it is comfortable',\n",
       " 'battery charge-life is quite long',\n",
       " 'the jabra eargels fit my ears very well',\n",
       " 'battery has no life',\n",
       " 'i checked everywhere and there is no feature for it which is really disappointing',\n",
       " 'product is exactly as described',\n",
       " \"gets a signal when other verizon phones won't\",\n",
       " \"doesn't do the job\",\n",
       " 'i would recommend it',\n",
       " 'plan on ordering from them again and again',\n",
       " 'that being said, for a phone, the camera is very nice many cool effects to play with, and video is decent as well',\n",
       " 'i have been very satisfied with this cell phone from day one',\n",
       " \"they keep getting better and better (this is my third one and i've had numerous palms too)\",\n",
       " 'awkward to use and unreliable',\n",
       " 'the shipping time was also very quick',\n",
       " 'not as good as i had hoped',\n",
       " 'good case',\n",
       " \"doesn't work\",\n",
       " 'really good product',\n",
       " 'unfortunately it did not work',\n",
       " 'all three broke within two months of use',\n",
       " 'dont buy it',\n",
       " 'my father has the v265, and the battery is dying',\n",
       " 'however, the ear pads come off easily and after only one week i lost one',\n",
       " 'the calls drop, the phone comes on and off at will, the screen goes black and the worst of all it stops ringing intermittently',\n",
       " 'horrible, horrible protector',\n",
       " \"i don't like this nokia either\",\n",
       " 'reaching for the bottom row is uncomfortable, and the send and end keys are not where i expect them to be3',\n",
       " 'i have bought this nokia cell phone a few weeks ago and it was a nightmare',\n",
       " 'it would take too long to describe how bad my customer service experience has been with amazon',\n",
       " 'the only very disappointing thing was there was no speakerphone',\n",
       " 'terrible my car will not accept this cassette',\n",
       " 'product is useless, since it does not have enough charging current to charge the 2 cellphones i was planning to use it with',\n",
       " \"it's not what it says it is\",\n",
       " 'stay away from the q',\n",
       " 'used and dirty',\n",
       " 'very unreliable service from t-mobile ',\n",
       " 'not good enough for the price',\n",
       " 'i bought two of them and neither will charge',\n",
       " 'it looks very nice',\n",
       " \"this is an excellent tool, especially when paired with your phone's auto-answer\",\n",
       " \"i have read other's reviews here but i haven't had any problem with it\",\n",
       " 'these products cover up the important light sensor above the ear outlet',\n",
       " 'comfortable in my hand',\n",
       " 'just does not work',\n",
       " 'poor reliability',\n",
       " '(it works)',\n",
       " 'if i take a picture, the battery drops a bar, and starts beeping, letting me know its dieing',\n",
       " 'terrible product, and waste of money',\n",
       " 'last time buying from you',\n",
       " 'it was a waste of my money',\n",
       " 'so far it has worked like a charm',\n",
       " 'i have only had it for a few weeks, but so far, so good',\n",
       " 'but, in any case, the best part is, you can download these pictures to your laptop using ir, or even send pictures from your laptop to the phone',\n",
       " 'would recommend this item',\n",
       " \"it's been my choice headset for yearsgreat sound good volume good noise cancellation\",\n",
       " 'nice case, feels good in your hands',\n",
       " 'the item received was counterfeit',\n",
       " 'just really good so far, probably the best bt headset i have ever had',\n",
       " 'works fine',\n",
       " 'i received my headset in good time and was happy with it',\n",
       " 'i was very pleased to see that i could replace my well travled swivel holster for my blackberry flip',\n",
       " 'my sister has one also and she loves it',\n",
       " 'good quality',\n",
       " \"this is by far the worst purchase i've made on amazon\",\n",
       " 'excellent dual-purpose headset',\n",
       " 'excellent',\n",
       " 'does not work for listening to music with the cingular 8125',\n",
       " 'it seems completely secure, both holding on to my belt, and keeping the iphone inside',\n",
       " 'the bottowm lineanother worthless, cheap gimmick from sprint',\n",
       " 'having trouble with volume',\n",
       " 'the only good thing was that it fits comfortably on small ears',\n",
       " 'warning - do not buy',\n",
       " 'i am pairing this with my iphone, and i could not be happier with it so far',\n",
       " 'when it opens, the battery connection is broken and the device is turned off',\n",
       " \"i didn't want the clip going over the top of my ear, causing discomfort\",\n",
       " 'best headset ever',\n",
       " \"don't trust their website and don't expect any helpful support\",\n",
       " 'it was that loudglad to say that the plantronics 510 maintains a flawless connection to my cell and with no static during normal use',\n",
       " 'the speaker is of low quality so as making the ring tones sound very cheap',\n",
       " 'fits comfortably, came with three sizes of earbud tips',\n",
       " 'bad reception',\n",
       " 'this product is very high quality chinese crap',\n",
       " 'it was quite comfortable in the ear',\n",
       " \"don't buy this product - it fails\",\n",
       " 'everything about this product is wrongfirst',\n",
       " 'the pairing of the two devices was so easy it barely took a couple minutes before i started making calls with the voice dialing feature',\n",
       " 'this was utterly confusing at first, which caused me to lose a couple of very, very important contacts',\n",
       " 'terrible phone holder',\n",
       " 'the cutouts and buttons are placed perfectly',\n",
       " 'i love being able to use one headset for both by land-line and cell',\n",
       " 'problem is that the ear loops are made of weak material and break easily',\n",
       " 'not nearly as good looking as the amazon picture makes it look',\n",
       " 'but despite these few flaws, this case is of exceptional quality and well worth the additional costs of owning an official oem product',\n",
       " 'how stupid is that',\n",
       " \"i can hear while i'm driving in the car, and usually don't even have to put it on it's loudest setting\",\n",
       " 'seller shipped quickly and much cheaper than the competitors',\n",
       " 'good show, samsung',\n",
       " 'so i bought about 10 of these and saved alot of money',\n",
       " 'it always cuts out and makes a beep beep beep sound then says signal failed',\n",
       " \"couldn't figure it out\",\n",
       " \"my phone sounded ok ( not great - ok), but my wife's phone was almost totally unintelligible, she couldn't understand a word being said on it\",\n",
       " 'so i had to take the battery out of the phone put it all back together and then restart it',\n",
       " 'while i managed to bend the leaf spring back in place, the metal now has enough stress that it will break on the next drop',\n",
       " 'leopard print is wonderfully wild',\n",
       " 'works for me',\n",
       " 'saggy, floppy piece of junk',\n",
       " 'much better than the hard plastic cases',\n",
       " 'it also had a new problem',\n",
       " 'happy so far',\n",
       " 'cool phone',\n",
       " 'works good',\n",
       " 'motorola finally got the voice quality of a bluetooth headset right',\n",
       " 'it looses connection to the phone even when it is within a couple feet between the two',\n",
       " 'but it is great, i would really recommend it',\n",
       " \"makes it easier to keep up with my bluetooth when i'm not wearing it\",\n",
       " 'as i said abovepretty useless',\n",
       " 'never got it',\n",
       " 'this pair of headphones is the worst that i have ever had sound-wise',\n",
       " '[] down the drain because of a weak snap',\n",
       " 'does not charge the cingular (att) 8525 phone',\n",
       " 'you get extra minutes so that you can carry out the call and not get cut off',\n",
       " \"however, after about a year, the fliptop started to get loose and wobbly and eventually my screen went black and i couldn't receive and place calls\",\n",
       " 'i kept catching the cable on the seat and i had to pull the phone out to turn it on an off',\n",
       " 'the headset fulfills my requirements so i am happy with my purchase',\n",
       " 'logitech bluetooth headset is a 10',\n",
       " 'i like the fact that it rests lightly against your ear, rather than inside',\n",
       " 'a lot of websites have been rating this a very good phone and so do i',\n",
       " 'i have tried these cables with my computer and my ipod and it works just fine',\n",
       " 'the mic there is a joke, and the volume is quite low',\n",
       " \"i'm returning them\",\n",
       " 'i does not maintain a connection with the computer while it is on my lap',\n",
       " 'it is easy to turn on and off when you are in the car and the volume controls are quite accessable',\n",
       " 'i have had mine for about a year and this christmas i bought some for the rest of the family',\n",
       " 'otherwise, easy to install and use, clear sound',\n",
       " 'nice leather',\n",
       " 'i had to purchase a different case',\n",
       " 'it is a joy to use',\n",
       " 'very much disappointed with this company',\n",
       " 'very satisifed with that',\n",
       " \"it didn't charge for me\",\n",
       " 'this is the phone to get for 2005 i just bought my s710a and all i can say is wow',\n",
       " 'buttons are too small',\n",
       " 'just reading on the specs alone makes you say wow',\n",
       " 'love it great armband',\n",
       " 'i really like this product over the motorola because it is allot clearer on the ear piece and the mic',\n",
       " 'however, the keypads are so tinny that i sometimes reach the wrong buttons',\n",
       " \"i exchanged the sony ericson z500a for this and i'm pretty happy with that decision\",\n",
       " 'i was very impressed with the price of the cases',\n",
       " 'also makes it easier to hold on to',\n",
       " 'i use this product in a motor control center where there is a lot of high voltage humming from the equipment, and it works great',\n",
       " \"it's pretty easy\",\n",
       " 'i cannot make calls at certain places',\n",
       " \"however, my girl was complain that some time the phone doesn't wake up like normal phone does\",\n",
       " 'beautiful styling though',\n",
       " 'this company charge me a restocking fee and still not given me my refund back',\n",
       " \"i'm trying to return it for a refund\",\n",
       " 'i plugged it in only to find out not a darn thing worked',\n",
       " 'excellent product',\n",
       " 'earbud piece breaks easily',\n",
       " 'lousy product',\n",
       " \"this phone tries very hard to do everything but fails at it's very ability to be a phone\",\n",
       " 'it is the best charger i have seen on the market yet',\n",
       " 'sweetest phone',\n",
       " '-)oh, the charger seems to work fine',\n",
       " 'it fits so securely that the ear hook does not even need to be used and the sound is better directed through your ear canal',\n",
       " 'not enough volume',\n",
       " 'echo problemvery unsatisfactory',\n",
       " 'you could only take 2 videos at a time and the quality was very poor',\n",
       " 'i am going to have to be the first to negatively review this product',\n",
       " 'adapter does not provide enough charging current',\n",
       " 'there was so much hype over this phone that i assumed it was the best, my mistake',\n",
       " 'you also cannot take pictures with it in the case because the lense is covered',\n",
       " 'phone falls out easily',\n",
       " \"it didn't work, people can not hear me when i talk\",\n",
       " 'the text messaging feature is really tricky to use',\n",
       " \"i'm really disappointed all i have now is a charger that doesn't work\",\n",
       " 'painful on the ear',\n",
       " 'lasted one day and then blew up',\n",
       " 'kind of flops around',\n",
       " 'the screen does get smudged easily because it touches your ear and face',\n",
       " 'what a piece of junk i lose more calls on this phone',\n",
       " 'item does not match picture',\n",
       " 'the only thing that disappoint me is the infra red port (irda)',\n",
       " 'you can not answer calls with the unit, never worked once']"
      ]
     },
     "execution_count": 11,
     "metadata": {},
     "output_type": "execute_result"
    }
   ],
   "source": [
    "#Initial list of words/characters in Reviews\n",
    "reviews=df['Review']\n",
    "list_of_chars=[]\n",
    "for comment in reviews:\n",
    "    for character in reviews:\n",
    "        if character not in list_of_chars:\n",
    "            list_of_chars.append(character)\n",
    "list_of_chars"
   ]
  },
  {
   "cell_type": "code",
   "execution_count": 12,
   "id": "0a76e8c1-cd7c-49bc-a3c8-475c8c9bdb01",
   "metadata": {
    "tags": []
   },
   "outputs": [
    {
     "name": "stdout",
     "output_type": "stream",
     "text": [
      "['you', 'can', 'not', 'answer', 'calls', 'with', 'the', 'unit', 'never', 'worked', 'once']\n"
     ]
    }
   ],
   "source": [
    "#Look for unusual characters and grammar\n",
    "description_list=[]\n",
    "stop_words=stopwords.words('english')\n",
    "for description in df.Review:\n",
    "#Remove special characters and punctuation\n",
    "    description=re.sub(\"[^a-zA-Z]\", \" \", description)\n",
    "#Perform tokenization \n",
    "    description=nltk.word_tokenize(description)\n",
    "#Implement lemmatization\n",
    "    lemma=nltk.WordNetLemmatizer()\n",
    "    decription= [lemma.lemmatize(word) for word in description]\n",
    "print(description)"
   ]
  },
  {
   "cell_type": "code",
   "execution_count": 13,
   "id": "ed519a62-a5d7-45df-92ae-f9a79266445d",
   "metadata": {
    "tags": []
   },
   "outputs": [
    {
     "name": "stdout",
     "output_type": "stream",
     "text": [
      "['i', 'me', 'my', 'myself', 'we', 'our', 'ours', 'ourselves', 'you', \"you're\", \"you've\", \"you'll\", \"you'd\", 'your', 'yours', 'yourself', 'yourselves', 'he', 'him', 'his', 'himself', 'she', \"she's\", 'her', 'hers', 'herself', 'it', \"it's\", 'its', 'itself', 'they', 'them', 'their', 'theirs', 'themselves', 'what', 'which', 'who', 'whom', 'this', 'that', \"that'll\", 'these', 'those', 'am', 'is', 'are', 'was', 'were', 'be', 'been', 'being', 'have', 'has', 'had', 'having', 'do', 'does', 'did', 'doing', 'a', 'an', 'the', 'and', 'but', 'if', 'or', 'because', 'as', 'until', 'while', 'of', 'at', 'by', 'for', 'with', 'about', 'against', 'between', 'into', 'through', 'during', 'before', 'after', 'above', 'below', 'to', 'from', 'up', 'down', 'in', 'out', 'on', 'off', 'over', 'under', 'again', 'further', 'then', 'once', 'here', 'there', 'when', 'where', 'why', 'how', 'all', 'any', 'both', 'each', 'few', 'more', 'most', 'other', 'some', 'such', 'no', 'nor', 'not', 'only', 'own', 'same', 'so', 'than', 'too', 'very', 's', 't', 'can', 'will', 'just', 'don', \"don't\", 'should', \"should've\", 'now', 'd', 'll', 'm', 'o', 're', 've', 'y', 'ain', 'aren', \"aren't\", 'couldn', \"couldn't\", 'didn', \"didn't\", 'doesn', \"doesn't\", 'hadn', \"hadn't\", 'hasn', \"hasn't\", 'haven', \"haven't\", 'isn', \"isn't\", 'ma', 'mightn', \"mightn't\", 'mustn', \"mustn't\", 'needn', \"needn't\", 'shan', \"shan't\", 'shouldn', \"shouldn't\", 'wasn', \"wasn't\", 'weren', \"weren't\", 'won', \"won't\", 'wouldn', \"wouldn't\"]\n"
     ]
    }
   ],
   "source": [
    "#Remove stopwords\n",
    "description=[word for word in description if not word in stop_words]\n",
    "description= \" \".join(description)\n",
    "description_list.append(description)\n",
    "print(stop_words)"
   ]
  },
  {
   "cell_type": "code",
   "execution_count": 14,
   "id": "84c8ea75-cfb8-4845-ab92-bffb4e648e02",
   "metadata": {
    "tags": []
   },
   "outputs": [
    {
     "name": "stdout",
     "output_type": "stream",
     "text": [
      "Vocabulary size: 1905\n"
     ]
    }
   ],
   "source": [
    "#Identify vocab size\n",
    "tokenizer=Tokenizer()\n",
    "tokenizer.fit_on_texts(df['Review'])\n",
    "vocab_size=len(tokenizer.word_index)+1\n",
    "print(\"Vocabulary size:\", vocab_size)"
   ]
  },
  {
   "cell_type": "code",
   "execution_count": 15,
   "id": "2e287711-303f-4bda-a0c1-ff7fda983aac",
   "metadata": {
    "tags": []
   },
   "outputs": [
    {
     "name": "stdout",
     "output_type": "stream",
     "text": [
      "Max length of sequences is:  30\n",
      "Mid length of sequences is:  9.0\n",
      "Min length of sequences is:  1\n"
     ]
    }
   ],
   "source": [
    "#Determine review lengths\n",
    "review_length=[]\n",
    "for char_len in reviews:\n",
    "    review_length.append(len(char_len.split(\" \")))\n",
    "    \n",
    "review_max=np.max(review_length)\n",
    "review_min=np.min(review_length)\n",
    "review_median=np.median(review_length)\n",
    "print(\"Max length of sequences is: \", review_max)\n",
    "print(\"Mid length of sequences is: \", review_median)\n",
    "print(\"Min length of sequences is: \", review_min)"
   ]
  },
  {
   "cell_type": "code",
   "execution_count": 16,
   "id": "606d6006-9deb-4733-ac0c-1aeb1043dbe0",
   "metadata": {
    "tags": []
   },
   "outputs": [
    {
     "data": {
      "text/plain": [
       "7"
      ]
     },
     "execution_count": 16,
     "metadata": {},
     "output_type": "execute_result"
    }
   ],
   "source": [
    "#Calculate embedding dimension\n",
    "max_sequence_embedding= int(round(np.sqrt(np.sqrt(vocab_size)), 0))\n",
    "max_sequence_embedding"
   ]
  },
  {
   "cell_type": "code",
   "execution_count": 17,
   "id": "e26bcc60-d773-4f6d-9b70-9f10564df80d",
   "metadata": {
    "tags": []
   },
   "outputs": [
    {
     "name": "stdout",
     "output_type": "stream",
     "text": [
      "Training size: (800,)\n",
      "Test size: (200,)\n"
     ]
    }
   ],
   "source": [
    "#Split the data\n",
    "X_train, X_test, y_train, y_test= train_test_split(df['Review'], df['Sentiment'], test_size=0.20, random_state=15)\n",
    "\n",
    "y_train= pd.Series(y_train)\n",
    "y_test= pd.Series(y_test)\n",
    "\n",
    "print(\"Training size:\", X_train.shape)\n",
    "print(\"Test size:\", X_test.shape)"
   ]
  },
  {
   "cell_type": "code",
   "execution_count": 18,
   "id": "4e347544-b8d0-4645-b1b1-d2080015b1d2",
   "metadata": {
    "tags": []
   },
   "outputs": [],
   "source": [
    "#Pad the split data\n",
    "padding_type='post'\n",
    "trunc_type='post'\n",
    "#Train data\n",
    "sequences_train= tokenizer.texts_to_sequences(X_train)\n",
    "padded_train= pad_sequences(sequences_train, maxlen=review_max, padding=padding_type, truncating=trunc_type)\n",
    "#Test data\n",
    "sequences_test= tokenizer.texts_to_sequences(X_test)\n",
    "padded_test= pad_sequences(sequences_test, maxlen=review_max, padding=padding_type, truncating=trunc_type)"
   ]
  },
  {
   "cell_type": "code",
   "execution_count": 19,
   "id": "0e0df234-1109-4bc1-b07f-841d1f44aea6",
   "metadata": {
    "tags": []
   },
   "outputs": [
    {
     "data": {
      "text/plain": [
       "array([590,  50,  15, 610,   0,   0,   0,   0,   0,   0,   0,   0,   0,\n",
       "         0,   0,   0,   0,   0,   0,   0,   0,   0,   0,   0,   0,   0,\n",
       "         0,   0,   0,   0], dtype=int32)"
      ]
     },
     "execution_count": 19,
     "metadata": {},
     "output_type": "execute_result"
    }
   ],
   "source": [
    "#Display padded sequence\n",
    "import sys\n",
    "np.set_printoptions(threshold=sys.maxsize)\n",
    "padded_train[1]"
   ]
  },
  {
   "cell_type": "code",
   "execution_count": 20,
   "id": "6eed9916-adb9-421b-bb46-662b036d09ae",
   "metadata": {
    "tags": []
   },
   "outputs": [],
   "source": [
    "#Convert padded data into array for model\n",
    "training_padded= np.array(padded_train)\n",
    "training_label= np.array(y_train)\n",
    "\n",
    "test_padded= np.array(padded_test)\n",
    "test_label= np.array(y_test)"
   ]
  },
  {
   "cell_type": "code",
   "execution_count": 21,
   "id": "5392fc40-8b59-4399-b489-bc4bd755f9f7",
   "metadata": {
    "tags": []
   },
   "outputs": [
    {
     "data": {
      "text/plain": [
       "(800, 30)"
      ]
     },
     "execution_count": 21,
     "metadata": {},
     "output_type": "execute_result"
    }
   ],
   "source": [
    "training_padded.shape"
   ]
  },
  {
   "cell_type": "code",
   "execution_count": 22,
   "id": "4fe17f3e-057b-4997-93fa-47a3e83d126e",
   "metadata": {
    "tags": []
   },
   "outputs": [
    {
     "name": "stderr",
     "output_type": "stream",
     "text": [
      "2024-05-28 18:34:53.408032: I metal_plugin/src/device/metal_device.cc:1154] Metal device set to: Apple M2 Pro\n",
      "2024-05-28 18:34:53.408057: I metal_plugin/src/device/metal_device.cc:296] systemMemory: 16.00 GB\n",
      "2024-05-28 18:34:53.408064: I metal_plugin/src/device/metal_device.cc:313] maxCacheSize: 5.33 GB\n",
      "2024-05-28 18:34:53.408319: I tensorflow/core/common_runtime/pluggable_device/pluggable_device_factory.cc:305] Could not identify NUMA node of platform GPU ID 0, defaulting to 0. Your kernel may not have been built with NUMA support.\n",
      "2024-05-28 18:34:53.408333: I tensorflow/core/common_runtime/pluggable_device/pluggable_device_factory.cc:271] Created TensorFlow device (/job:localhost/replica:0/task:0/device:GPU:0 with 0 MB memory) -> physical PluggableDevice (device: 0, name: METAL, pci bus id: <undefined>)\n"
     ]
    },
    {
     "data": {
      "text/html": [
       "<pre style=\"white-space:pre;overflow-x:auto;line-height:normal;font-family:Menlo,'DejaVu Sans Mono',consolas,'Courier New',monospace\"><span style=\"font-weight: bold\">Model: \"sequential\"</span>\n",
       "</pre>\n"
      ],
      "text/plain": [
       "\u001b[1mModel: \"sequential\"\u001b[0m\n"
      ]
     },
     "metadata": {},
     "output_type": "display_data"
    },
    {
     "data": {
      "text/html": [
       "<pre style=\"white-space:pre;overflow-x:auto;line-height:normal;font-family:Menlo,'DejaVu Sans Mono',consolas,'Courier New',monospace\">┏━━━━━━━━━━━━━━━━━━━━━━━━━━━━━━━━━┳━━━━━━━━━━━━━━━━━━━━━━━━┳━━━━━━━━━━━━━━━┓\n",
       "┃<span style=\"font-weight: bold\"> Layer (type)                    </span>┃<span style=\"font-weight: bold\"> Output Shape           </span>┃<span style=\"font-weight: bold\">       Param # </span>┃\n",
       "┡━━━━━━━━━━━━━━━━━━━━━━━━━━━━━━━━━╇━━━━━━━━━━━━━━━━━━━━━━━━╇━━━━━━━━━━━━━━━┩\n",
       "│ embedding (<span style=\"color: #0087ff; text-decoration-color: #0087ff\">Embedding</span>)           │ (<span style=\"color: #00d7ff; text-decoration-color: #00d7ff\">None</span>, <span style=\"color: #00af00; text-decoration-color: #00af00\">30</span>, <span style=\"color: #00af00; text-decoration-color: #00af00\">7</span>)          │        <span style=\"color: #00af00; text-decoration-color: #00af00\">13,335</span> │\n",
       "├─────────────────────────────────┼────────────────────────┼───────────────┤\n",
       "│ global_average_pooling1d        │ (<span style=\"color: #00d7ff; text-decoration-color: #00d7ff\">None</span>, <span style=\"color: #00af00; text-decoration-color: #00af00\">7</span>)              │             <span style=\"color: #00af00; text-decoration-color: #00af00\">0</span> │\n",
       "│ (<span style=\"color: #0087ff; text-decoration-color: #0087ff\">GlobalAveragePooling1D</span>)        │                        │               │\n",
       "├─────────────────────────────────┼────────────────────────┼───────────────┤\n",
       "│ dense (<span style=\"color: #0087ff; text-decoration-color: #0087ff\">Dense</span>)                   │ (<span style=\"color: #00d7ff; text-decoration-color: #00d7ff\">None</span>, <span style=\"color: #00af00; text-decoration-color: #00af00\">100</span>)            │           <span style=\"color: #00af00; text-decoration-color: #00af00\">800</span> │\n",
       "├─────────────────────────────────┼────────────────────────┼───────────────┤\n",
       "│ dense_1 (<span style=\"color: #0087ff; text-decoration-color: #0087ff\">Dense</span>)                 │ (<span style=\"color: #00d7ff; text-decoration-color: #00d7ff\">None</span>, <span style=\"color: #00af00; text-decoration-color: #00af00\">50</span>)             │         <span style=\"color: #00af00; text-decoration-color: #00af00\">5,050</span> │\n",
       "├─────────────────────────────────┼────────────────────────┼───────────────┤\n",
       "│ dense_2 (<span style=\"color: #0087ff; text-decoration-color: #0087ff\">Dense</span>)                 │ (<span style=\"color: #00d7ff; text-decoration-color: #00d7ff\">None</span>, <span style=\"color: #00af00; text-decoration-color: #00af00\">2</span>)              │           <span style=\"color: #00af00; text-decoration-color: #00af00\">102</span> │\n",
       "└─────────────────────────────────┴────────────────────────┴───────────────┘\n",
       "</pre>\n"
      ],
      "text/plain": [
       "┏━━━━━━━━━━━━━━━━━━━━━━━━━━━━━━━━━┳━━━━━━━━━━━━━━━━━━━━━━━━┳━━━━━━━━━━━━━━━┓\n",
       "┃\u001b[1m \u001b[0m\u001b[1mLayer (type)                   \u001b[0m\u001b[1m \u001b[0m┃\u001b[1m \u001b[0m\u001b[1mOutput Shape          \u001b[0m\u001b[1m \u001b[0m┃\u001b[1m \u001b[0m\u001b[1m      Param #\u001b[0m\u001b[1m \u001b[0m┃\n",
       "┡━━━━━━━━━━━━━━━━━━━━━━━━━━━━━━━━━╇━━━━━━━━━━━━━━━━━━━━━━━━╇━━━━━━━━━━━━━━━┩\n",
       "│ embedding (\u001b[38;5;33mEmbedding\u001b[0m)           │ (\u001b[38;5;45mNone\u001b[0m, \u001b[38;5;34m30\u001b[0m, \u001b[38;5;34m7\u001b[0m)          │        \u001b[38;5;34m13,335\u001b[0m │\n",
       "├─────────────────────────────────┼────────────────────────┼───────────────┤\n",
       "│ global_average_pooling1d        │ (\u001b[38;5;45mNone\u001b[0m, \u001b[38;5;34m7\u001b[0m)              │             \u001b[38;5;34m0\u001b[0m │\n",
       "│ (\u001b[38;5;33mGlobalAveragePooling1D\u001b[0m)        │                        │               │\n",
       "├─────────────────────────────────┼────────────────────────┼───────────────┤\n",
       "│ dense (\u001b[38;5;33mDense\u001b[0m)                   │ (\u001b[38;5;45mNone\u001b[0m, \u001b[38;5;34m100\u001b[0m)            │           \u001b[38;5;34m800\u001b[0m │\n",
       "├─────────────────────────────────┼────────────────────────┼───────────────┤\n",
       "│ dense_1 (\u001b[38;5;33mDense\u001b[0m)                 │ (\u001b[38;5;45mNone\u001b[0m, \u001b[38;5;34m50\u001b[0m)             │         \u001b[38;5;34m5,050\u001b[0m │\n",
       "├─────────────────────────────────┼────────────────────────┼───────────────┤\n",
       "│ dense_2 (\u001b[38;5;33mDense\u001b[0m)                 │ (\u001b[38;5;45mNone\u001b[0m, \u001b[38;5;34m2\u001b[0m)              │           \u001b[38;5;34m102\u001b[0m │\n",
       "└─────────────────────────────────┴────────────────────────┴───────────────┘\n"
      ]
     },
     "metadata": {},
     "output_type": "display_data"
    },
    {
     "data": {
      "text/html": [
       "<pre style=\"white-space:pre;overflow-x:auto;line-height:normal;font-family:Menlo,'DejaVu Sans Mono',consolas,'Courier New',monospace\"><span style=\"font-weight: bold\"> Total params: </span><span style=\"color: #00af00; text-decoration-color: #00af00\">19,287</span> (75.34 KB)\n",
       "</pre>\n"
      ],
      "text/plain": [
       "\u001b[1m Total params: \u001b[0m\u001b[38;5;34m19,287\u001b[0m (75.34 KB)\n"
      ]
     },
     "metadata": {},
     "output_type": "display_data"
    },
    {
     "data": {
      "text/html": [
       "<pre style=\"white-space:pre;overflow-x:auto;line-height:normal;font-family:Menlo,'DejaVu Sans Mono',consolas,'Courier New',monospace\"><span style=\"font-weight: bold\"> Trainable params: </span><span style=\"color: #00af00; text-decoration-color: #00af00\">19,287</span> (75.34 KB)\n",
       "</pre>\n"
      ],
      "text/plain": [
       "\u001b[1m Trainable params: \u001b[0m\u001b[38;5;34m19,287\u001b[0m (75.34 KB)\n"
      ]
     },
     "metadata": {},
     "output_type": "display_data"
    },
    {
     "data": {
      "text/html": [
       "<pre style=\"white-space:pre;overflow-x:auto;line-height:normal;font-family:Menlo,'DejaVu Sans Mono',consolas,'Courier New',monospace\"><span style=\"font-weight: bold\"> Non-trainable params: </span><span style=\"color: #00af00; text-decoration-color: #00af00\">0</span> (0.00 B)\n",
       "</pre>\n"
      ],
      "text/plain": [
       "\u001b[1m Non-trainable params: \u001b[0m\u001b[38;5;34m0\u001b[0m (0.00 B)\n"
      ]
     },
     "metadata": {},
     "output_type": "display_data"
    }
   ],
   "source": [
    "#Create model\n",
    "\n",
    "#Define early stopping\n",
    "early_stopping_monitor = EarlyStopping(patience=2)\n",
    "\n",
    "model = Sequential()\n",
    "model.add(Embedding(vocab_size, max_sequence_embedding, input_shape = (training_padded.shape[1],)))\n",
    "model.add(GlobalAveragePooling1D())\n",
    "model.add(Dense(100, activation='relu'))\n",
    "model.add(Dense(50, activation='relu')) \n",
    "model.add(Dense(2, activation='softmax')) \n",
    "model.compile(loss='sparse_categorical_crossentropy',optimizer='adam', metrics=['accuracy'])  \n",
    "model.summary()"
   ]
  },
  {
   "cell_type": "code",
   "execution_count": 23,
   "id": "77b6b50c-caad-4d9a-a924-2ea1f2d1f6c8",
   "metadata": {
    "tags": []
   },
   "outputs": [
    {
     "name": "stdout",
     "output_type": "stream",
     "text": [
      "Epoch 1/10\n"
     ]
    },
    {
     "name": "stderr",
     "output_type": "stream",
     "text": [
      "2024-05-28 18:34:54.628007: I tensorflow/core/grappler/optimizers/custom_graph_optimizer_registry.cc:117] Plugin optimizer for device_type GPU is enabled.\n"
     ]
    },
    {
     "name": "stdout",
     "output_type": "stream",
     "text": [
      "\u001b[1m25/25\u001b[0m \u001b[32m━━━━━━━━━━━━━━━━━━━━\u001b[0m\u001b[37m\u001b[0m \u001b[1m6s\u001b[0m 58ms/step - accuracy: 0.5223 - loss: 0.6927 - val_accuracy: 0.4700 - val_loss: 0.6938\n",
      "Epoch 2/10\n",
      "\u001b[1m25/25\u001b[0m \u001b[32m━━━━━━━━━━━━━━━━━━━━\u001b[0m\u001b[37m\u001b[0m \u001b[1m0s\u001b[0m 10ms/step - accuracy: 0.5329 - loss: 0.6924 - val_accuracy: 0.5000 - val_loss: 0.6909\n",
      "Epoch 3/10\n",
      "\u001b[1m25/25\u001b[0m \u001b[32m━━━━━━━━━━━━━━━━━━━━\u001b[0m\u001b[37m\u001b[0m \u001b[1m0s\u001b[0m 10ms/step - accuracy: 0.5905 - loss: 0.6890 - val_accuracy: 0.4750 - val_loss: 0.6892\n",
      "Epoch 4/10\n",
      "\u001b[1m25/25\u001b[0m \u001b[32m━━━━━━━━━━━━━━━━━━━━\u001b[0m\u001b[37m\u001b[0m \u001b[1m0s\u001b[0m 9ms/step - accuracy: 0.6194 - loss: 0.6737 - val_accuracy: 0.7900 - val_loss: 0.6632\n",
      "Epoch 5/10\n",
      "\u001b[1m25/25\u001b[0m \u001b[32m━━━━━━━━━━━━━━━━━━━━\u001b[0m\u001b[37m\u001b[0m \u001b[1m0s\u001b[0m 9ms/step - accuracy: 0.8356 - loss: 0.6254 - val_accuracy: 0.7800 - val_loss: 0.6001\n",
      "Epoch 6/10\n",
      "\u001b[1m25/25\u001b[0m \u001b[32m━━━━━━━━━━━━━━━━━━━━\u001b[0m\u001b[37m\u001b[0m \u001b[1m0s\u001b[0m 9ms/step - accuracy: 0.8333 - loss: 0.5098 - val_accuracy: 0.5800 - val_loss: 0.6169\n",
      "Epoch 7/10\n",
      "\u001b[1m25/25\u001b[0m \u001b[32m━━━━━━━━━━━━━━━━━━━━\u001b[0m\u001b[37m\u001b[0m \u001b[1m0s\u001b[0m 10ms/step - accuracy: 0.8780 - loss: 0.3772 - val_accuracy: 0.7950 - val_loss: 0.4824\n",
      "Epoch 8/10\n",
      "\u001b[1m25/25\u001b[0m \u001b[32m━━━━━━━━━━━━━━━━━━━━\u001b[0m\u001b[37m\u001b[0m \u001b[1m0s\u001b[0m 10ms/step - accuracy: 0.9162 - loss: 0.2571 - val_accuracy: 0.7900 - val_loss: 0.4628\n",
      "Epoch 9/10\n",
      "\u001b[1m25/25\u001b[0m \u001b[32m━━━━━━━━━━━━━━━━━━━━\u001b[0m\u001b[37m\u001b[0m \u001b[1m0s\u001b[0m 10ms/step - accuracy: 0.9624 - loss: 0.1751 - val_accuracy: 0.8100 - val_loss: 0.4679\n",
      "Epoch 10/10\n",
      "\u001b[1m25/25\u001b[0m \u001b[32m━━━━━━━━━━━━━━━━━━━━\u001b[0m\u001b[37m\u001b[0m \u001b[1m0s\u001b[0m 10ms/step - accuracy: 0.9733 - loss: 0.1161 - val_accuracy: 0.7750 - val_loss: 0.5164\n"
     ]
    }
   ],
   "source": [
    "#Fit the model\n",
    "num_epochs=10\n",
    "history= model.fit(training_padded, training_label, batch_size=32, epochs=num_epochs, validation_data=(test_padded, test_label), callbacks=[early_stopping_monitor], verbose=True)"
   ]
  },
  {
   "cell_type": "code",
   "execution_count": 24,
   "id": "5a5135a3-a304-4f10-b649-b161c009349d",
   "metadata": {},
   "outputs": [
    {
     "data": {
      "image/png": "[encoded data removed]",
      "text/plain": [
       "<Figure size 640x480 with 1 Axes>"
      ]
     },
     "metadata": {},
     "output_type": "display_data"
    },
    {
     "data": {
      "text/plain": [
       "<Figure size 640x480 with 0 Axes>"
      ]
     },
     "metadata": {},
     "output_type": "display_data"
    }
   ],
   "source": [
    "plt.plot(history.history['accuracy'], label='acc')\n",
    "plt.plot(history.history['val_accuracy'], label='val_acc')\n",
    "plt.xlabel('Epochs')\n",
    "plt.ylabel('Accuracy Percentage')\n",
    "plt.title('Model Accuracy')\n",
    "plt.legend()\n",
    "plt.show()\n",
    "plt.savefig(\"Accuracy plot.jpg\")"
   ]
  },
  {
   "cell_type": "code",
   "execution_count": 25,
   "id": "c198cc26-e8f1-40c0-929e-15a9e53cd30d",
   "metadata": {
    "tags": []
   },
   "outputs": [
    {
     "data": {
      "image/png": "[encoded data removed]",
      "text/plain": [
       "<Figure size 640x480 with 1 Axes>"
      ]
     },
     "metadata": {},
     "output_type": "display_data"
    },
    {
     "data": {
      "text/plain": [
       "<Figure size 640x480 with 0 Axes>"
      ]
     },
     "metadata": {},
     "output_type": "display_data"
    }
   ],
   "source": [
    "plt.plot(history.history['loss'], label='loss')\n",
    "plt.plot(history.history['val_loss'], label='val_loss')\n",
    "plt.xlabel('Epochs')\n",
    "plt.ylabel('Validation Percentage')\n",
    "plt.title('Model Accuracy Loss')\n",
    "plt.legend()\n",
    "plt.show()\n",
    "plt.savefig(\"Loss plot.jpg\")"
   ]
  },
  {
   "cell_type": "code",
   "execution_count": 26,
   "id": "a6a00c17-beec-457e-9f83-ab639bb017d9",
   "metadata": {
    "tags": []
   },
   "outputs": [
    {
     "name": "stdout",
     "output_type": "stream",
     "text": [
      "Test loss: 0.5163717269897461/ Test accuracy: 0.7749999761581421\n"
     ]
    }
   ],
   "source": [
    "#Verify model accuracy on test data\n",
    "score= model.evaluate(test_padded, test_label, verbose=0)\n",
    "print(f'Test loss: {score[0]}/ Test accuracy: {score[1]}')"
   ]
  },
  {
   "cell_type": "code",
   "execution_count": 27,
   "id": "647a7c04-869e-4292-a734-35e60c0b8a99",
   "metadata": {
    "tags": []
   },
   "outputs": [
    {
     "name": "stdout",
     "output_type": "stream",
     "text": [
      "Test loss: 0.0946609303355217/ Test accuracy: 0.9825000166893005\n"
     ]
    }
   ],
   "source": [
    "#Verify model accuracy on training data \n",
    "score= model.evaluate(training_padded, training_label, verbose=0)\n",
    "print(f'Test loss: {score[0]}/ Test accuracy: {score[1]}')"
   ]
  },
  {
   "cell_type": "code",
   "execution_count": 28,
   "id": "b83dedf9-e007-432f-89d7-b2f2524b9f8c",
   "metadata": {
    "tags": []
   },
   "outputs": [],
   "source": [
    "#Save the model\n",
    "model.save('my_model.keras')"
   ]
  },
  {
   "cell_type": "code",
   "execution_count": 29,
   "id": "0844030c-011d-495a-b6be-39b5fa7ffade",
   "metadata": {
    "tags": []
   },
   "outputs": [],
   "source": [
    "#Load my model\n",
    "my_model=load_model('my_model.keras')"
   ]
  },
  {
   "cell_type": "code",
   "execution_count": 30,
   "id": "c02b3962-e1de-493d-a973-37027bdbe4fd",
   "metadata": {
    "tags": []
   },
   "outputs": [
    {
     "name": "stdout",
     "output_type": "stream",
     "text": [
      "\u001b[1m25/25\u001b[0m \u001b[32m━━━━━━━━━━━━━━━━━━━━\u001b[0m\u001b[37m\u001b[0m \u001b[1m0s\u001b[0m 2ms/step\n"
     ]
    }
   ],
   "source": [
    "#Perform predictions on training data\n",
    "predictions=my_model.predict(training_padded)"
   ]
  },
  {
   "cell_type": "code",
   "execution_count": 31,
   "id": "8e8e2d26-1aef-4f28-800c-cfbecaabc941",
   "metadata": {
    "tags": []
   },
   "outputs": [
    {
     "name": "stdout",
     "output_type": "stream",
     "text": [
      "\u001b[1m7/7\u001b[0m \u001b[32m━━━━━━━━━━━━━━━━━━━━\u001b[0m\u001b[37m\u001b[0m \u001b[1m0s\u001b[0m 10ms/step\n"
     ]
    }
   ],
   "source": [
    "#Perform predictions on test data\n",
    "predictions=my_model.predict(test_padded)"
   ]
  },
  {
   "cell_type": "code",
   "execution_count": 32,
   "id": "0e29a8a2-f3cd-4ca4-97cd-b1735f54d538",
   "metadata": {
    "tags": []
   },
   "outputs": [
    {
     "data": {
      "text/plain": [
       "825                                                                the shipping time was also very quick\n",
       "374    not a good item it worked for a while then started having problems in my auto reverse tape player\n",
       "488                                  then i exchanged for the same phone, even that had the same problem\n",
       "608                                                      it is cheap, and it feel and look just as cheap\n",
       "42                                                                             nice headset priced right\n",
       "                                                     ...                                                \n",
       "664                                                                   does everything it should and more\n",
       "962                                                                   also makes it easier to hold on to\n",
       "144                                        the phone takes forever to charge like 2 to 5 hours literally\n",
       "955                                                                                buttons are too small\n",
       "372                                                                           battery life is also great\n",
       "Name: Review, Length: 200, dtype: object"
      ]
     },
     "execution_count": 32,
     "metadata": {},
     "output_type": "execute_result"
    }
   ],
   "source": [
    "X_test"
   ]
  },
  {
   "cell_type": "code",
   "execution_count": 33,
   "id": "f973c54a-e089-408f-8c6f-371e0f5e4f5f",
   "metadata": {
    "tags": []
   },
   "outputs": [
    {
     "name": "stdout",
     "output_type": "stream",
     "text": [
      "Predicted review test: the phone takes forever to charge like 2 to 5 hours literally \n",
      ":\n",
      "Predicted: Positive review\n",
      "Actual: Negative review\n"
     ]
    }
   ],
   "source": [
    "##Verfy prediction sentiment\n",
    "i=144\n",
    "\n",
    "print(\"Predicted review test:\", X_test[i], \"\\n:\")\n",
    "print(\"Predicted:\", \"Negative\" if predictions [i][0] >= 0.5 else \"Positive\", \"review\")\n",
    "print(\"Actual:\", \"Negative\" if y_test[i] == 0 else \"Positive\", \"review\")"
   ]
  },
  {
   "cell_type": "code",
   "execution_count": null,
   "id": "106eb5a7-baf0-4c09-bf27-671b880fe151",
   "metadata": {},
   "outputs": [],
   "source": []
  }
 ],
 "metadata": {
  "kernelspec": {
   "display_name": "Python 3 (ipykernel)",
   "language": "python",
   "name": "python3"
  },
  "language_info": {
   "codemirror_mode": {
    "name": "ipython",
    "version": 3
   },
   "file_extension": ".py",
   "mimetype": "text/x-python",
   "name": "python",
   "nbconvert_exporter": "python",
   "pygments_lexer": "ipython3",
   "version": "3.11.4"
  }
 },
 "nbformat": 4,
 "nbformat_minor": 5
}
