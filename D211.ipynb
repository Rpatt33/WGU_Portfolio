{
 "cells": [
  {
   "cell_type": "code",
   "execution_count": 1,
   "id": "d79660ed-c0d7-42cf-87c3-8e969d9214b0",
   "metadata": {
    "tags": []
   },
   "outputs": [],
   "source": [
    "import pandas as pd\n",
    "import numpy as np\n",
    "import matplotlib.pyplot as plt\n",
    "%matplotlib inline\n",
    "import seaborn as sns"
   ]
  },
  {
   "cell_type": "code",
   "execution_count": 2,
   "id": "0f1ddf5a-43e6-4910-b420-da35ecc1e567",
   "metadata": {
    "tags": []
   },
   "outputs": [],
   "source": [
    "#Import csv file\n",
    "mdf= pd.read_csv('/Users/robertpatton/Desktop/Desktop - Robert’s MacBook Pro/D210/hospital data analysis.csv', index_col=0)"
   ]
  },
  {
   "cell_type": "code",
   "execution_count": 3,
   "id": "49ae109c-1bf4-4b97-9abd-2f0fbdd9298f",
   "metadata": {
    "tags": []
   },
   "outputs": [
    {
     "name": "stdout",
     "output_type": "stream",
     "text": [
      "<class 'pandas.core.frame.DataFrame'>\n",
      "Int64Index: 984 entries, 1 to 1000\n",
      "Data columns (total 9 columns):\n",
      " #   Column          Non-Null Count  Dtype \n",
      "---  ------          --------------  ----- \n",
      " 0   Age             984 non-null    int64 \n",
      " 1   Gender          984 non-null    object\n",
      " 2   Procedure       984 non-null    object\n",
      " 3   Condition       984 non-null    object\n",
      " 4   Cost            984 non-null    int64 \n",
      " 5   Length_of_Stay  984 non-null    int64 \n",
      " 6   Readmission     984 non-null    object\n",
      " 7   Outcome         984 non-null    object\n",
      " 8   Satisfaction    984 non-null    int64 \n",
      "dtypes: int64(4), object(5)\n",
      "memory usage: 76.9+ KB\n"
     ]
    }
   ],
   "source": [
    "mdf.info()"
   ]
  },
  {
   "cell_type": "code",
   "execution_count": 4,
   "id": "542b14f2-a596-4e31-a549-ae00d9d3dddd",
   "metadata": {
    "tags": []
   },
   "outputs": [
    {
     "data": {
      "text/plain": [
       "array(['Heart Disease', 'Diabetes', 'Fractured Arm', 'Stroke', 'Cancer',\n",
       "       'Hypertension', 'Appendicitis', 'Fractured Leg', 'Heart Attack',\n",
       "       'Allergic Reaction', 'Respiratory Infection', 'Prostate Cancer',\n",
       "       'Childbirth', 'Kidney Stones', 'Osteoarthritis'], dtype=object)"
      ]
     },
     "execution_count": 4,
     "metadata": {},
     "output_type": "execute_result"
    }
   ],
   "source": [
    "# get unique value\n",
    "mdf.Condition.unique()"
   ]
  },
  {
   "cell_type": "code",
   "execution_count": 5,
   "id": "4adc85dc-e437-4397-80d9-0c8fb8215c3d",
   "metadata": {},
   "outputs": [],
   "source": [
    "#assign integer to unique condition values\n",
    "def get_condition_id(Condition): \n",
    "    if Condition == 'Heart Disease':\n",
    "        return '1'\n",
    "    if Condition == 'Diabetes':\n",
    "        return '2'\n",
    "    if Condition == 'Fractured Arm':\n",
    "        return '3'\n",
    "    if Condition == 'Stroke':\n",
    "        return '4'\n",
    "    if Condition == 'Cancer':\n",
    "        return '5'\n",
    "    if Condition == 'Hypertension':\n",
    "        return '6'\n",
    "    if Condition == 'Appendicitis':\n",
    "        return '7'\n",
    "    if Condition == 'Fractured Leg':\n",
    "        return '8'\n",
    "    if Condition == 'Heart Attack':\n",
    "        return '9'\n",
    "    if Condition == 'Allergic Reaction':\n",
    "        return '10'\n",
    "    if Condition == 'Respiratory Infection':\n",
    "        return '11'\n",
    "    if Condition == 'Prostate Cancer':\n",
    "        return '12'\n",
    "    if Condition == 'Childbirth':\n",
    "        return '13'\n",
    "    if Condition == 'Kidney Stones':\n",
    "        return '14'\n",
    "    if Condition == 'Osteoarthritis':\n",
    "        return '15'\n",
    "\n",
    "# Apply the get_condition_id function and create condition id column\n",
    "mdf['Condition_ID'] = mdf['Condition'].apply(get_condition_id)"
   ]
  },
  {
   "cell_type": "code",
   "execution_count": 6,
   "id": "a13a4720-ecd2-4b1c-bd10-bf0bbe60dbb4",
   "metadata": {
    "tags": []
   },
   "outputs": [],
   "source": [
    "#assign integer to readmission values\n",
    "def get_readmission_id(Readmission):\n",
    "    if Readmission == 'Yes':\n",
    "        return '1'\n",
    "    if Readmission == 'No':\n",
    "        return '2'\n",
    "\n",
    "#apply the get_readmission_id function and create readmission id column\n",
    "mdf['Readmission_ID']= mdf['Readmission'].apply(get_readmission_id)"
   ]
  },
  {
   "cell_type": "code",
   "execution_count": 7,
   "id": "5527598d-ef20-4a49-bc1d-7b3cf259ddee",
   "metadata": {
    "tags": []
   },
   "outputs": [],
   "source": [
    "#export csv file\n",
    "mdf.to_csv(r'/Users/robertpatton/Desktop/D211_kaggle.csv')"
   ]
  },
  {
   "cell_type": "code",
   "execution_count": null,
   "id": "903a3fef-2bc9-47a6-a616-9260ac98add1",
   "metadata": {},
   "outputs": [],
   "source": []
  }
 ],
 "metadata": {
  "kernelspec": {
   "display_name": "Python 3 (ipykernel)",
   "language": "python",
   "name": "python3"
  },
  "language_info": {
   "codemirror_mode": {
    "name": "ipython",
    "version": 3
   },
   "file_extension": ".py",
   "mimetype": "text/x-python",
   "name": "python",
   "nbconvert_exporter": "python",
   "pygments_lexer": "ipython3",
   "version": "3.11.4"
  }
 },
 "nbformat": 4,
 "nbformat_minor": 5
}
